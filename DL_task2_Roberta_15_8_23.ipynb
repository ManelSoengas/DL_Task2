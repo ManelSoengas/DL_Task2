{
  "nbformat": 4,
  "nbformat_minor": 0,
  "metadata": {
    "colab": {
      "provenance": [],
      "gpuType": "T4",
      "include_colab_link": true
    },
    "kernelspec": {
      "name": "python3",
      "display_name": "Python 3"
    },
    "language_info": {
      "name": "python"
    },
    "accelerator": "GPU",
    "widgets": {
      "application/vnd.jupyter.widget-state+json": {
        "85e22fee8a7441b7a3eaf64d8d1afa1b": {
          "model_module": "@jupyter-widgets/controls",
          "model_name": "HBoxModel",
          "model_module_version": "1.5.0",
          "state": {
            "_dom_classes": [],
            "_model_module": "@jupyter-widgets/controls",
            "_model_module_version": "1.5.0",
            "_model_name": "HBoxModel",
            "_view_count": null,
            "_view_module": "@jupyter-widgets/controls",
            "_view_module_version": "1.5.0",
            "_view_name": "HBoxView",
            "box_style": "",
            "children": [
              "IPY_MODEL_46ee4e88b6274008a37d0892baaa638a",
              "IPY_MODEL_b66c07cc5a4744b4b3939246e0e1b10b",
              "IPY_MODEL_2d0a4018873d4f5c9261a4a906723290"
            ],
            "layout": "IPY_MODEL_72b6193e3e8c4ab79582241f7d68e665"
          }
        },
        "46ee4e88b6274008a37d0892baaa638a": {
          "model_module": "@jupyter-widgets/controls",
          "model_name": "HTMLModel",
          "model_module_version": "1.5.0",
          "state": {
            "_dom_classes": [],
            "_model_module": "@jupyter-widgets/controls",
            "_model_module_version": "1.5.0",
            "_model_name": "HTMLModel",
            "_view_count": null,
            "_view_module": "@jupyter-widgets/controls",
            "_view_module_version": "1.5.0",
            "_view_name": "HTMLView",
            "description": "",
            "description_tooltip": null,
            "layout": "IPY_MODEL_de1e0d4b5e8c4a46bb23ed4e5d937fd9",
            "placeholder": "​",
            "style": "IPY_MODEL_a22b6d087f384bcf877fffaae253c258",
            "value": "Downloading (…)olve/main/vocab.json: 100%"
          }
        },
        "b66c07cc5a4744b4b3939246e0e1b10b": {
          "model_module": "@jupyter-widgets/controls",
          "model_name": "FloatProgressModel",
          "model_module_version": "1.5.0",
          "state": {
            "_dom_classes": [],
            "_model_module": "@jupyter-widgets/controls",
            "_model_module_version": "1.5.0",
            "_model_name": "FloatProgressModel",
            "_view_count": null,
            "_view_module": "@jupyter-widgets/controls",
            "_view_module_version": "1.5.0",
            "_view_name": "ProgressView",
            "bar_style": "success",
            "description": "",
            "description_tooltip": null,
            "layout": "IPY_MODEL_2001e077bb2a469ea8e18e601a8b636d",
            "max": 898823,
            "min": 0,
            "orientation": "horizontal",
            "style": "IPY_MODEL_0aec192551c6456e9e2dd8ced3d5b79c",
            "value": 898823
          }
        },
        "2d0a4018873d4f5c9261a4a906723290": {
          "model_module": "@jupyter-widgets/controls",
          "model_name": "HTMLModel",
          "model_module_version": "1.5.0",
          "state": {
            "_dom_classes": [],
            "_model_module": "@jupyter-widgets/controls",
            "_model_module_version": "1.5.0",
            "_model_name": "HTMLModel",
            "_view_count": null,
            "_view_module": "@jupyter-widgets/controls",
            "_view_module_version": "1.5.0",
            "_view_name": "HTMLView",
            "description": "",
            "description_tooltip": null,
            "layout": "IPY_MODEL_aebe854da700425c9ff513386f689b4a",
            "placeholder": "​",
            "style": "IPY_MODEL_6ca6f82ff72b4a9896eedcc33c3b9a12",
            "value": " 899k/899k [00:00&lt;00:00, 21.3MB/s]"
          }
        },
        "72b6193e3e8c4ab79582241f7d68e665": {
          "model_module": "@jupyter-widgets/base",
          "model_name": "LayoutModel",
          "model_module_version": "1.2.0",
          "state": {
            "_model_module": "@jupyter-widgets/base",
            "_model_module_version": "1.2.0",
            "_model_name": "LayoutModel",
            "_view_count": null,
            "_view_module": "@jupyter-widgets/base",
            "_view_module_version": "1.2.0",
            "_view_name": "LayoutView",
            "align_content": null,
            "align_items": null,
            "align_self": null,
            "border": null,
            "bottom": null,
            "display": null,
            "flex": null,
            "flex_flow": null,
            "grid_area": null,
            "grid_auto_columns": null,
            "grid_auto_flow": null,
            "grid_auto_rows": null,
            "grid_column": null,
            "grid_gap": null,
            "grid_row": null,
            "grid_template_areas": null,
            "grid_template_columns": null,
            "grid_template_rows": null,
            "height": null,
            "justify_content": null,
            "justify_items": null,
            "left": null,
            "margin": null,
            "max_height": null,
            "max_width": null,
            "min_height": null,
            "min_width": null,
            "object_fit": null,
            "object_position": null,
            "order": null,
            "overflow": null,
            "overflow_x": null,
            "overflow_y": null,
            "padding": null,
            "right": null,
            "top": null,
            "visibility": null,
            "width": null
          }
        },
        "de1e0d4b5e8c4a46bb23ed4e5d937fd9": {
          "model_module": "@jupyter-widgets/base",
          "model_name": "LayoutModel",
          "model_module_version": "1.2.0",
          "state": {
            "_model_module": "@jupyter-widgets/base",
            "_model_module_version": "1.2.0",
            "_model_name": "LayoutModel",
            "_view_count": null,
            "_view_module": "@jupyter-widgets/base",
            "_view_module_version": "1.2.0",
            "_view_name": "LayoutView",
            "align_content": null,
            "align_items": null,
            "align_self": null,
            "border": null,
            "bottom": null,
            "display": null,
            "flex": null,
            "flex_flow": null,
            "grid_area": null,
            "grid_auto_columns": null,
            "grid_auto_flow": null,
            "grid_auto_rows": null,
            "grid_column": null,
            "grid_gap": null,
            "grid_row": null,
            "grid_template_areas": null,
            "grid_template_columns": null,
            "grid_template_rows": null,
            "height": null,
            "justify_content": null,
            "justify_items": null,
            "left": null,
            "margin": null,
            "max_height": null,
            "max_width": null,
            "min_height": null,
            "min_width": null,
            "object_fit": null,
            "object_position": null,
            "order": null,
            "overflow": null,
            "overflow_x": null,
            "overflow_y": null,
            "padding": null,
            "right": null,
            "top": null,
            "visibility": null,
            "width": null
          }
        },
        "a22b6d087f384bcf877fffaae253c258": {
          "model_module": "@jupyter-widgets/controls",
          "model_name": "DescriptionStyleModel",
          "model_module_version": "1.5.0",
          "state": {
            "_model_module": "@jupyter-widgets/controls",
            "_model_module_version": "1.5.0",
            "_model_name": "DescriptionStyleModel",
            "_view_count": null,
            "_view_module": "@jupyter-widgets/base",
            "_view_module_version": "1.2.0",
            "_view_name": "StyleView",
            "description_width": ""
          }
        },
        "2001e077bb2a469ea8e18e601a8b636d": {
          "model_module": "@jupyter-widgets/base",
          "model_name": "LayoutModel",
          "model_module_version": "1.2.0",
          "state": {
            "_model_module": "@jupyter-widgets/base",
            "_model_module_version": "1.2.0",
            "_model_name": "LayoutModel",
            "_view_count": null,
            "_view_module": "@jupyter-widgets/base",
            "_view_module_version": "1.2.0",
            "_view_name": "LayoutView",
            "align_content": null,
            "align_items": null,
            "align_self": null,
            "border": null,
            "bottom": null,
            "display": null,
            "flex": null,
            "flex_flow": null,
            "grid_area": null,
            "grid_auto_columns": null,
            "grid_auto_flow": null,
            "grid_auto_rows": null,
            "grid_column": null,
            "grid_gap": null,
            "grid_row": null,
            "grid_template_areas": null,
            "grid_template_columns": null,
            "grid_template_rows": null,
            "height": null,
            "justify_content": null,
            "justify_items": null,
            "left": null,
            "margin": null,
            "max_height": null,
            "max_width": null,
            "min_height": null,
            "min_width": null,
            "object_fit": null,
            "object_position": null,
            "order": null,
            "overflow": null,
            "overflow_x": null,
            "overflow_y": null,
            "padding": null,
            "right": null,
            "top": null,
            "visibility": null,
            "width": null
          }
        },
        "0aec192551c6456e9e2dd8ced3d5b79c": {
          "model_module": "@jupyter-widgets/controls",
          "model_name": "ProgressStyleModel",
          "model_module_version": "1.5.0",
          "state": {
            "_model_module": "@jupyter-widgets/controls",
            "_model_module_version": "1.5.0",
            "_model_name": "ProgressStyleModel",
            "_view_count": null,
            "_view_module": "@jupyter-widgets/base",
            "_view_module_version": "1.2.0",
            "_view_name": "StyleView",
            "bar_color": null,
            "description_width": ""
          }
        },
        "aebe854da700425c9ff513386f689b4a": {
          "model_module": "@jupyter-widgets/base",
          "model_name": "LayoutModel",
          "model_module_version": "1.2.0",
          "state": {
            "_model_module": "@jupyter-widgets/base",
            "_model_module_version": "1.2.0",
            "_model_name": "LayoutModel",
            "_view_count": null,
            "_view_module": "@jupyter-widgets/base",
            "_view_module_version": "1.2.0",
            "_view_name": "LayoutView",
            "align_content": null,
            "align_items": null,
            "align_self": null,
            "border": null,
            "bottom": null,
            "display": null,
            "flex": null,
            "flex_flow": null,
            "grid_area": null,
            "grid_auto_columns": null,
            "grid_auto_flow": null,
            "grid_auto_rows": null,
            "grid_column": null,
            "grid_gap": null,
            "grid_row": null,
            "grid_template_areas": null,
            "grid_template_columns": null,
            "grid_template_rows": null,
            "height": null,
            "justify_content": null,
            "justify_items": null,
            "left": null,
            "margin": null,
            "max_height": null,
            "max_width": null,
            "min_height": null,
            "min_width": null,
            "object_fit": null,
            "object_position": null,
            "order": null,
            "overflow": null,
            "overflow_x": null,
            "overflow_y": null,
            "padding": null,
            "right": null,
            "top": null,
            "visibility": null,
            "width": null
          }
        },
        "6ca6f82ff72b4a9896eedcc33c3b9a12": {
          "model_module": "@jupyter-widgets/controls",
          "model_name": "DescriptionStyleModel",
          "model_module_version": "1.5.0",
          "state": {
            "_model_module": "@jupyter-widgets/controls",
            "_model_module_version": "1.5.0",
            "_model_name": "DescriptionStyleModel",
            "_view_count": null,
            "_view_module": "@jupyter-widgets/base",
            "_view_module_version": "1.2.0",
            "_view_name": "StyleView",
            "description_width": ""
          }
        },
        "b0e2d6206470430ca923217b062d2179": {
          "model_module": "@jupyter-widgets/controls",
          "model_name": "HBoxModel",
          "model_module_version": "1.5.0",
          "state": {
            "_dom_classes": [],
            "_model_module": "@jupyter-widgets/controls",
            "_model_module_version": "1.5.0",
            "_model_name": "HBoxModel",
            "_view_count": null,
            "_view_module": "@jupyter-widgets/controls",
            "_view_module_version": "1.5.0",
            "_view_name": "HBoxView",
            "box_style": "",
            "children": [
              "IPY_MODEL_658e2c1854fc455c92df0c93ce0c450e",
              "IPY_MODEL_ab7f58e9c424451ab2283d229578f6fb",
              "IPY_MODEL_e5ab6c1cef524dfb96ea44a42a317479"
            ],
            "layout": "IPY_MODEL_f8cc8c18898e4d64a0f9c01fb66e12e8"
          }
        },
        "658e2c1854fc455c92df0c93ce0c450e": {
          "model_module": "@jupyter-widgets/controls",
          "model_name": "HTMLModel",
          "model_module_version": "1.5.0",
          "state": {
            "_dom_classes": [],
            "_model_module": "@jupyter-widgets/controls",
            "_model_module_version": "1.5.0",
            "_model_name": "HTMLModel",
            "_view_count": null,
            "_view_module": "@jupyter-widgets/controls",
            "_view_module_version": "1.5.0",
            "_view_name": "HTMLView",
            "description": "",
            "description_tooltip": null,
            "layout": "IPY_MODEL_1dfc6cbf1a6b4163beaba9375e3c297e",
            "placeholder": "​",
            "style": "IPY_MODEL_505c3225ac7c4b6787b4d99d4b06699a",
            "value": "Downloading (…)olve/main/merges.txt: 100%"
          }
        },
        "ab7f58e9c424451ab2283d229578f6fb": {
          "model_module": "@jupyter-widgets/controls",
          "model_name": "FloatProgressModel",
          "model_module_version": "1.5.0",
          "state": {
            "_dom_classes": [],
            "_model_module": "@jupyter-widgets/controls",
            "_model_module_version": "1.5.0",
            "_model_name": "FloatProgressModel",
            "_view_count": null,
            "_view_module": "@jupyter-widgets/controls",
            "_view_module_version": "1.5.0",
            "_view_name": "ProgressView",
            "bar_style": "success",
            "description": "",
            "description_tooltip": null,
            "layout": "IPY_MODEL_85a2df955a8942199154b8b0480fad96",
            "max": 456318,
            "min": 0,
            "orientation": "horizontal",
            "style": "IPY_MODEL_74d93860f0db484d9ca71a154f05c03f",
            "value": 456318
          }
        },
        "e5ab6c1cef524dfb96ea44a42a317479": {
          "model_module": "@jupyter-widgets/controls",
          "model_name": "HTMLModel",
          "model_module_version": "1.5.0",
          "state": {
            "_dom_classes": [],
            "_model_module": "@jupyter-widgets/controls",
            "_model_module_version": "1.5.0",
            "_model_name": "HTMLModel",
            "_view_count": null,
            "_view_module": "@jupyter-widgets/controls",
            "_view_module_version": "1.5.0",
            "_view_name": "HTMLView",
            "description": "",
            "description_tooltip": null,
            "layout": "IPY_MODEL_d1d8460254aa4db18e86ea924f907323",
            "placeholder": "​",
            "style": "IPY_MODEL_5f58194a89ff4033aca30690ed2fc39d",
            "value": " 456k/456k [00:00&lt;00:00, 646kB/s]"
          }
        },
        "f8cc8c18898e4d64a0f9c01fb66e12e8": {
          "model_module": "@jupyter-widgets/base",
          "model_name": "LayoutModel",
          "model_module_version": "1.2.0",
          "state": {
            "_model_module": "@jupyter-widgets/base",
            "_model_module_version": "1.2.0",
            "_model_name": "LayoutModel",
            "_view_count": null,
            "_view_module": "@jupyter-widgets/base",
            "_view_module_version": "1.2.0",
            "_view_name": "LayoutView",
            "align_content": null,
            "align_items": null,
            "align_self": null,
            "border": null,
            "bottom": null,
            "display": null,
            "flex": null,
            "flex_flow": null,
            "grid_area": null,
            "grid_auto_columns": null,
            "grid_auto_flow": null,
            "grid_auto_rows": null,
            "grid_column": null,
            "grid_gap": null,
            "grid_row": null,
            "grid_template_areas": null,
            "grid_template_columns": null,
            "grid_template_rows": null,
            "height": null,
            "justify_content": null,
            "justify_items": null,
            "left": null,
            "margin": null,
            "max_height": null,
            "max_width": null,
            "min_height": null,
            "min_width": null,
            "object_fit": null,
            "object_position": null,
            "order": null,
            "overflow": null,
            "overflow_x": null,
            "overflow_y": null,
            "padding": null,
            "right": null,
            "top": null,
            "visibility": null,
            "width": null
          }
        },
        "1dfc6cbf1a6b4163beaba9375e3c297e": {
          "model_module": "@jupyter-widgets/base",
          "model_name": "LayoutModel",
          "model_module_version": "1.2.0",
          "state": {
            "_model_module": "@jupyter-widgets/base",
            "_model_module_version": "1.2.0",
            "_model_name": "LayoutModel",
            "_view_count": null,
            "_view_module": "@jupyter-widgets/base",
            "_view_module_version": "1.2.0",
            "_view_name": "LayoutView",
            "align_content": null,
            "align_items": null,
            "align_self": null,
            "border": null,
            "bottom": null,
            "display": null,
            "flex": null,
            "flex_flow": null,
            "grid_area": null,
            "grid_auto_columns": null,
            "grid_auto_flow": null,
            "grid_auto_rows": null,
            "grid_column": null,
            "grid_gap": null,
            "grid_row": null,
            "grid_template_areas": null,
            "grid_template_columns": null,
            "grid_template_rows": null,
            "height": null,
            "justify_content": null,
            "justify_items": null,
            "left": null,
            "margin": null,
            "max_height": null,
            "max_width": null,
            "min_height": null,
            "min_width": null,
            "object_fit": null,
            "object_position": null,
            "order": null,
            "overflow": null,
            "overflow_x": null,
            "overflow_y": null,
            "padding": null,
            "right": null,
            "top": null,
            "visibility": null,
            "width": null
          }
        },
        "505c3225ac7c4b6787b4d99d4b06699a": {
          "model_module": "@jupyter-widgets/controls",
          "model_name": "DescriptionStyleModel",
          "model_module_version": "1.5.0",
          "state": {
            "_model_module": "@jupyter-widgets/controls",
            "_model_module_version": "1.5.0",
            "_model_name": "DescriptionStyleModel",
            "_view_count": null,
            "_view_module": "@jupyter-widgets/base",
            "_view_module_version": "1.2.0",
            "_view_name": "StyleView",
            "description_width": ""
          }
        },
        "85a2df955a8942199154b8b0480fad96": {
          "model_module": "@jupyter-widgets/base",
          "model_name": "LayoutModel",
          "model_module_version": "1.2.0",
          "state": {
            "_model_module": "@jupyter-widgets/base",
            "_model_module_version": "1.2.0",
            "_model_name": "LayoutModel",
            "_view_count": null,
            "_view_module": "@jupyter-widgets/base",
            "_view_module_version": "1.2.0",
            "_view_name": "LayoutView",
            "align_content": null,
            "align_items": null,
            "align_self": null,
            "border": null,
            "bottom": null,
            "display": null,
            "flex": null,
            "flex_flow": null,
            "grid_area": null,
            "grid_auto_columns": null,
            "grid_auto_flow": null,
            "grid_auto_rows": null,
            "grid_column": null,
            "grid_gap": null,
            "grid_row": null,
            "grid_template_areas": null,
            "grid_template_columns": null,
            "grid_template_rows": null,
            "height": null,
            "justify_content": null,
            "justify_items": null,
            "left": null,
            "margin": null,
            "max_height": null,
            "max_width": null,
            "min_height": null,
            "min_width": null,
            "object_fit": null,
            "object_position": null,
            "order": null,
            "overflow": null,
            "overflow_x": null,
            "overflow_y": null,
            "padding": null,
            "right": null,
            "top": null,
            "visibility": null,
            "width": null
          }
        },
        "74d93860f0db484d9ca71a154f05c03f": {
          "model_module": "@jupyter-widgets/controls",
          "model_name": "ProgressStyleModel",
          "model_module_version": "1.5.0",
          "state": {
            "_model_module": "@jupyter-widgets/controls",
            "_model_module_version": "1.5.0",
            "_model_name": "ProgressStyleModel",
            "_view_count": null,
            "_view_module": "@jupyter-widgets/base",
            "_view_module_version": "1.2.0",
            "_view_name": "StyleView",
            "bar_color": null,
            "description_width": ""
          }
        },
        "d1d8460254aa4db18e86ea924f907323": {
          "model_module": "@jupyter-widgets/base",
          "model_name": "LayoutModel",
          "model_module_version": "1.2.0",
          "state": {
            "_model_module": "@jupyter-widgets/base",
            "_model_module_version": "1.2.0",
            "_model_name": "LayoutModel",
            "_view_count": null,
            "_view_module": "@jupyter-widgets/base",
            "_view_module_version": "1.2.0",
            "_view_name": "LayoutView",
            "align_content": null,
            "align_items": null,
            "align_self": null,
            "border": null,
            "bottom": null,
            "display": null,
            "flex": null,
            "flex_flow": null,
            "grid_area": null,
            "grid_auto_columns": null,
            "grid_auto_flow": null,
            "grid_auto_rows": null,
            "grid_column": null,
            "grid_gap": null,
            "grid_row": null,
            "grid_template_areas": null,
            "grid_template_columns": null,
            "grid_template_rows": null,
            "height": null,
            "justify_content": null,
            "justify_items": null,
            "left": null,
            "margin": null,
            "max_height": null,
            "max_width": null,
            "min_height": null,
            "min_width": null,
            "object_fit": null,
            "object_position": null,
            "order": null,
            "overflow": null,
            "overflow_x": null,
            "overflow_y": null,
            "padding": null,
            "right": null,
            "top": null,
            "visibility": null,
            "width": null
          }
        },
        "5f58194a89ff4033aca30690ed2fc39d": {
          "model_module": "@jupyter-widgets/controls",
          "model_name": "DescriptionStyleModel",
          "model_module_version": "1.5.0",
          "state": {
            "_model_module": "@jupyter-widgets/controls",
            "_model_module_version": "1.5.0",
            "_model_name": "DescriptionStyleModel",
            "_view_count": null,
            "_view_module": "@jupyter-widgets/base",
            "_view_module_version": "1.2.0",
            "_view_name": "StyleView",
            "description_width": ""
          }
        },
        "48869a5ff5174356b3b88e48bb527d0d": {
          "model_module": "@jupyter-widgets/controls",
          "model_name": "HBoxModel",
          "model_module_version": "1.5.0",
          "state": {
            "_dom_classes": [],
            "_model_module": "@jupyter-widgets/controls",
            "_model_module_version": "1.5.0",
            "_model_name": "HBoxModel",
            "_view_count": null,
            "_view_module": "@jupyter-widgets/controls",
            "_view_module_version": "1.5.0",
            "_view_name": "HBoxView",
            "box_style": "",
            "children": [
              "IPY_MODEL_f48c2826c590491fa0553a1923b187ce",
              "IPY_MODEL_93e0810305334816ae5adfa696f2a517",
              "IPY_MODEL_0332dc7d57654319af7e681f572d0ee0"
            ],
            "layout": "IPY_MODEL_94217f1838644179952b84d57382d944"
          }
        },
        "f48c2826c590491fa0553a1923b187ce": {
          "model_module": "@jupyter-widgets/controls",
          "model_name": "HTMLModel",
          "model_module_version": "1.5.0",
          "state": {
            "_dom_classes": [],
            "_model_module": "@jupyter-widgets/controls",
            "_model_module_version": "1.5.0",
            "_model_name": "HTMLModel",
            "_view_count": null,
            "_view_module": "@jupyter-widgets/controls",
            "_view_module_version": "1.5.0",
            "_view_name": "HTMLView",
            "description": "",
            "description_tooltip": null,
            "layout": "IPY_MODEL_eaa6ab55be08455e82be182da7cebfd0",
            "placeholder": "​",
            "style": "IPY_MODEL_6d7859506f3c43cb91baa050fe643469",
            "value": "Downloading (…)/main/tokenizer.json: 100%"
          }
        },
        "93e0810305334816ae5adfa696f2a517": {
          "model_module": "@jupyter-widgets/controls",
          "model_name": "FloatProgressModel",
          "model_module_version": "1.5.0",
          "state": {
            "_dom_classes": [],
            "_model_module": "@jupyter-widgets/controls",
            "_model_module_version": "1.5.0",
            "_model_name": "FloatProgressModel",
            "_view_count": null,
            "_view_module": "@jupyter-widgets/controls",
            "_view_module_version": "1.5.0",
            "_view_name": "ProgressView",
            "bar_style": "success",
            "description": "",
            "description_tooltip": null,
            "layout": "IPY_MODEL_2d7f6855aa1a4e7f9c9505e32ed979cc",
            "max": 1355863,
            "min": 0,
            "orientation": "horizontal",
            "style": "IPY_MODEL_1b33946d37404f0fa415fb69620dc87c",
            "value": 1355863
          }
        },
        "0332dc7d57654319af7e681f572d0ee0": {
          "model_module": "@jupyter-widgets/controls",
          "model_name": "HTMLModel",
          "model_module_version": "1.5.0",
          "state": {
            "_dom_classes": [],
            "_model_module": "@jupyter-widgets/controls",
            "_model_module_version": "1.5.0",
            "_model_name": "HTMLModel",
            "_view_count": null,
            "_view_module": "@jupyter-widgets/controls",
            "_view_module_version": "1.5.0",
            "_view_name": "HTMLView",
            "description": "",
            "description_tooltip": null,
            "layout": "IPY_MODEL_5c1e1f835b164bd5a8350dd2fb994102",
            "placeholder": "​",
            "style": "IPY_MODEL_c205a542518e4cbda47989dd9910c0ef",
            "value": " 1.36M/1.36M [00:00&lt;00:00, 5.45MB/s]"
          }
        },
        "94217f1838644179952b84d57382d944": {
          "model_module": "@jupyter-widgets/base",
          "model_name": "LayoutModel",
          "model_module_version": "1.2.0",
          "state": {
            "_model_module": "@jupyter-widgets/base",
            "_model_module_version": "1.2.0",
            "_model_name": "LayoutModel",
            "_view_count": null,
            "_view_module": "@jupyter-widgets/base",
            "_view_module_version": "1.2.0",
            "_view_name": "LayoutView",
            "align_content": null,
            "align_items": null,
            "align_self": null,
            "border": null,
            "bottom": null,
            "display": null,
            "flex": null,
            "flex_flow": null,
            "grid_area": null,
            "grid_auto_columns": null,
            "grid_auto_flow": null,
            "grid_auto_rows": null,
            "grid_column": null,
            "grid_gap": null,
            "grid_row": null,
            "grid_template_areas": null,
            "grid_template_columns": null,
            "grid_template_rows": null,
            "height": null,
            "justify_content": null,
            "justify_items": null,
            "left": null,
            "margin": null,
            "max_height": null,
            "max_width": null,
            "min_height": null,
            "min_width": null,
            "object_fit": null,
            "object_position": null,
            "order": null,
            "overflow": null,
            "overflow_x": null,
            "overflow_y": null,
            "padding": null,
            "right": null,
            "top": null,
            "visibility": null,
            "width": null
          }
        },
        "eaa6ab55be08455e82be182da7cebfd0": {
          "model_module": "@jupyter-widgets/base",
          "model_name": "LayoutModel",
          "model_module_version": "1.2.0",
          "state": {
            "_model_module": "@jupyter-widgets/base",
            "_model_module_version": "1.2.0",
            "_model_name": "LayoutModel",
            "_view_count": null,
            "_view_module": "@jupyter-widgets/base",
            "_view_module_version": "1.2.0",
            "_view_name": "LayoutView",
            "align_content": null,
            "align_items": null,
            "align_self": null,
            "border": null,
            "bottom": null,
            "display": null,
            "flex": null,
            "flex_flow": null,
            "grid_area": null,
            "grid_auto_columns": null,
            "grid_auto_flow": null,
            "grid_auto_rows": null,
            "grid_column": null,
            "grid_gap": null,
            "grid_row": null,
            "grid_template_areas": null,
            "grid_template_columns": null,
            "grid_template_rows": null,
            "height": null,
            "justify_content": null,
            "justify_items": null,
            "left": null,
            "margin": null,
            "max_height": null,
            "max_width": null,
            "min_height": null,
            "min_width": null,
            "object_fit": null,
            "object_position": null,
            "order": null,
            "overflow": null,
            "overflow_x": null,
            "overflow_y": null,
            "padding": null,
            "right": null,
            "top": null,
            "visibility": null,
            "width": null
          }
        },
        "6d7859506f3c43cb91baa050fe643469": {
          "model_module": "@jupyter-widgets/controls",
          "model_name": "DescriptionStyleModel",
          "model_module_version": "1.5.0",
          "state": {
            "_model_module": "@jupyter-widgets/controls",
            "_model_module_version": "1.5.0",
            "_model_name": "DescriptionStyleModel",
            "_view_count": null,
            "_view_module": "@jupyter-widgets/base",
            "_view_module_version": "1.2.0",
            "_view_name": "StyleView",
            "description_width": ""
          }
        },
        "2d7f6855aa1a4e7f9c9505e32ed979cc": {
          "model_module": "@jupyter-widgets/base",
          "model_name": "LayoutModel",
          "model_module_version": "1.2.0",
          "state": {
            "_model_module": "@jupyter-widgets/base",
            "_model_module_version": "1.2.0",
            "_model_name": "LayoutModel",
            "_view_count": null,
            "_view_module": "@jupyter-widgets/base",
            "_view_module_version": "1.2.0",
            "_view_name": "LayoutView",
            "align_content": null,
            "align_items": null,
            "align_self": null,
            "border": null,
            "bottom": null,
            "display": null,
            "flex": null,
            "flex_flow": null,
            "grid_area": null,
            "grid_auto_columns": null,
            "grid_auto_flow": null,
            "grid_auto_rows": null,
            "grid_column": null,
            "grid_gap": null,
            "grid_row": null,
            "grid_template_areas": null,
            "grid_template_columns": null,
            "grid_template_rows": null,
            "height": null,
            "justify_content": null,
            "justify_items": null,
            "left": null,
            "margin": null,
            "max_height": null,
            "max_width": null,
            "min_height": null,
            "min_width": null,
            "object_fit": null,
            "object_position": null,
            "order": null,
            "overflow": null,
            "overflow_x": null,
            "overflow_y": null,
            "padding": null,
            "right": null,
            "top": null,
            "visibility": null,
            "width": null
          }
        },
        "1b33946d37404f0fa415fb69620dc87c": {
          "model_module": "@jupyter-widgets/controls",
          "model_name": "ProgressStyleModel",
          "model_module_version": "1.5.0",
          "state": {
            "_model_module": "@jupyter-widgets/controls",
            "_model_module_version": "1.5.0",
            "_model_name": "ProgressStyleModel",
            "_view_count": null,
            "_view_module": "@jupyter-widgets/base",
            "_view_module_version": "1.2.0",
            "_view_name": "StyleView",
            "bar_color": null,
            "description_width": ""
          }
        },
        "5c1e1f835b164bd5a8350dd2fb994102": {
          "model_module": "@jupyter-widgets/base",
          "model_name": "LayoutModel",
          "model_module_version": "1.2.0",
          "state": {
            "_model_module": "@jupyter-widgets/base",
            "_model_module_version": "1.2.0",
            "_model_name": "LayoutModel",
            "_view_count": null,
            "_view_module": "@jupyter-widgets/base",
            "_view_module_version": "1.2.0",
            "_view_name": "LayoutView",
            "align_content": null,
            "align_items": null,
            "align_self": null,
            "border": null,
            "bottom": null,
            "display": null,
            "flex": null,
            "flex_flow": null,
            "grid_area": null,
            "grid_auto_columns": null,
            "grid_auto_flow": null,
            "grid_auto_rows": null,
            "grid_column": null,
            "grid_gap": null,
            "grid_row": null,
            "grid_template_areas": null,
            "grid_template_columns": null,
            "grid_template_rows": null,
            "height": null,
            "justify_content": null,
            "justify_items": null,
            "left": null,
            "margin": null,
            "max_height": null,
            "max_width": null,
            "min_height": null,
            "min_width": null,
            "object_fit": null,
            "object_position": null,
            "order": null,
            "overflow": null,
            "overflow_x": null,
            "overflow_y": null,
            "padding": null,
            "right": null,
            "top": null,
            "visibility": null,
            "width": null
          }
        },
        "c205a542518e4cbda47989dd9910c0ef": {
          "model_module": "@jupyter-widgets/controls",
          "model_name": "DescriptionStyleModel",
          "model_module_version": "1.5.0",
          "state": {
            "_model_module": "@jupyter-widgets/controls",
            "_model_module_version": "1.5.0",
            "_model_name": "DescriptionStyleModel",
            "_view_count": null,
            "_view_module": "@jupyter-widgets/base",
            "_view_module_version": "1.2.0",
            "_view_name": "StyleView",
            "description_width": ""
          }
        },
        "9ce800d3c068409fbe19994ff3dd73b3": {
          "model_module": "@jupyter-widgets/controls",
          "model_name": "HBoxModel",
          "model_module_version": "1.5.0",
          "state": {
            "_dom_classes": [],
            "_model_module": "@jupyter-widgets/controls",
            "_model_module_version": "1.5.0",
            "_model_name": "HBoxModel",
            "_view_count": null,
            "_view_module": "@jupyter-widgets/controls",
            "_view_module_version": "1.5.0",
            "_view_name": "HBoxView",
            "box_style": "",
            "children": [
              "IPY_MODEL_90a609c9d13d4d598df66db1a4144982",
              "IPY_MODEL_baf8c66a1624433abb81a7e66a860b5d",
              "IPY_MODEL_8f1b6a5eecd1480186c27b9e61840aad"
            ],
            "layout": "IPY_MODEL_d793e0b07d7f4666b579e07c53f823bb"
          }
        },
        "90a609c9d13d4d598df66db1a4144982": {
          "model_module": "@jupyter-widgets/controls",
          "model_name": "HTMLModel",
          "model_module_version": "1.5.0",
          "state": {
            "_dom_classes": [],
            "_model_module": "@jupyter-widgets/controls",
            "_model_module_version": "1.5.0",
            "_model_name": "HTMLModel",
            "_view_count": null,
            "_view_module": "@jupyter-widgets/controls",
            "_view_module_version": "1.5.0",
            "_view_name": "HTMLView",
            "description": "",
            "description_tooltip": null,
            "layout": "IPY_MODEL_a7c2702d453f455faf3fba879db618ef",
            "placeholder": "​",
            "style": "IPY_MODEL_c7c9caf8e1ad4ff8bdeb847e25a43fd6",
            "value": "Downloading (…)lve/main/config.json: 100%"
          }
        },
        "baf8c66a1624433abb81a7e66a860b5d": {
          "model_module": "@jupyter-widgets/controls",
          "model_name": "FloatProgressModel",
          "model_module_version": "1.5.0",
          "state": {
            "_dom_classes": [],
            "_model_module": "@jupyter-widgets/controls",
            "_model_module_version": "1.5.0",
            "_model_name": "FloatProgressModel",
            "_view_count": null,
            "_view_module": "@jupyter-widgets/controls",
            "_view_module_version": "1.5.0",
            "_view_name": "ProgressView",
            "bar_style": "success",
            "description": "",
            "description_tooltip": null,
            "layout": "IPY_MODEL_2970b54203144699bbd08da39b3411ef",
            "max": 481,
            "min": 0,
            "orientation": "horizontal",
            "style": "IPY_MODEL_a6f0210d8bac4be09ff8476bc37a422d",
            "value": 481
          }
        },
        "8f1b6a5eecd1480186c27b9e61840aad": {
          "model_module": "@jupyter-widgets/controls",
          "model_name": "HTMLModel",
          "model_module_version": "1.5.0",
          "state": {
            "_dom_classes": [],
            "_model_module": "@jupyter-widgets/controls",
            "_model_module_version": "1.5.0",
            "_model_name": "HTMLModel",
            "_view_count": null,
            "_view_module": "@jupyter-widgets/controls",
            "_view_module_version": "1.5.0",
            "_view_name": "HTMLView",
            "description": "",
            "description_tooltip": null,
            "layout": "IPY_MODEL_33f94c351e6f4012812454bab284bd5b",
            "placeholder": "​",
            "style": "IPY_MODEL_e64ca4eb37644157b25ed4ec58d79843",
            "value": " 481/481 [00:00&lt;00:00, 10.9kB/s]"
          }
        },
        "d793e0b07d7f4666b579e07c53f823bb": {
          "model_module": "@jupyter-widgets/base",
          "model_name": "LayoutModel",
          "model_module_version": "1.2.0",
          "state": {
            "_model_module": "@jupyter-widgets/base",
            "_model_module_version": "1.2.0",
            "_model_name": "LayoutModel",
            "_view_count": null,
            "_view_module": "@jupyter-widgets/base",
            "_view_module_version": "1.2.0",
            "_view_name": "LayoutView",
            "align_content": null,
            "align_items": null,
            "align_self": null,
            "border": null,
            "bottom": null,
            "display": null,
            "flex": null,
            "flex_flow": null,
            "grid_area": null,
            "grid_auto_columns": null,
            "grid_auto_flow": null,
            "grid_auto_rows": null,
            "grid_column": null,
            "grid_gap": null,
            "grid_row": null,
            "grid_template_areas": null,
            "grid_template_columns": null,
            "grid_template_rows": null,
            "height": null,
            "justify_content": null,
            "justify_items": null,
            "left": null,
            "margin": null,
            "max_height": null,
            "max_width": null,
            "min_height": null,
            "min_width": null,
            "object_fit": null,
            "object_position": null,
            "order": null,
            "overflow": null,
            "overflow_x": null,
            "overflow_y": null,
            "padding": null,
            "right": null,
            "top": null,
            "visibility": null,
            "width": null
          }
        },
        "a7c2702d453f455faf3fba879db618ef": {
          "model_module": "@jupyter-widgets/base",
          "model_name": "LayoutModel",
          "model_module_version": "1.2.0",
          "state": {
            "_model_module": "@jupyter-widgets/base",
            "_model_module_version": "1.2.0",
            "_model_name": "LayoutModel",
            "_view_count": null,
            "_view_module": "@jupyter-widgets/base",
            "_view_module_version": "1.2.0",
            "_view_name": "LayoutView",
            "align_content": null,
            "align_items": null,
            "align_self": null,
            "border": null,
            "bottom": null,
            "display": null,
            "flex": null,
            "flex_flow": null,
            "grid_area": null,
            "grid_auto_columns": null,
            "grid_auto_flow": null,
            "grid_auto_rows": null,
            "grid_column": null,
            "grid_gap": null,
            "grid_row": null,
            "grid_template_areas": null,
            "grid_template_columns": null,
            "grid_template_rows": null,
            "height": null,
            "justify_content": null,
            "justify_items": null,
            "left": null,
            "margin": null,
            "max_height": null,
            "max_width": null,
            "min_height": null,
            "min_width": null,
            "object_fit": null,
            "object_position": null,
            "order": null,
            "overflow": null,
            "overflow_x": null,
            "overflow_y": null,
            "padding": null,
            "right": null,
            "top": null,
            "visibility": null,
            "width": null
          }
        },
        "c7c9caf8e1ad4ff8bdeb847e25a43fd6": {
          "model_module": "@jupyter-widgets/controls",
          "model_name": "DescriptionStyleModel",
          "model_module_version": "1.5.0",
          "state": {
            "_model_module": "@jupyter-widgets/controls",
            "_model_module_version": "1.5.0",
            "_model_name": "DescriptionStyleModel",
            "_view_count": null,
            "_view_module": "@jupyter-widgets/base",
            "_view_module_version": "1.2.0",
            "_view_name": "StyleView",
            "description_width": ""
          }
        },
        "2970b54203144699bbd08da39b3411ef": {
          "model_module": "@jupyter-widgets/base",
          "model_name": "LayoutModel",
          "model_module_version": "1.2.0",
          "state": {
            "_model_module": "@jupyter-widgets/base",
            "_model_module_version": "1.2.0",
            "_model_name": "LayoutModel",
            "_view_count": null,
            "_view_module": "@jupyter-widgets/base",
            "_view_module_version": "1.2.0",
            "_view_name": "LayoutView",
            "align_content": null,
            "align_items": null,
            "align_self": null,
            "border": null,
            "bottom": null,
            "display": null,
            "flex": null,
            "flex_flow": null,
            "grid_area": null,
            "grid_auto_columns": null,
            "grid_auto_flow": null,
            "grid_auto_rows": null,
            "grid_column": null,
            "grid_gap": null,
            "grid_row": null,
            "grid_template_areas": null,
            "grid_template_columns": null,
            "grid_template_rows": null,
            "height": null,
            "justify_content": null,
            "justify_items": null,
            "left": null,
            "margin": null,
            "max_height": null,
            "max_width": null,
            "min_height": null,
            "min_width": null,
            "object_fit": null,
            "object_position": null,
            "order": null,
            "overflow": null,
            "overflow_x": null,
            "overflow_y": null,
            "padding": null,
            "right": null,
            "top": null,
            "visibility": null,
            "width": null
          }
        },
        "a6f0210d8bac4be09ff8476bc37a422d": {
          "model_module": "@jupyter-widgets/controls",
          "model_name": "ProgressStyleModel",
          "model_module_version": "1.5.0",
          "state": {
            "_model_module": "@jupyter-widgets/controls",
            "_model_module_version": "1.5.0",
            "_model_name": "ProgressStyleModel",
            "_view_count": null,
            "_view_module": "@jupyter-widgets/base",
            "_view_module_version": "1.2.0",
            "_view_name": "StyleView",
            "bar_color": null,
            "description_width": ""
          }
        },
        "33f94c351e6f4012812454bab284bd5b": {
          "model_module": "@jupyter-widgets/base",
          "model_name": "LayoutModel",
          "model_module_version": "1.2.0",
          "state": {
            "_model_module": "@jupyter-widgets/base",
            "_model_module_version": "1.2.0",
            "_model_name": "LayoutModel",
            "_view_count": null,
            "_view_module": "@jupyter-widgets/base",
            "_view_module_version": "1.2.0",
            "_view_name": "LayoutView",
            "align_content": null,
            "align_items": null,
            "align_self": null,
            "border": null,
            "bottom": null,
            "display": null,
            "flex": null,
            "flex_flow": null,
            "grid_area": null,
            "grid_auto_columns": null,
            "grid_auto_flow": null,
            "grid_auto_rows": null,
            "grid_column": null,
            "grid_gap": null,
            "grid_row": null,
            "grid_template_areas": null,
            "grid_template_columns": null,
            "grid_template_rows": null,
            "height": null,
            "justify_content": null,
            "justify_items": null,
            "left": null,
            "margin": null,
            "max_height": null,
            "max_width": null,
            "min_height": null,
            "min_width": null,
            "object_fit": null,
            "object_position": null,
            "order": null,
            "overflow": null,
            "overflow_x": null,
            "overflow_y": null,
            "padding": null,
            "right": null,
            "top": null,
            "visibility": null,
            "width": null
          }
        },
        "e64ca4eb37644157b25ed4ec58d79843": {
          "model_module": "@jupyter-widgets/controls",
          "model_name": "DescriptionStyleModel",
          "model_module_version": "1.5.0",
          "state": {
            "_model_module": "@jupyter-widgets/controls",
            "_model_module_version": "1.5.0",
            "_model_name": "DescriptionStyleModel",
            "_view_count": null,
            "_view_module": "@jupyter-widgets/base",
            "_view_module_version": "1.2.0",
            "_view_name": "StyleView",
            "description_width": ""
          }
        },
        "0986736e541b43ceb3a178ab61aff5ca": {
          "model_module": "@jupyter-widgets/controls",
          "model_name": "HBoxModel",
          "model_module_version": "1.5.0",
          "state": {
            "_dom_classes": [],
            "_model_module": "@jupyter-widgets/controls",
            "_model_module_version": "1.5.0",
            "_model_name": "HBoxModel",
            "_view_count": null,
            "_view_module": "@jupyter-widgets/controls",
            "_view_module_version": "1.5.0",
            "_view_name": "HBoxView",
            "box_style": "",
            "children": [
              "IPY_MODEL_a7ecbc2b22904f78a463a208f802cfc4",
              "IPY_MODEL_b64b4c03754045d6b5c0c85b6251fd96",
              "IPY_MODEL_8047b4bcec384de48d711d5937d57ee3"
            ],
            "layout": "IPY_MODEL_200fc1cdaa1c474f854c85e07a090960"
          }
        },
        "a7ecbc2b22904f78a463a208f802cfc4": {
          "model_module": "@jupyter-widgets/controls",
          "model_name": "HTMLModel",
          "model_module_version": "1.5.0",
          "state": {
            "_dom_classes": [],
            "_model_module": "@jupyter-widgets/controls",
            "_model_module_version": "1.5.0",
            "_model_name": "HTMLModel",
            "_view_count": null,
            "_view_module": "@jupyter-widgets/controls",
            "_view_module_version": "1.5.0",
            "_view_name": "HTMLView",
            "description": "",
            "description_tooltip": null,
            "layout": "IPY_MODEL_ae088c8604414703afb621046c8e9bc5",
            "placeholder": "​",
            "style": "IPY_MODEL_23ef86c222d343d6b179f143e0ebdc19",
            "value": "Downloading model.safetensors: 100%"
          }
        },
        "b64b4c03754045d6b5c0c85b6251fd96": {
          "model_module": "@jupyter-widgets/controls",
          "model_name": "FloatProgressModel",
          "model_module_version": "1.5.0",
          "state": {
            "_dom_classes": [],
            "_model_module": "@jupyter-widgets/controls",
            "_model_module_version": "1.5.0",
            "_model_name": "FloatProgressModel",
            "_view_count": null,
            "_view_module": "@jupyter-widgets/controls",
            "_view_module_version": "1.5.0",
            "_view_name": "ProgressView",
            "bar_style": "success",
            "description": "",
            "description_tooltip": null,
            "layout": "IPY_MODEL_cf9f3251684b41fb8f5fbfc6b7381353",
            "max": 498818054,
            "min": 0,
            "orientation": "horizontal",
            "style": "IPY_MODEL_21373f326b7848ec8b8cb30ca5a248cf",
            "value": 498818054
          }
        },
        "8047b4bcec384de48d711d5937d57ee3": {
          "model_module": "@jupyter-widgets/controls",
          "model_name": "HTMLModel",
          "model_module_version": "1.5.0",
          "state": {
            "_dom_classes": [],
            "_model_module": "@jupyter-widgets/controls",
            "_model_module_version": "1.5.0",
            "_model_name": "HTMLModel",
            "_view_count": null,
            "_view_module": "@jupyter-widgets/controls",
            "_view_module_version": "1.5.0",
            "_view_name": "HTMLView",
            "description": "",
            "description_tooltip": null,
            "layout": "IPY_MODEL_39794c9079ee4c9f92f5473233e9c5c1",
            "placeholder": "​",
            "style": "IPY_MODEL_e58dba1e20ca4a6e854367825ba89204",
            "value": " 499M/499M [00:05&lt;00:00, 25.2MB/s]"
          }
        },
        "200fc1cdaa1c474f854c85e07a090960": {
          "model_module": "@jupyter-widgets/base",
          "model_name": "LayoutModel",
          "model_module_version": "1.2.0",
          "state": {
            "_model_module": "@jupyter-widgets/base",
            "_model_module_version": "1.2.0",
            "_model_name": "LayoutModel",
            "_view_count": null,
            "_view_module": "@jupyter-widgets/base",
            "_view_module_version": "1.2.0",
            "_view_name": "LayoutView",
            "align_content": null,
            "align_items": null,
            "align_self": null,
            "border": null,
            "bottom": null,
            "display": null,
            "flex": null,
            "flex_flow": null,
            "grid_area": null,
            "grid_auto_columns": null,
            "grid_auto_flow": null,
            "grid_auto_rows": null,
            "grid_column": null,
            "grid_gap": null,
            "grid_row": null,
            "grid_template_areas": null,
            "grid_template_columns": null,
            "grid_template_rows": null,
            "height": null,
            "justify_content": null,
            "justify_items": null,
            "left": null,
            "margin": null,
            "max_height": null,
            "max_width": null,
            "min_height": null,
            "min_width": null,
            "object_fit": null,
            "object_position": null,
            "order": null,
            "overflow": null,
            "overflow_x": null,
            "overflow_y": null,
            "padding": null,
            "right": null,
            "top": null,
            "visibility": null,
            "width": null
          }
        },
        "ae088c8604414703afb621046c8e9bc5": {
          "model_module": "@jupyter-widgets/base",
          "model_name": "LayoutModel",
          "model_module_version": "1.2.0",
          "state": {
            "_model_module": "@jupyter-widgets/base",
            "_model_module_version": "1.2.0",
            "_model_name": "LayoutModel",
            "_view_count": null,
            "_view_module": "@jupyter-widgets/base",
            "_view_module_version": "1.2.0",
            "_view_name": "LayoutView",
            "align_content": null,
            "align_items": null,
            "align_self": null,
            "border": null,
            "bottom": null,
            "display": null,
            "flex": null,
            "flex_flow": null,
            "grid_area": null,
            "grid_auto_columns": null,
            "grid_auto_flow": null,
            "grid_auto_rows": null,
            "grid_column": null,
            "grid_gap": null,
            "grid_row": null,
            "grid_template_areas": null,
            "grid_template_columns": null,
            "grid_template_rows": null,
            "height": null,
            "justify_content": null,
            "justify_items": null,
            "left": null,
            "margin": null,
            "max_height": null,
            "max_width": null,
            "min_height": null,
            "min_width": null,
            "object_fit": null,
            "object_position": null,
            "order": null,
            "overflow": null,
            "overflow_x": null,
            "overflow_y": null,
            "padding": null,
            "right": null,
            "top": null,
            "visibility": null,
            "width": null
          }
        },
        "23ef86c222d343d6b179f143e0ebdc19": {
          "model_module": "@jupyter-widgets/controls",
          "model_name": "DescriptionStyleModel",
          "model_module_version": "1.5.0",
          "state": {
            "_model_module": "@jupyter-widgets/controls",
            "_model_module_version": "1.5.0",
            "_model_name": "DescriptionStyleModel",
            "_view_count": null,
            "_view_module": "@jupyter-widgets/base",
            "_view_module_version": "1.2.0",
            "_view_name": "StyleView",
            "description_width": ""
          }
        },
        "cf9f3251684b41fb8f5fbfc6b7381353": {
          "model_module": "@jupyter-widgets/base",
          "model_name": "LayoutModel",
          "model_module_version": "1.2.0",
          "state": {
            "_model_module": "@jupyter-widgets/base",
            "_model_module_version": "1.2.0",
            "_model_name": "LayoutModel",
            "_view_count": null,
            "_view_module": "@jupyter-widgets/base",
            "_view_module_version": "1.2.0",
            "_view_name": "LayoutView",
            "align_content": null,
            "align_items": null,
            "align_self": null,
            "border": null,
            "bottom": null,
            "display": null,
            "flex": null,
            "flex_flow": null,
            "grid_area": null,
            "grid_auto_columns": null,
            "grid_auto_flow": null,
            "grid_auto_rows": null,
            "grid_column": null,
            "grid_gap": null,
            "grid_row": null,
            "grid_template_areas": null,
            "grid_template_columns": null,
            "grid_template_rows": null,
            "height": null,
            "justify_content": null,
            "justify_items": null,
            "left": null,
            "margin": null,
            "max_height": null,
            "max_width": null,
            "min_height": null,
            "min_width": null,
            "object_fit": null,
            "object_position": null,
            "order": null,
            "overflow": null,
            "overflow_x": null,
            "overflow_y": null,
            "padding": null,
            "right": null,
            "top": null,
            "visibility": null,
            "width": null
          }
        },
        "21373f326b7848ec8b8cb30ca5a248cf": {
          "model_module": "@jupyter-widgets/controls",
          "model_name": "ProgressStyleModel",
          "model_module_version": "1.5.0",
          "state": {
            "_model_module": "@jupyter-widgets/controls",
            "_model_module_version": "1.5.0",
            "_model_name": "ProgressStyleModel",
            "_view_count": null,
            "_view_module": "@jupyter-widgets/base",
            "_view_module_version": "1.2.0",
            "_view_name": "StyleView",
            "bar_color": null,
            "description_width": ""
          }
        },
        "39794c9079ee4c9f92f5473233e9c5c1": {
          "model_module": "@jupyter-widgets/base",
          "model_name": "LayoutModel",
          "model_module_version": "1.2.0",
          "state": {
            "_model_module": "@jupyter-widgets/base",
            "_model_module_version": "1.2.0",
            "_model_name": "LayoutModel",
            "_view_count": null,
            "_view_module": "@jupyter-widgets/base",
            "_view_module_version": "1.2.0",
            "_view_name": "LayoutView",
            "align_content": null,
            "align_items": null,
            "align_self": null,
            "border": null,
            "bottom": null,
            "display": null,
            "flex": null,
            "flex_flow": null,
            "grid_area": null,
            "grid_auto_columns": null,
            "grid_auto_flow": null,
            "grid_auto_rows": null,
            "grid_column": null,
            "grid_gap": null,
            "grid_row": null,
            "grid_template_areas": null,
            "grid_template_columns": null,
            "grid_template_rows": null,
            "height": null,
            "justify_content": null,
            "justify_items": null,
            "left": null,
            "margin": null,
            "max_height": null,
            "max_width": null,
            "min_height": null,
            "min_width": null,
            "object_fit": null,
            "object_position": null,
            "order": null,
            "overflow": null,
            "overflow_x": null,
            "overflow_y": null,
            "padding": null,
            "right": null,
            "top": null,
            "visibility": null,
            "width": null
          }
        },
        "e58dba1e20ca4a6e854367825ba89204": {
          "model_module": "@jupyter-widgets/controls",
          "model_name": "DescriptionStyleModel",
          "model_module_version": "1.5.0",
          "state": {
            "_model_module": "@jupyter-widgets/controls",
            "_model_module_version": "1.5.0",
            "_model_name": "DescriptionStyleModel",
            "_view_count": null,
            "_view_module": "@jupyter-widgets/base",
            "_view_module_version": "1.2.0",
            "_view_name": "StyleView",
            "description_width": ""
          }
        }
      }
    }
  },
  "cells": [
    {
      "cell_type": "markdown",
      "metadata": {
        "id": "view-in-github",
        "colab_type": "text"
      },
      "source": [
        "<a href=\"https://colab.research.google.com/github/ManelSoengas/DL_Task2/blob/main/DL_task2_Roberta_15_8_23.ipynb\" target=\"_parent\"><img src=\"https://colab.research.google.com/assets/colab-badge.svg\" alt=\"Open In Colab\"/></a>"
      ]
    },
    {
      "cell_type": "markdown",
      "source": [
        "# Utilizamos/no utilizamos los datos aumentados mediante la técnica de swapping. No utilizamos preprocesamiento de los tweets.Además la arquitectura contempla:\n",
        "\n",
        "\n",
        "1.   Dropout y early_stopping\n",
        "2.   Asignación de pesos en función del peso de la clase.\n",
        "3.   La configuración y arquitectura se mantienen.\n",
        "4.   Se utiliza RoBERTa para el idioma inglés.\n",
        "\n",
        "\n"
      ],
      "metadata": {
        "id": "CMwBHVl1XA5n"
      }
    },
    {
      "cell_type": "markdown",
      "source": [
        "# **Cargar los recursos necesarios.**"
      ],
      "metadata": {
        "id": "SRyuirYHXm1z"
      }
    },
    {
      "cell_type": "code",
      "execution_count": 1,
      "metadata": {
        "colab": {
          "base_uri": "https://localhost:8080/"
        },
        "id": "5o9gtxeNW6BK",
        "outputId": "d859f656-9ae8-453e-dfd8-a24326263ac4"
      },
      "outputs": [
        {
          "output_type": "stream",
          "name": "stdout",
          "text": [
            "Collecting transformers\n",
            "  Downloading transformers-4.32.0-py3-none-any.whl (7.5 MB)\n",
            "\u001b[2K     \u001b[90m━━━━━━━━━━━━━━━━━━━━━━━━━━━━━━━━━━━━━━━━\u001b[0m \u001b[32m7.5/7.5 MB\u001b[0m \u001b[31m51.5 MB/s\u001b[0m eta \u001b[36m0:00:00\u001b[0m\n",
            "\u001b[?25hRequirement already satisfied: filelock in /usr/local/lib/python3.10/dist-packages (from transformers) (3.12.2)\n",
            "Collecting huggingface-hub<1.0,>=0.15.1 (from transformers)\n",
            "  Downloading huggingface_hub-0.16.4-py3-none-any.whl (268 kB)\n",
            "\u001b[2K     \u001b[90m━━━━━━━━━━━━━━━━━━━━━━━━━━━━━━━━━━━━━━\u001b[0m \u001b[32m268.8/268.8 kB\u001b[0m \u001b[31m24.0 MB/s\u001b[0m eta \u001b[36m0:00:00\u001b[0m\n",
            "\u001b[?25hRequirement already satisfied: numpy>=1.17 in /usr/local/lib/python3.10/dist-packages (from transformers) (1.23.5)\n",
            "Requirement already satisfied: packaging>=20.0 in /usr/local/lib/python3.10/dist-packages (from transformers) (23.1)\n",
            "Requirement already satisfied: pyyaml>=5.1 in /usr/local/lib/python3.10/dist-packages (from transformers) (6.0.1)\n",
            "Requirement already satisfied: regex!=2019.12.17 in /usr/local/lib/python3.10/dist-packages (from transformers) (2023.6.3)\n",
            "Requirement already satisfied: requests in /usr/local/lib/python3.10/dist-packages (from transformers) (2.31.0)\n",
            "Collecting tokenizers!=0.11.3,<0.14,>=0.11.1 (from transformers)\n",
            "  Downloading tokenizers-0.13.3-cp310-cp310-manylinux_2_17_x86_64.manylinux2014_x86_64.whl (7.8 MB)\n",
            "\u001b[2K     \u001b[90m━━━━━━━━━━━━━━━━━━━━━━━━━━━━━━━━━━━━━━━━\u001b[0m \u001b[32m7.8/7.8 MB\u001b[0m \u001b[31m76.7 MB/s\u001b[0m eta \u001b[36m0:00:00\u001b[0m\n",
            "\u001b[?25hCollecting safetensors>=0.3.1 (from transformers)\n",
            "  Downloading safetensors-0.3.3-cp310-cp310-manylinux_2_17_x86_64.manylinux2014_x86_64.whl (1.3 MB)\n",
            "\u001b[2K     \u001b[90m━━━━━━━━━━━━━━━━━━━━━━━━━━━━━━━━━━━━━━━━\u001b[0m \u001b[32m1.3/1.3 MB\u001b[0m \u001b[31m63.7 MB/s\u001b[0m eta \u001b[36m0:00:00\u001b[0m\n",
            "\u001b[?25hRequirement already satisfied: tqdm>=4.27 in /usr/local/lib/python3.10/dist-packages (from transformers) (4.66.1)\n",
            "Requirement already satisfied: fsspec in /usr/local/lib/python3.10/dist-packages (from huggingface-hub<1.0,>=0.15.1->transformers) (2023.6.0)\n",
            "Requirement already satisfied: typing-extensions>=3.7.4.3 in /usr/local/lib/python3.10/dist-packages (from huggingface-hub<1.0,>=0.15.1->transformers) (4.7.1)\n",
            "Requirement already satisfied: charset-normalizer<4,>=2 in /usr/local/lib/python3.10/dist-packages (from requests->transformers) (3.2.0)\n",
            "Requirement already satisfied: idna<4,>=2.5 in /usr/local/lib/python3.10/dist-packages (from requests->transformers) (3.4)\n",
            "Requirement already satisfied: urllib3<3,>=1.21.1 in /usr/local/lib/python3.10/dist-packages (from requests->transformers) (2.0.4)\n",
            "Requirement already satisfied: certifi>=2017.4.17 in /usr/local/lib/python3.10/dist-packages (from requests->transformers) (2023.7.22)\n",
            "Installing collected packages: tokenizers, safetensors, huggingface-hub, transformers\n",
            "Successfully installed huggingface-hub-0.16.4 safetensors-0.3.3 tokenizers-0.13.3 transformers-4.32.0\n"
          ]
        }
      ],
      "source": [
        "import pandas as pd\n",
        "from sklearn.model_selection import train_test_split\n",
        "!pip install transformers\n",
        "from transformers import BertTokenizer, TFBertForSequenceClassification\n",
        "\n",
        "#transformers\n",
        "from transformers import BertTokenizerFast\n",
        "from transformers import TFBertModel\n",
        "from transformers import RobertaTokenizerFast\n",
        "from transformers import TFRobertaModel"
      ]
    },
    {
      "cell_type": "markdown",
      "source": [
        "#**Cargar los datos de entrada**"
      ],
      "metadata": {
        "id": "h0ed3H-qX1oQ"
      }
    },
    {
      "cell_type": "code",
      "source": [
        "from sklearn.utils import shuffle\n",
        "# Cargar datos preprocesados\n",
        "#train_data = pd.read_csv('/content/EXIST2021_training.tsv', delimiter=',', encoding='latin1')\n",
        "#test_data = pd.read_csv('/content/EXIST2021_test_labeled.tsv', delimiter=',', encoding='latin1')\n",
        "\n",
        "import pandas as pd\n",
        "\n",
        "# Leer los archivos TSV y seleccionar las columnas deseadas y filtrar por idioma 'es'\n",
        "test_data = pd.read_csv('/content/EXIST2021_test_labeled.tsv', sep='\\t', usecols=['text', 'language', 'task2']).loc[lambda df: df['language'] == 'en']\n",
        "train_data = pd.read_csv('/content/swapp_EXIST2021_training.tsv', sep='\\t', usecols=['text', 'language', 'task2']).loc[lambda df: df['language'] == 'en']\n",
        "#swapping data_set training\n",
        "# Mezclar los datos de entrenamiento\n",
        "shuffled_train_data = shuffle(train_data, random_state=42)\n",
        "\n",
        "# Mezclar los datos de prueba\n",
        "shuffled_test_data = shuffle(test_data, random_state=42)\n"
      ],
      "metadata": {
        "id": "8qArJBrhX8bv",
        "colab": {
          "base_uri": "https://localhost:8080/",
          "height": 390
        },
        "outputId": "3b4e8cba-1a12-45dd-9dac-ef0507c0d0ac"
      },
      "execution_count": null,
      "outputs": [
        {
          "output_type": "error",
          "ename": "FileNotFoundError",
          "evalue": "ignored",
          "traceback": [
            "\u001b[0;31m---------------------------------------------------------------------------\u001b[0m",
            "\u001b[0;31mFileNotFoundError\u001b[0m                         Traceback (most recent call last)",
            "\u001b[0;32m<ipython-input-2-0ecd382def16>\u001b[0m in \u001b[0;36m<cell line: 10>\u001b[0;34m()\u001b[0m\n\u001b[1;32m      8\u001b[0m \u001b[0;31m# Leer los archivos TSV y seleccionar las columnas deseadas y filtrar por idioma 'es'\u001b[0m\u001b[0;34m\u001b[0m\u001b[0;34m\u001b[0m\u001b[0m\n\u001b[1;32m      9\u001b[0m \u001b[0mtest_data\u001b[0m \u001b[0;34m=\u001b[0m \u001b[0mpd\u001b[0m\u001b[0;34m.\u001b[0m\u001b[0mread_csv\u001b[0m\u001b[0;34m(\u001b[0m\u001b[0;34m'/content/EXIST2021_test_labeled.tsv'\u001b[0m\u001b[0;34m,\u001b[0m \u001b[0msep\u001b[0m\u001b[0;34m=\u001b[0m\u001b[0;34m'\\t'\u001b[0m\u001b[0;34m,\u001b[0m \u001b[0musecols\u001b[0m\u001b[0;34m=\u001b[0m\u001b[0;34m[\u001b[0m\u001b[0;34m'text'\u001b[0m\u001b[0;34m,\u001b[0m \u001b[0;34m'language'\u001b[0m\u001b[0;34m,\u001b[0m \u001b[0;34m'task2'\u001b[0m\u001b[0;34m]\u001b[0m\u001b[0;34m)\u001b[0m\u001b[0;34m.\u001b[0m\u001b[0mloc\u001b[0m\u001b[0;34m[\u001b[0m\u001b[0;32mlambda\u001b[0m \u001b[0mdf\u001b[0m\u001b[0;34m:\u001b[0m \u001b[0mdf\u001b[0m\u001b[0;34m[\u001b[0m\u001b[0;34m'language'\u001b[0m\u001b[0;34m]\u001b[0m \u001b[0;34m==\u001b[0m \u001b[0;34m'en'\u001b[0m\u001b[0;34m]\u001b[0m\u001b[0;34m\u001b[0m\u001b[0;34m\u001b[0m\u001b[0m\n\u001b[0;32m---> 10\u001b[0;31m \u001b[0mtrain_data\u001b[0m \u001b[0;34m=\u001b[0m \u001b[0mpd\u001b[0m\u001b[0;34m.\u001b[0m\u001b[0mread_csv\u001b[0m\u001b[0;34m(\u001b[0m\u001b[0;34m'/content/swapp_EXIST2021_training.tsv'\u001b[0m\u001b[0;34m,\u001b[0m \u001b[0msep\u001b[0m\u001b[0;34m=\u001b[0m\u001b[0;34m'\\t'\u001b[0m\u001b[0;34m,\u001b[0m \u001b[0musecols\u001b[0m\u001b[0;34m=\u001b[0m\u001b[0;34m[\u001b[0m\u001b[0;34m'text'\u001b[0m\u001b[0;34m,\u001b[0m \u001b[0;34m'language'\u001b[0m\u001b[0;34m,\u001b[0m \u001b[0;34m'task2'\u001b[0m\u001b[0;34m]\u001b[0m\u001b[0;34m)\u001b[0m\u001b[0;34m.\u001b[0m\u001b[0mloc\u001b[0m\u001b[0;34m[\u001b[0m\u001b[0;32mlambda\u001b[0m \u001b[0mdf\u001b[0m\u001b[0;34m:\u001b[0m \u001b[0mdf\u001b[0m\u001b[0;34m[\u001b[0m\u001b[0;34m'language'\u001b[0m\u001b[0;34m]\u001b[0m \u001b[0;34m==\u001b[0m \u001b[0;34m'en'\u001b[0m\u001b[0;34m]\u001b[0m\u001b[0;34m\u001b[0m\u001b[0;34m\u001b[0m\u001b[0m\n\u001b[0m\u001b[1;32m     11\u001b[0m \u001b[0;31m#swapping data_set training\u001b[0m\u001b[0;34m\u001b[0m\u001b[0;34m\u001b[0m\u001b[0m\n\u001b[1;32m     12\u001b[0m \u001b[0;31m# Mezclar los datos de entrenamiento\u001b[0m\u001b[0;34m\u001b[0m\u001b[0;34m\u001b[0m\u001b[0m\n",
            "\u001b[0;32m/usr/local/lib/python3.10/dist-packages/pandas/util/_decorators.py\u001b[0m in \u001b[0;36mwrapper\u001b[0;34m(*args, **kwargs)\u001b[0m\n\u001b[1;32m    209\u001b[0m                 \u001b[0;32melse\u001b[0m\u001b[0;34m:\u001b[0m\u001b[0;34m\u001b[0m\u001b[0;34m\u001b[0m\u001b[0m\n\u001b[1;32m    210\u001b[0m                     \u001b[0mkwargs\u001b[0m\u001b[0;34m[\u001b[0m\u001b[0mnew_arg_name\u001b[0m\u001b[0;34m]\u001b[0m \u001b[0;34m=\u001b[0m \u001b[0mnew_arg_value\u001b[0m\u001b[0;34m\u001b[0m\u001b[0;34m\u001b[0m\u001b[0m\n\u001b[0;32m--> 211\u001b[0;31m             \u001b[0;32mreturn\u001b[0m \u001b[0mfunc\u001b[0m\u001b[0;34m(\u001b[0m\u001b[0;34m*\u001b[0m\u001b[0margs\u001b[0m\u001b[0;34m,\u001b[0m \u001b[0;34m**\u001b[0m\u001b[0mkwargs\u001b[0m\u001b[0;34m)\u001b[0m\u001b[0;34m\u001b[0m\u001b[0;34m\u001b[0m\u001b[0m\n\u001b[0m\u001b[1;32m    212\u001b[0m \u001b[0;34m\u001b[0m\u001b[0m\n\u001b[1;32m    213\u001b[0m         \u001b[0;32mreturn\u001b[0m \u001b[0mcast\u001b[0m\u001b[0;34m(\u001b[0m\u001b[0mF\u001b[0m\u001b[0;34m,\u001b[0m \u001b[0mwrapper\u001b[0m\u001b[0;34m)\u001b[0m\u001b[0;34m\u001b[0m\u001b[0;34m\u001b[0m\u001b[0m\n",
            "\u001b[0;32m/usr/local/lib/python3.10/dist-packages/pandas/util/_decorators.py\u001b[0m in \u001b[0;36mwrapper\u001b[0;34m(*args, **kwargs)\u001b[0m\n\u001b[1;32m    329\u001b[0m                     \u001b[0mstacklevel\u001b[0m\u001b[0;34m=\u001b[0m\u001b[0mfind_stack_level\u001b[0m\u001b[0;34m(\u001b[0m\u001b[0;34m)\u001b[0m\u001b[0;34m,\u001b[0m\u001b[0;34m\u001b[0m\u001b[0;34m\u001b[0m\u001b[0m\n\u001b[1;32m    330\u001b[0m                 )\n\u001b[0;32m--> 331\u001b[0;31m             \u001b[0;32mreturn\u001b[0m \u001b[0mfunc\u001b[0m\u001b[0;34m(\u001b[0m\u001b[0;34m*\u001b[0m\u001b[0margs\u001b[0m\u001b[0;34m,\u001b[0m \u001b[0;34m**\u001b[0m\u001b[0mkwargs\u001b[0m\u001b[0;34m)\u001b[0m\u001b[0;34m\u001b[0m\u001b[0;34m\u001b[0m\u001b[0m\n\u001b[0m\u001b[1;32m    332\u001b[0m \u001b[0;34m\u001b[0m\u001b[0m\n\u001b[1;32m    333\u001b[0m         \u001b[0;31m# error: \"Callable[[VarArg(Any), KwArg(Any)], Any]\" has no\u001b[0m\u001b[0;34m\u001b[0m\u001b[0;34m\u001b[0m\u001b[0m\n",
            "\u001b[0;32m/usr/local/lib/python3.10/dist-packages/pandas/io/parsers/readers.py\u001b[0m in \u001b[0;36mread_csv\u001b[0;34m(filepath_or_buffer, sep, delimiter, header, names, index_col, usecols, squeeze, prefix, mangle_dupe_cols, dtype, engine, converters, true_values, false_values, skipinitialspace, skiprows, skipfooter, nrows, na_values, keep_default_na, na_filter, verbose, skip_blank_lines, parse_dates, infer_datetime_format, keep_date_col, date_parser, dayfirst, cache_dates, iterator, chunksize, compression, thousands, decimal, lineterminator, quotechar, quoting, doublequote, escapechar, comment, encoding, encoding_errors, dialect, error_bad_lines, warn_bad_lines, on_bad_lines, delim_whitespace, low_memory, memory_map, float_precision, storage_options)\u001b[0m\n\u001b[1;32m    948\u001b[0m     \u001b[0mkwds\u001b[0m\u001b[0;34m.\u001b[0m\u001b[0mupdate\u001b[0m\u001b[0;34m(\u001b[0m\u001b[0mkwds_defaults\u001b[0m\u001b[0;34m)\u001b[0m\u001b[0;34m\u001b[0m\u001b[0;34m\u001b[0m\u001b[0m\n\u001b[1;32m    949\u001b[0m \u001b[0;34m\u001b[0m\u001b[0m\n\u001b[0;32m--> 950\u001b[0;31m     \u001b[0;32mreturn\u001b[0m \u001b[0m_read\u001b[0m\u001b[0;34m(\u001b[0m\u001b[0mfilepath_or_buffer\u001b[0m\u001b[0;34m,\u001b[0m \u001b[0mkwds\u001b[0m\u001b[0;34m)\u001b[0m\u001b[0;34m\u001b[0m\u001b[0;34m\u001b[0m\u001b[0m\n\u001b[0m\u001b[1;32m    951\u001b[0m \u001b[0;34m\u001b[0m\u001b[0m\n\u001b[1;32m    952\u001b[0m \u001b[0;34m\u001b[0m\u001b[0m\n",
            "\u001b[0;32m/usr/local/lib/python3.10/dist-packages/pandas/io/parsers/readers.py\u001b[0m in \u001b[0;36m_read\u001b[0;34m(filepath_or_buffer, kwds)\u001b[0m\n\u001b[1;32m    603\u001b[0m \u001b[0;34m\u001b[0m\u001b[0m\n\u001b[1;32m    604\u001b[0m     \u001b[0;31m# Create the parser.\u001b[0m\u001b[0;34m\u001b[0m\u001b[0;34m\u001b[0m\u001b[0m\n\u001b[0;32m--> 605\u001b[0;31m     \u001b[0mparser\u001b[0m \u001b[0;34m=\u001b[0m \u001b[0mTextFileReader\u001b[0m\u001b[0;34m(\u001b[0m\u001b[0mfilepath_or_buffer\u001b[0m\u001b[0;34m,\u001b[0m \u001b[0;34m**\u001b[0m\u001b[0mkwds\u001b[0m\u001b[0;34m)\u001b[0m\u001b[0;34m\u001b[0m\u001b[0;34m\u001b[0m\u001b[0m\n\u001b[0m\u001b[1;32m    606\u001b[0m \u001b[0;34m\u001b[0m\u001b[0m\n\u001b[1;32m    607\u001b[0m     \u001b[0;32mif\u001b[0m \u001b[0mchunksize\u001b[0m \u001b[0;32mor\u001b[0m \u001b[0miterator\u001b[0m\u001b[0;34m:\u001b[0m\u001b[0;34m\u001b[0m\u001b[0;34m\u001b[0m\u001b[0m\n",
            "\u001b[0;32m/usr/local/lib/python3.10/dist-packages/pandas/io/parsers/readers.py\u001b[0m in \u001b[0;36m__init__\u001b[0;34m(self, f, engine, **kwds)\u001b[0m\n\u001b[1;32m   1440\u001b[0m \u001b[0;34m\u001b[0m\u001b[0m\n\u001b[1;32m   1441\u001b[0m         \u001b[0mself\u001b[0m\u001b[0;34m.\u001b[0m\u001b[0mhandles\u001b[0m\u001b[0;34m:\u001b[0m \u001b[0mIOHandles\u001b[0m \u001b[0;34m|\u001b[0m \u001b[0;32mNone\u001b[0m \u001b[0;34m=\u001b[0m \u001b[0;32mNone\u001b[0m\u001b[0;34m\u001b[0m\u001b[0;34m\u001b[0m\u001b[0m\n\u001b[0;32m-> 1442\u001b[0;31m         \u001b[0mself\u001b[0m\u001b[0;34m.\u001b[0m\u001b[0m_engine\u001b[0m \u001b[0;34m=\u001b[0m \u001b[0mself\u001b[0m\u001b[0;34m.\u001b[0m\u001b[0m_make_engine\u001b[0m\u001b[0;34m(\u001b[0m\u001b[0mf\u001b[0m\u001b[0;34m,\u001b[0m \u001b[0mself\u001b[0m\u001b[0;34m.\u001b[0m\u001b[0mengine\u001b[0m\u001b[0;34m)\u001b[0m\u001b[0;34m\u001b[0m\u001b[0;34m\u001b[0m\u001b[0m\n\u001b[0m\u001b[1;32m   1443\u001b[0m \u001b[0;34m\u001b[0m\u001b[0m\n\u001b[1;32m   1444\u001b[0m     \u001b[0;32mdef\u001b[0m \u001b[0mclose\u001b[0m\u001b[0;34m(\u001b[0m\u001b[0mself\u001b[0m\u001b[0;34m)\u001b[0m \u001b[0;34m->\u001b[0m \u001b[0;32mNone\u001b[0m\u001b[0;34m:\u001b[0m\u001b[0;34m\u001b[0m\u001b[0;34m\u001b[0m\u001b[0m\n",
            "\u001b[0;32m/usr/local/lib/python3.10/dist-packages/pandas/io/parsers/readers.py\u001b[0m in \u001b[0;36m_make_engine\u001b[0;34m(self, f, engine)\u001b[0m\n\u001b[1;32m   1733\u001b[0m                 \u001b[0;32mif\u001b[0m \u001b[0;34m\"b\"\u001b[0m \u001b[0;32mnot\u001b[0m \u001b[0;32min\u001b[0m \u001b[0mmode\u001b[0m\u001b[0;34m:\u001b[0m\u001b[0;34m\u001b[0m\u001b[0;34m\u001b[0m\u001b[0m\n\u001b[1;32m   1734\u001b[0m                     \u001b[0mmode\u001b[0m \u001b[0;34m+=\u001b[0m \u001b[0;34m\"b\"\u001b[0m\u001b[0;34m\u001b[0m\u001b[0;34m\u001b[0m\u001b[0m\n\u001b[0;32m-> 1735\u001b[0;31m             self.handles = get_handle(\n\u001b[0m\u001b[1;32m   1736\u001b[0m                 \u001b[0mf\u001b[0m\u001b[0;34m,\u001b[0m\u001b[0;34m\u001b[0m\u001b[0;34m\u001b[0m\u001b[0m\n\u001b[1;32m   1737\u001b[0m                 \u001b[0mmode\u001b[0m\u001b[0;34m,\u001b[0m\u001b[0;34m\u001b[0m\u001b[0;34m\u001b[0m\u001b[0m\n",
            "\u001b[0;32m/usr/local/lib/python3.10/dist-packages/pandas/io/common.py\u001b[0m in \u001b[0;36mget_handle\u001b[0;34m(path_or_buf, mode, encoding, compression, memory_map, is_text, errors, storage_options)\u001b[0m\n\u001b[1;32m    854\u001b[0m         \u001b[0;32mif\u001b[0m \u001b[0mioargs\u001b[0m\u001b[0;34m.\u001b[0m\u001b[0mencoding\u001b[0m \u001b[0;32mand\u001b[0m \u001b[0;34m\"b\"\u001b[0m \u001b[0;32mnot\u001b[0m \u001b[0;32min\u001b[0m \u001b[0mioargs\u001b[0m\u001b[0;34m.\u001b[0m\u001b[0mmode\u001b[0m\u001b[0;34m:\u001b[0m\u001b[0;34m\u001b[0m\u001b[0;34m\u001b[0m\u001b[0m\n\u001b[1;32m    855\u001b[0m             \u001b[0;31m# Encoding\u001b[0m\u001b[0;34m\u001b[0m\u001b[0;34m\u001b[0m\u001b[0m\n\u001b[0;32m--> 856\u001b[0;31m             handle = open(\n\u001b[0m\u001b[1;32m    857\u001b[0m                 \u001b[0mhandle\u001b[0m\u001b[0;34m,\u001b[0m\u001b[0;34m\u001b[0m\u001b[0;34m\u001b[0m\u001b[0m\n\u001b[1;32m    858\u001b[0m                 \u001b[0mioargs\u001b[0m\u001b[0;34m.\u001b[0m\u001b[0mmode\u001b[0m\u001b[0;34m,\u001b[0m\u001b[0;34m\u001b[0m\u001b[0;34m\u001b[0m\u001b[0m\n",
            "\u001b[0;31mFileNotFoundError\u001b[0m: [Errno 2] No such file or directory: '/content/swapp_EXIST2021_training.tsv'"
          ]
        }
      ]
    },
    {
      "cell_type": "code",
      "source": [
        "import pandas as pd\n",
        "from sklearn.utils import shuffle\n",
        "test_data = pd.read_csv('/content/EXIST2021_test_labeled.tsv', sep='\\t', usecols=['text', 'language', 'task2']).loc[lambda df: df['language'] == 'en']\n",
        "#train_data = pd.read_csv('/content/EXIST2021_training.tsv', sep='\\t', usecols=['text', 'language', 'task2']).loc[lambda df: df['language'] == 'es']\n",
        "train_data = pd.read_csv('/content/EXIST2021_training.tsv', sep='\\t', usecols=['text', 'language', 'task2']).loc[lambda df: df['language'] =='en']\n",
        "train_data_en = pd.read_csv('/content/train_data_translated_en.csv', sep=',', usecols=['text', 'language', 'task2']).loc[lambda df: df['language'] == 'en']\n",
        "#swapp = pd.read_csv('/content/swapp_EXIST2021_training.tsv', sep='\\t', usecols=['text', 'language', 'task1']).loc[lambda df: df['language'] == 'es']"
      ],
      "metadata": {
        "id": "F-2PvPgbZAIH"
      },
      "execution_count": 2,
      "outputs": []
    },
    {
      "cell_type": "code",
      "source": [
        "import pandas as pd\n",
        "from sklearn.utils import shuffle\n",
        "test_data = test_data.loc[(test_data['task2'] != 'non-sexist') & (test_data['language'] == 'en')]\n",
        "train_data = train_data.loc[(train_data['task2'] != 'non-sexist') & (train_data['language'] == 'en')]\n",
        "train_data_en = train_data_en.loc[(train_data_en['task2'] != 'non-sexist') & (train_data_en['language'] == 'en')]\n",
        "train_data = shuffle(train_data, random_state=42)"
      ],
      "metadata": {
        "id": "OmLWk7hoZFj-"
      },
      "execution_count": 3,
      "outputs": []
    },
    {
      "cell_type": "code",
      "source": [
        "shape_train = train_data.shape\n",
        "print(shape_train)"
      ],
      "metadata": {
        "colab": {
          "base_uri": "https://localhost:8080/"
        },
        "id": "SCpuc0d5ggN2",
        "outputId": "57110b02-85e3-4466-96d9-68289224c6ba"
      },
      "execution_count": 4,
      "outputs": [
        {
          "output_type": "stream",
          "name": "stdout",
          "text": [
            "(1636, 3)\n"
          ]
        }
      ]
    },
    {
      "cell_type": "code",
      "source": [
        "shape_train_en = train_data_en.shape\n",
        "print(shape_train_en)"
      ],
      "metadata": {
        "colab": {
          "base_uri": "https://localhost:8080/"
        },
        "id": "fRl9yZwBghIb",
        "outputId": "93a77556-1f57-455f-bda1-0dc3af3c0075"
      },
      "execution_count": null,
      "outputs": [
        {
          "output_type": "stream",
          "name": "stdout",
          "text": [
            "(1741, 3)\n"
          ]
        }
      ]
    },
    {
      "cell_type": "code",
      "source": [
        "# Concatenar train_data y train_data_en en un único DataFrame llamado train_data\n",
        "train_data = pd.concat([train_data, train_data_en], ignore_index=True)\n"
      ],
      "metadata": {
        "id": "6M0FShHMgINy"
      },
      "execution_count": 5,
      "outputs": []
    },
    {
      "cell_type": "code",
      "source": [
        "shape_train = train_data.shape\n",
        "print(shape_train)"
      ],
      "metadata": {
        "colab": {
          "base_uri": "https://localhost:8080/"
        },
        "id": "I_AM0JB-g377",
        "outputId": "7df371be-9755-4bc5-fc52-e06be0740db7"
      },
      "execution_count": null,
      "outputs": [
        {
          "output_type": "stream",
          "name": "stdout",
          "text": [
            "(3377, 3)\n"
          ]
        }
      ]
    },
    {
      "cell_type": "code",
      "source": [
        "shuffled_train_data = shuffle(train_data, random_state=42)\n",
        "shuffled_test_data = shuffle(test_data, random_state=42)"
      ],
      "metadata": {
        "id": "21ZJG6l4ZbE4"
      },
      "execution_count": 6,
      "outputs": []
    },
    {
      "cell_type": "markdown",
      "source": [
        "# **Visualizar estructura de los datos**"
      ],
      "metadata": {
        "id": "1-kCU4HQYYWI"
      }
    },
    {
      "cell_type": "code",
      "source": [
        "shuffled_train_data.head(10)"
      ],
      "metadata": {
        "colab": {
          "base_uri": "https://localhost:8080/",
          "height": 363
        },
        "id": "-hWLo1nKYgBd",
        "outputId": "198a7c07-093b-4c18-e473-7ee3a62daebd"
      },
      "execution_count": null,
      "outputs": [
        {
          "output_type": "execute_result",
          "data": {
            "text/plain": [
              "     language                                               text  \\\n",
              "3263       en  @EstherPedroche It is a social construction. W...   \n",
              "144        en            You look like a prostitute whore Nancy.   \n",
              "1231       en  I just feel that some men have learned they ca...   \n",
              "3001       en  @olguitapip Her butt and hips fail, that's how...   \n",
              "1052       en  @billybobmcmanus @JaniceFiamengo Exactly!Femin...   \n",
              "3076       en  Dale hip, married and single, sweat the pear, ...   \n",
              "410        en       women are outdatedfemboys have replaced them   \n",
              "2575       en  @UltimaHoracom @D10py This weaker sex, disguis...   \n",
              "315        en  @ArrWulf Last panel/scene Main character: I gu...   \n",
              "2147       en  @cvgClau @_PonchoDeNigris She doesn't think an...   \n",
              "\n",
              "                             task2  \n",
              "3263        stereotyping-dominance  \n",
              "144                objectification  \n",
              "1231        ideological-inequality  \n",
              "3001               objectification  \n",
              "1052        ideological-inequality  \n",
              "3076               objectification  \n",
              "410   misogyny-non-sexual-violence  \n",
              "2575  misogyny-non-sexual-violence  \n",
              "315                sexual-violence  \n",
              "2147        stereotyping-dominance  "
            ],
            "text/html": [
              "\n",
              "  <div id=\"df-21f13e93-407e-4b9c-929e-67d5702e2a25\" class=\"colab-df-container\">\n",
              "    <div>\n",
              "<style scoped>\n",
              "    .dataframe tbody tr th:only-of-type {\n",
              "        vertical-align: middle;\n",
              "    }\n",
              "\n",
              "    .dataframe tbody tr th {\n",
              "        vertical-align: top;\n",
              "    }\n",
              "\n",
              "    .dataframe thead th {\n",
              "        text-align: right;\n",
              "    }\n",
              "</style>\n",
              "<table border=\"1\" class=\"dataframe\">\n",
              "  <thead>\n",
              "    <tr style=\"text-align: right;\">\n",
              "      <th></th>\n",
              "      <th>language</th>\n",
              "      <th>text</th>\n",
              "      <th>task2</th>\n",
              "    </tr>\n",
              "  </thead>\n",
              "  <tbody>\n",
              "    <tr>\n",
              "      <th>3263</th>\n",
              "      <td>en</td>\n",
              "      <td>@EstherPedroche It is a social construction. W...</td>\n",
              "      <td>stereotyping-dominance</td>\n",
              "    </tr>\n",
              "    <tr>\n",
              "      <th>144</th>\n",
              "      <td>en</td>\n",
              "      <td>You look like a prostitute whore Nancy.</td>\n",
              "      <td>objectification</td>\n",
              "    </tr>\n",
              "    <tr>\n",
              "      <th>1231</th>\n",
              "      <td>en</td>\n",
              "      <td>I just feel that some men have learned they ca...</td>\n",
              "      <td>ideological-inequality</td>\n",
              "    </tr>\n",
              "    <tr>\n",
              "      <th>3001</th>\n",
              "      <td>en</td>\n",
              "      <td>@olguitapip Her butt and hips fail, that's how...</td>\n",
              "      <td>objectification</td>\n",
              "    </tr>\n",
              "    <tr>\n",
              "      <th>1052</th>\n",
              "      <td>en</td>\n",
              "      <td>@billybobmcmanus @JaniceFiamengo Exactly!Femin...</td>\n",
              "      <td>ideological-inequality</td>\n",
              "    </tr>\n",
              "    <tr>\n",
              "      <th>3076</th>\n",
              "      <td>en</td>\n",
              "      <td>Dale hip, married and single, sweat the pear, ...</td>\n",
              "      <td>objectification</td>\n",
              "    </tr>\n",
              "    <tr>\n",
              "      <th>410</th>\n",
              "      <td>en</td>\n",
              "      <td>women are outdatedfemboys have replaced them</td>\n",
              "      <td>misogyny-non-sexual-violence</td>\n",
              "    </tr>\n",
              "    <tr>\n",
              "      <th>2575</th>\n",
              "      <td>en</td>\n",
              "      <td>@UltimaHoracom @D10py This weaker sex, disguis...</td>\n",
              "      <td>misogyny-non-sexual-violence</td>\n",
              "    </tr>\n",
              "    <tr>\n",
              "      <th>315</th>\n",
              "      <td>en</td>\n",
              "      <td>@ArrWulf Last panel/scene Main character: I gu...</td>\n",
              "      <td>sexual-violence</td>\n",
              "    </tr>\n",
              "    <tr>\n",
              "      <th>2147</th>\n",
              "      <td>en</td>\n",
              "      <td>@cvgClau @_PonchoDeNigris She doesn't think an...</td>\n",
              "      <td>stereotyping-dominance</td>\n",
              "    </tr>\n",
              "  </tbody>\n",
              "</table>\n",
              "</div>\n",
              "    <div class=\"colab-df-buttons\">\n",
              "\n",
              "  <div class=\"colab-df-container\">\n",
              "    <button class=\"colab-df-convert\" onclick=\"convertToInteractive('df-21f13e93-407e-4b9c-929e-67d5702e2a25')\"\n",
              "            title=\"Convert this dataframe to an interactive table.\"\n",
              "            style=\"display:none;\">\n",
              "\n",
              "  <svg xmlns=\"http://www.w3.org/2000/svg\" height=\"24px\" viewBox=\"0 -960 960 960\">\n",
              "    <path d=\"M120-120v-720h720v720H120Zm60-500h600v-160H180v160Zm220 220h160v-160H400v160Zm0 220h160v-160H400v160ZM180-400h160v-160H180v160Zm440 0h160v-160H620v160ZM180-180h160v-160H180v160Zm440 0h160v-160H620v160Z\"/>\n",
              "  </svg>\n",
              "    </button>\n",
              "\n",
              "  <style>\n",
              "    .colab-df-container {\n",
              "      display:flex;\n",
              "      gap: 12px;\n",
              "    }\n",
              "\n",
              "    .colab-df-convert {\n",
              "      background-color: #E8F0FE;\n",
              "      border: none;\n",
              "      border-radius: 50%;\n",
              "      cursor: pointer;\n",
              "      display: none;\n",
              "      fill: #1967D2;\n",
              "      height: 32px;\n",
              "      padding: 0 0 0 0;\n",
              "      width: 32px;\n",
              "    }\n",
              "\n",
              "    .colab-df-convert:hover {\n",
              "      background-color: #E2EBFA;\n",
              "      box-shadow: 0px 1px 2px rgba(60, 64, 67, 0.3), 0px 1px 3px 1px rgba(60, 64, 67, 0.15);\n",
              "      fill: #174EA6;\n",
              "    }\n",
              "\n",
              "    .colab-df-buttons div {\n",
              "      margin-bottom: 4px;\n",
              "    }\n",
              "\n",
              "    [theme=dark] .colab-df-convert {\n",
              "      background-color: #3B4455;\n",
              "      fill: #D2E3FC;\n",
              "    }\n",
              "\n",
              "    [theme=dark] .colab-df-convert:hover {\n",
              "      background-color: #434B5C;\n",
              "      box-shadow: 0px 1px 3px 1px rgba(0, 0, 0, 0.15);\n",
              "      filter: drop-shadow(0px 1px 2px rgba(0, 0, 0, 0.3));\n",
              "      fill: #FFFFFF;\n",
              "    }\n",
              "  </style>\n",
              "\n",
              "    <script>\n",
              "      const buttonEl =\n",
              "        document.querySelector('#df-21f13e93-407e-4b9c-929e-67d5702e2a25 button.colab-df-convert');\n",
              "      buttonEl.style.display =\n",
              "        google.colab.kernel.accessAllowed ? 'block' : 'none';\n",
              "\n",
              "      async function convertToInteractive(key) {\n",
              "        const element = document.querySelector('#df-21f13e93-407e-4b9c-929e-67d5702e2a25');\n",
              "        const dataTable =\n",
              "          await google.colab.kernel.invokeFunction('convertToInteractive',\n",
              "                                                    [key], {});\n",
              "        if (!dataTable) return;\n",
              "\n",
              "        const docLinkHtml = 'Like what you see? Visit the ' +\n",
              "          '<a target=\"_blank\" href=https://colab.research.google.com/notebooks/data_table.ipynb>data table notebook</a>'\n",
              "          + ' to learn more about interactive tables.';\n",
              "        element.innerHTML = '';\n",
              "        dataTable['output_type'] = 'display_data';\n",
              "        await google.colab.output.renderOutput(dataTable, element);\n",
              "        const docLink = document.createElement('div');\n",
              "        docLink.innerHTML = docLinkHtml;\n",
              "        element.appendChild(docLink);\n",
              "      }\n",
              "    </script>\n",
              "  </div>\n",
              "\n",
              "\n",
              "<div id=\"df-33ea7f07-9d9c-4223-aeac-c6943eb5feef\">\n",
              "  <button class=\"colab-df-quickchart\" onclick=\"quickchart('df-33ea7f07-9d9c-4223-aeac-c6943eb5feef')\"\n",
              "            title=\"Suggest charts.\"\n",
              "            style=\"display:none;\">\n",
              "\n",
              "<svg xmlns=\"http://www.w3.org/2000/svg\" height=\"24px\"viewBox=\"0 0 24 24\"\n",
              "     width=\"24px\">\n",
              "    <g>\n",
              "        <path d=\"M19 3H5c-1.1 0-2 .9-2 2v14c0 1.1.9 2 2 2h14c1.1 0 2-.9 2-2V5c0-1.1-.9-2-2-2zM9 17H7v-7h2v7zm4 0h-2V7h2v10zm4 0h-2v-4h2v4z\"/>\n",
              "    </g>\n",
              "</svg>\n",
              "  </button>\n",
              "\n",
              "<style>\n",
              "  .colab-df-quickchart {\n",
              "    background-color: #E8F0FE;\n",
              "    border: none;\n",
              "    border-radius: 50%;\n",
              "    cursor: pointer;\n",
              "    display: none;\n",
              "    fill: #1967D2;\n",
              "    height: 32px;\n",
              "    padding: 0 0 0 0;\n",
              "    width: 32px;\n",
              "  }\n",
              "\n",
              "  .colab-df-quickchart:hover {\n",
              "    background-color: #E2EBFA;\n",
              "    box-shadow: 0px 1px 2px rgba(60, 64, 67, 0.3), 0px 1px 3px 1px rgba(60, 64, 67, 0.15);\n",
              "    fill: #174EA6;\n",
              "  }\n",
              "\n",
              "  [theme=dark] .colab-df-quickchart {\n",
              "    background-color: #3B4455;\n",
              "    fill: #D2E3FC;\n",
              "  }\n",
              "\n",
              "  [theme=dark] .colab-df-quickchart:hover {\n",
              "    background-color: #434B5C;\n",
              "    box-shadow: 0px 1px 3px 1px rgba(0, 0, 0, 0.15);\n",
              "    filter: drop-shadow(0px 1px 2px rgba(0, 0, 0, 0.3));\n",
              "    fill: #FFFFFF;\n",
              "  }\n",
              "</style>\n",
              "\n",
              "  <script>\n",
              "    async function quickchart(key) {\n",
              "      const charts = await google.colab.kernel.invokeFunction(\n",
              "          'suggestCharts', [key], {});\n",
              "    }\n",
              "    (() => {\n",
              "      let quickchartButtonEl =\n",
              "        document.querySelector('#df-33ea7f07-9d9c-4223-aeac-c6943eb5feef button');\n",
              "      quickchartButtonEl.style.display =\n",
              "        google.colab.kernel.accessAllowed ? 'block' : 'none';\n",
              "    })();\n",
              "  </script>\n",
              "</div>\n",
              "    </div>\n",
              "  </div>\n"
            ]
          },
          "metadata": {},
          "execution_count": 7
        }
      ]
    },
    {
      "cell_type": "markdown",
      "source": [
        "# **Distribución de la clase objetivo**"
      ],
      "metadata": {
        "id": "XFprYcWEY_VR"
      }
    },
    {
      "cell_type": "code",
      "source": [
        "\n",
        "columna_clase_objetivo = \"task2\"\n",
        "\n",
        "df = shuffled_train_data\n",
        "\n",
        "# Contar la cantidad de categorías únicas en la columna de la clase objetivo\n",
        "cantidad_categorias = df[columna_clase_objetivo].nunique()\n",
        "\n",
        "# Contar la cantidad de muestras para cada categoría de la clase objetivo\n",
        "muestras_por_categoria = df[columna_clase_objetivo].value_counts()\n",
        "\n",
        "# Imprimir los resultados\n",
        "print(\"Cantidad de categorías:\", cantidad_categorias)\n",
        "print(\"Muestras por categoría:\")\n",
        "print(muestras_por_categoria)\n",
        "df.shape[0]"
      ],
      "metadata": {
        "colab": {
          "base_uri": "https://localhost:8080/"
        },
        "id": "bjrQCuJpZE-a",
        "outputId": "bb2ee280-46bb-4dd1-ea56-04c82a734fb0"
      },
      "execution_count": 7,
      "outputs": [
        {
          "output_type": "stream",
          "name": "stdout",
          "text": [
            "Cantidad de categorías: 5\n",
            "Muestras por categoría:\n",
            "ideological-inequality          866\n",
            "stereotyping-dominance          809\n",
            "misogyny-non-sexual-violence    685\n",
            "sexual-violence                 517\n",
            "objectification                 500\n",
            "Name: task2, dtype: int64\n"
          ]
        },
        {
          "output_type": "execute_result",
          "data": {
            "text/plain": [
              "3377"
            ]
          },
          "metadata": {},
          "execution_count": 7
        }
      ]
    },
    {
      "cell_type": "code",
      "source": [],
      "metadata": {
        "id": "BTr5TzbyDmQ3"
      },
      "execution_count": null,
      "outputs": []
    },
    {
      "cell_type": "markdown",
      "source": [
        "# **Carga de los recursos RoBERTa**"
      ],
      "metadata": {
        "id": "B15ojpf8ZcUq"
      }
    },
    {
      "cell_type": "code",
      "source": [
        "def tokenize_roberta(data,max_len=MAX_LEN) :\n",
        "    input_ids = []\n",
        "    attention_masks = []\n",
        "    for i in range(len(data)):\n",
        "        encoded = tokenizer_roberta.encode_plus(\n",
        "            data[i],\n",
        "            add_special_tokens=True,\n",
        "            max_length=max_len,\n",
        "            padding='max_length',\n",
        "            truncation=True,\n",
        "            truncation_strategy='longest_first',\n",
        "            return_attention_mask=True\n",
        "\n",
        "        )\n",
        "        input_ids.append(encoded['input_ids'])\n",
        "        attention_masks.append(encoded['attention_mask'])\n",
        "    return np.array(input_ids),np.array(attention_masks)"
      ],
      "metadata": {
        "id": "jtxv2AGzZjvd"
      },
      "execution_count": 9,
      "outputs": []
    },
    {
      "cell_type": "code",
      "source": [
        "tokenizer_roberta = RobertaTokenizerFast.from_pretrained(\"roberta-base\")\n"
      ],
      "metadata": {
        "colab": {
          "base_uri": "https://localhost:8080/",
          "height": 145,
          "referenced_widgets": [
            "85e22fee8a7441b7a3eaf64d8d1afa1b",
            "46ee4e88b6274008a37d0892baaa638a",
            "b66c07cc5a4744b4b3939246e0e1b10b",
            "2d0a4018873d4f5c9261a4a906723290",
            "72b6193e3e8c4ab79582241f7d68e665",
            "de1e0d4b5e8c4a46bb23ed4e5d937fd9",
            "a22b6d087f384bcf877fffaae253c258",
            "2001e077bb2a469ea8e18e601a8b636d",
            "0aec192551c6456e9e2dd8ced3d5b79c",
            "aebe854da700425c9ff513386f689b4a",
            "6ca6f82ff72b4a9896eedcc33c3b9a12",
            "b0e2d6206470430ca923217b062d2179",
            "658e2c1854fc455c92df0c93ce0c450e",
            "ab7f58e9c424451ab2283d229578f6fb",
            "e5ab6c1cef524dfb96ea44a42a317479",
            "f8cc8c18898e4d64a0f9c01fb66e12e8",
            "1dfc6cbf1a6b4163beaba9375e3c297e",
            "505c3225ac7c4b6787b4d99d4b06699a",
            "85a2df955a8942199154b8b0480fad96",
            "74d93860f0db484d9ca71a154f05c03f",
            "d1d8460254aa4db18e86ea924f907323",
            "5f58194a89ff4033aca30690ed2fc39d",
            "48869a5ff5174356b3b88e48bb527d0d",
            "f48c2826c590491fa0553a1923b187ce",
            "93e0810305334816ae5adfa696f2a517",
            "0332dc7d57654319af7e681f572d0ee0",
            "94217f1838644179952b84d57382d944",
            "eaa6ab55be08455e82be182da7cebfd0",
            "6d7859506f3c43cb91baa050fe643469",
            "2d7f6855aa1a4e7f9c9505e32ed979cc",
            "1b33946d37404f0fa415fb69620dc87c",
            "5c1e1f835b164bd5a8350dd2fb994102",
            "c205a542518e4cbda47989dd9910c0ef",
            "9ce800d3c068409fbe19994ff3dd73b3",
            "90a609c9d13d4d598df66db1a4144982",
            "baf8c66a1624433abb81a7e66a860b5d",
            "8f1b6a5eecd1480186c27b9e61840aad",
            "d793e0b07d7f4666b579e07c53f823bb",
            "a7c2702d453f455faf3fba879db618ef",
            "c7c9caf8e1ad4ff8bdeb847e25a43fd6",
            "2970b54203144699bbd08da39b3411ef",
            "a6f0210d8bac4be09ff8476bc37a422d",
            "33f94c351e6f4012812454bab284bd5b",
            "e64ca4eb37644157b25ed4ec58d79843"
          ]
        },
        "id": "mKcoQqRbZofG",
        "outputId": "82048948-eb09-421a-c517-83438c096781"
      },
      "execution_count": 10,
      "outputs": [
        {
          "output_type": "display_data",
          "data": {
            "text/plain": [
              "Downloading (…)olve/main/vocab.json:   0%|          | 0.00/899k [00:00<?, ?B/s]"
            ],
            "application/vnd.jupyter.widget-view+json": {
              "version_major": 2,
              "version_minor": 0,
              "model_id": "85e22fee8a7441b7a3eaf64d8d1afa1b"
            }
          },
          "metadata": {}
        },
        {
          "output_type": "display_data",
          "data": {
            "text/plain": [
              "Downloading (…)olve/main/merges.txt:   0%|          | 0.00/456k [00:00<?, ?B/s]"
            ],
            "application/vnd.jupyter.widget-view+json": {
              "version_major": 2,
              "version_minor": 0,
              "model_id": "b0e2d6206470430ca923217b062d2179"
            }
          },
          "metadata": {}
        },
        {
          "output_type": "display_data",
          "data": {
            "text/plain": [
              "Downloading (…)/main/tokenizer.json:   0%|          | 0.00/1.36M [00:00<?, ?B/s]"
            ],
            "application/vnd.jupyter.widget-view+json": {
              "version_major": 2,
              "version_minor": 0,
              "model_id": "48869a5ff5174356b3b88e48bb527d0d"
            }
          },
          "metadata": {}
        },
        {
          "output_type": "display_data",
          "data": {
            "text/plain": [
              "Downloading (…)lve/main/config.json:   0%|          | 0.00/481 [00:00<?, ?B/s]"
            ],
            "application/vnd.jupyter.widget-view+json": {
              "version_major": 2,
              "version_minor": 0,
              "model_id": "9ce800d3c068409fbe19994ff3dd73b3"
            }
          },
          "metadata": {}
        }
      ]
    },
    {
      "cell_type": "markdown",
      "source": [
        "# **Configuración**"
      ],
      "metadata": {
        "id": "if2let7VZxtl"
      }
    },
    {
      "cell_type": "code",
      "source": [
        "MAX_LEN=255\n"
      ],
      "metadata": {
        "id": "kjhBXPjrZ1Rs"
      },
      "execution_count": 8,
      "outputs": []
    },
    {
      "cell_type": "code",
      "source": [
        "X = shuffled_train_data['text'].values\n",
        "y = shuffled_train_data['task2'].values\n",
        "Z = shuffled_test_data['text'].values\n",
        "z = shuffled_test_data['task2'].values"
      ],
      "metadata": {
        "id": "e-vedHnnZ2cr"
      },
      "execution_count": 11,
      "outputs": []
    },
    {
      "cell_type": "code",
      "source": [
        "# Dividir los datos en entrenamiento y prueba\n",
        "train_text, val_text, train_task2, val_task2 = train_test_split(X, y, test_size=0.2, random_state=42)"
      ],
      "metadata": {
        "id": "Z701EW0waDLw"
      },
      "execution_count": 12,
      "outputs": []
    },
    {
      "cell_type": "markdown",
      "source": [
        "# **Codificación**"
      ],
      "metadata": {
        "id": "s44VodQQaFdm"
      }
    },
    {
      "cell_type": "code",
      "source": [
        "from sklearn.preprocessing import LabelEncoder, OneHotEncoder\n",
        "import numpy as np\n",
        "\n",
        "# Crear un objeto LabelEncoder para convertir las etiquetas de clase en valores numéricos\n",
        "label_encoder = LabelEncoder()\n",
        "\n",
        "# Ajustar el encoder con los datos de train_task2\n",
        "label_encoder.fit(train_task2)\n",
        "\n",
        "# Aplicar la transformación a los conjuntos de datos\n",
        "train_task2_encoded = label_encoder.transform(train_task2)\n",
        "val_task2_encoded = label_encoder.transform(val_task2)\n",
        "z_encoded = label_encoder.transform(z)\n",
        "\n",
        "# Ahora puedes usar train_task2_encoded, val_task2_encoded y z_encoded en tu modelo de clasificación\n",
        "\n",
        "# Si deseas codificar las etiquetas de clase como one-hot encoded, utiliza OneHotEncoder\n",
        "onehot_encoder = OneHotEncoder(sparse_output=False)\n",
        "\n",
        "# Ajustar el encoder one-hot con las etiquetas codificadas numéricamente\n",
        "onehot_encoder.fit(train_task2_encoded.reshape(-1, 1))\n",
        "\n",
        "# Aplicar la transformación one-hot a los conjuntos de datos\n",
        "train_task2_onehot = onehot_encoder.transform(train_task2_encoded.reshape(-1, 1))\n",
        "val_task2_onehot = onehot_encoder.transform(val_task2_encoded.reshape(-1, 1))\n",
        "z_onehot = onehot_encoder.transform(z_encoded.reshape(-1, 1))\n",
        "\n",
        "# Ahora train_task2_onehot, val_task2_onehot y z_onehot contienen las etiquetas de clase codificadas como one-hot"
      ],
      "metadata": {
        "id": "_dg-Vp89aKOt"
      },
      "execution_count": 13,
      "outputs": []
    },
    {
      "cell_type": "markdown",
      "source": [
        "Estoy utilizando **LabelBinarizer** de Scikit-Learn para convertir las etiquetas de clase en codificación one-hot. La principal diferencia aquí es que uso fit una vez para ajustar el codificador con las etiquetas de clase, y luego uso transform para convertir las etiquetas de cada conjunto de datos (entrenamiento, validación, prueba) en codificación one-hot. Esto asegura que las mismas transformaciones se apliquen a todas las etiquetas, lo que es importante para mantener la consistencia.\n",
        "\n"
      ],
      "metadata": {
        "id": "O9uAj6zFqAHz"
      }
    },
    {
      "cell_type": "code",
      "source": [
        "from sklearn.preprocessing import LabelBinarizer\n",
        "\n",
        "etiquetas_clase = [\"ideological-inequality\", \"stereotyping-dominance\", \"misogyny-non-sexual-violence\", \"sexual-violence\", \"objectification\"]\n",
        "\n",
        "# Crear un objeto LabelBinarizer para convertir las etiquetas de clase en one-hot encoding\n",
        "label_binarizer = LabelBinarizer()\n",
        "\n",
        "# Ajustar el LabelBinarizer con las etiquetas de clase\n",
        "label_binarizer.fit(etiquetas_clase)\n",
        "\n",
        "# Transformar las etiquetas de clase en one-hot encoding\n",
        "train_task2_onehot = label_binarizer.transform(train_task2)\n",
        "val_task2_onehot = label_binarizer.transform(val_task2)\n",
        "z_onehot = label_binarizer.transform(z)"
      ],
      "metadata": {
        "id": "vUUmRQPLekTX"
      },
      "execution_count": null,
      "outputs": []
    },
    {
      "cell_type": "code",
      "source": [
        "import numpy as np\n",
        "train_input_ids, train_attention_masks = tokenize_roberta(train_text, MAX_LEN)\n",
        "val_input_ids, val_attention_masks = tokenize_roberta(val_text, MAX_LEN)\n",
        "test_input_ids, test_attention_masks = tokenize_roberta(Z, MAX_LEN)"
      ],
      "metadata": {
        "id": "Y1tkHmdufT5N"
      },
      "execution_count": 14,
      "outputs": []
    },
    {
      "cell_type": "code",
      "source": [
        "print(train_input_ids.shape)\n",
        "print(val_input_ids.shape)\n",
        "print(test_input_ids.shape)"
      ],
      "metadata": {
        "colab": {
          "base_uri": "https://localhost:8080/"
        },
        "id": "-W-LDU0QfmVf",
        "outputId": "9adecd56-3e91-4b7d-b73a-92450fde1d7b"
      },
      "execution_count": 15,
      "outputs": [
        {
          "output_type": "stream",
          "name": "stdout",
          "text": [
            "(2701, 255)\n",
            "(676, 255)\n",
            "(1158, 255)\n"
          ]
        }
      ]
    },
    {
      "cell_type": "markdown",
      "source": [
        "# **Cáculo y asignación de los pesos**"
      ],
      "metadata": {
        "id": "izOhBZximwXM"
      }
    },
    {
      "cell_type": "code",
      "source": [
        "import numpy as np\n",
        "\n",
        "# Frecuencias de las categorías\n",
        "muestras_por_categoria = {\n",
        "    \"ideological-inequality\": 866,\n",
        "    \"stereotyping-dominance\": 809,\n",
        "    \"misogyny-non-sexual-violence\": 685,\n",
        "    \"sexual-violence\": 517,\n",
        "    \"objectification\": 508\n",
        "}\n",
        "\n",
        "total_muestras = sum(muestras_por_categoria.values())\n",
        "\n",
        "# Calcular las frecuencias relativas\n",
        "frecuencias_relativas = {cat: count / total_muestras for cat, count in muestras_por_categoria.items()}\n",
        "\n",
        "# Calcular los pesos inversamente proporcionales a las frecuencias\n",
        "pesos = {cat: 1 / freq for cat, freq in frecuencias_relativas.items()}\n",
        "\n",
        "# Normalizar los pesos\n",
        "suma_pesos = sum(pesos.values())\n",
        "pesos_normalizados = {cat: weight / suma_pesos for cat, weight in pesos.items()}\n",
        "\n",
        "print(pesos_normalizados)\n"
      ],
      "metadata": {
        "id": "bMdKY75Nmvf_",
        "colab": {
          "base_uri": "https://localhost:8080/"
        },
        "outputId": "4210464c-28eb-417e-e638-4974f929290a"
      },
      "execution_count": 16,
      "outputs": [
        {
          "output_type": "stream",
          "name": "stdout",
          "text": [
            "{'ideological-inequality': 0.1489322223134662, 'stereotyping-dominance': 0.15942559273604665, 'misogyny-non-sexual-violence': 0.18828511609264487, 'sexual-violence': 0.24946867412661844, 'objectification': 0.2538883947312239}\n"
          ]
        }
      ]
    },
    {
      "cell_type": "code",
      "source": [
        "import tensorflow as tf\n",
        "\n",
        "# Crear el tensor de pesos para la función de pérdida\n",
        "pesos_array = np.array(list(pesos_normalizados.values()))\n",
        "pesos_tensor = tf.constant(pesos_array, dtype=tf.float32)"
      ],
      "metadata": {
        "id": "dNQrNR9wpC3j"
      },
      "execution_count": 17,
      "outputs": []
    },
    {
      "cell_type": "code",
      "source": [
        "import tensorflow as tf\n",
        "\n",
        "def create_multiclass_model(bert_model, max_len=MAX_LEN):\n",
        "    opt = tf.keras.optimizers.Adam(learning_rate=1e-5)\n",
        "    #loss = tf.keras.losses.SparseCategoricalCrossentropy()\n",
        "    #accuracy = tf.keras.metrics.SparseCategoricalAccuracy()\n",
        "    #loss = tf.keras.losses.CategoricalCrossentropy()\n",
        "    loss = weighted_categorical_crossentropy  # Utilizamos la función con pesos\n",
        "\n",
        "    input_ids = tf.keras.Input(shape=(max_len,), dtype='int32')\n",
        "    attention_masks = tf.keras.Input(shape=(max_len,), dtype='int32')\n",
        "    output = bert_model([input_ids, attention_masks])\n",
        "    output = output[1]\n",
        "\n",
        "    # Agregar Dropout\n",
        "    output = tf.keras.layers.Dropout(0.5)(output)\n",
        "\n",
        "    # Cambiar la salida para clasificación multiclase (6 clases)\n",
        "    output = tf.keras.layers.Dense(5, activation='softmax')(output)\n",
        "\n",
        "    model = tf.keras.models.Model(inputs=[input_ids, attention_masks], outputs=output)\n",
        "\n",
        "    # Compilar el modelo\n",
        "    # Cambiar la métrica de BinaryAccuracy a CategoricalAccuracy\n",
        "    accuracy = tf.keras.metrics.CategoricalAccuracy()\n",
        "\n",
        "    # Compilar el modelo\n",
        "    model.compile(opt, loss=loss, metrics=[accuracy])\n",
        "\n",
        "    # Agregar Early Stopping\n",
        "    early_stopping = tf.keras.callbacks.EarlyStopping(patience=2, monitor='val_loss')\n",
        "\n",
        "    return model, early_stopping\n",
        "\n",
        "    # Función de pérdida ponderada\n",
        "#def weighted_categorical_crossentropy(y_true, y_pred):\n",
        "    # Aplicar los pesos solo a las muestras positivas (las que tienen etiqueta 1)\n",
        "    #weights = tf.reduce_sum(pesos_tensor * y_true, axis=1)\n",
        "    #unweighted_loss = tf.keras.losses.categorical_crossentropy(y_true, y_pred)\n",
        "    #weighted_loss = unweighted_loss * weights\n",
        "    #return tf.reduce_mean(weighted_loss)\n",
        "\n",
        "    # Función de pérdida ponderada\n",
        "def weighted_categorical_crossentropy(y_true, y_pred):\n",
        "    # Convertir y_true a float32\n",
        "    y_true = tf.cast(y_true, dtype=tf.float32)\n",
        "    # Aplicar los pesos solo a las muestras positivas (las que tienen etiqueta 1)\n",
        "    weights = tf.reduce_sum(pesos_tensor * y_true, axis=1)\n",
        "    unweighted_loss = tf.keras.losses.categorical_crossentropy(y_true, y_pred)\n",
        "    weighted_loss = unweighted_loss * weights\n",
        "    return tf.reduce_mean(weighted_loss)\n",
        "\n"
      ],
      "metadata": {
        "id": "PI_YmkFFf009"
      },
      "execution_count": 18,
      "outputs": []
    },
    {
      "cell_type": "code",
      "source": [
        "roberta_model = TFRobertaModel.from_pretrained('roberta-base')\n"
      ],
      "metadata": {
        "colab": {
          "base_uri": "https://localhost:8080/",
          "height": 156,
          "referenced_widgets": [
            "0986736e541b43ceb3a178ab61aff5ca",
            "a7ecbc2b22904f78a463a208f802cfc4",
            "b64b4c03754045d6b5c0c85b6251fd96",
            "8047b4bcec384de48d711d5937d57ee3",
            "200fc1cdaa1c474f854c85e07a090960",
            "ae088c8604414703afb621046c8e9bc5",
            "23ef86c222d343d6b179f143e0ebdc19",
            "cf9f3251684b41fb8f5fbfc6b7381353",
            "21373f326b7848ec8b8cb30ca5a248cf",
            "39794c9079ee4c9f92f5473233e9c5c1",
            "e58dba1e20ca4a6e854367825ba89204"
          ]
        },
        "id": "qYA-l9TVf3db",
        "outputId": "5fcc81b9-e35d-4467-ae76-2eac6501d1db"
      },
      "execution_count": 19,
      "outputs": [
        {
          "output_type": "display_data",
          "data": {
            "text/plain": [
              "Downloading model.safetensors:   0%|          | 0.00/499M [00:00<?, ?B/s]"
            ],
            "application/vnd.jupyter.widget-view+json": {
              "version_major": 2,
              "version_minor": 0,
              "model_id": "0986736e541b43ceb3a178ab61aff5ca"
            }
          },
          "metadata": {}
        },
        {
          "output_type": "stream",
          "name": "stderr",
          "text": [
            "Some weights of the PyTorch model were not used when initializing the TF 2.0 model TFRobertaModel: ['lm_head.dense.weight', 'lm_head.bias', 'lm_head.dense.bias', 'roberta.embeddings.position_ids', 'lm_head.layer_norm.bias', 'lm_head.layer_norm.weight']\n",
            "- This IS expected if you are initializing TFRobertaModel from a PyTorch model trained on another task or with another architecture (e.g. initializing a TFBertForSequenceClassification model from a BertForPreTraining model).\n",
            "- This IS NOT expected if you are initializing TFRobertaModel from a PyTorch model that you expect to be exactly identical (e.g. initializing a TFBertForSequenceClassification model from a BertForSequenceClassification model).\n",
            "Some weights or buffers of the TF 2.0 model TFRobertaModel were not initialized from the PyTorch model and are newly initialized: ['roberta.pooler.dense.weight', 'roberta.pooler.dense.bias']\n",
            "You should probably TRAIN this model on a down-stream task to be able to use it for predictions and inference.\n"
          ]
        }
      ]
    },
    {
      "cell_type": "code",
      "source": [
        "#model = create_model(roberta_model, MAX_LEN)\n",
        "model, early_stopping = create_multiclass_model(roberta_model, MAX_LEN)\n",
        "model.summary()"
      ],
      "metadata": {
        "colab": {
          "base_uri": "https://localhost:8080/"
        },
        "id": "wDjxXSHEf7LC",
        "outputId": "024d8183-df63-44fe-b5ff-d3dfd5b6bb38"
      },
      "execution_count": 20,
      "outputs": [
        {
          "output_type": "stream",
          "name": "stdout",
          "text": [
            "Model: \"model\"\n",
            "__________________________________________________________________________________________________\n",
            " Layer (type)                   Output Shape         Param #     Connected to                     \n",
            "==================================================================================================\n",
            " input_1 (InputLayer)           [(None, 255)]        0           []                               \n",
            "                                                                                                  \n",
            " input_2 (InputLayer)           [(None, 255)]        0           []                               \n",
            "                                                                                                  \n",
            " tf_roberta_model (TFRobertaMod  TFBaseModelOutputWi  124645632  ['input_1[0][0]',                \n",
            " el)                            thPoolingAndCrossAt               'input_2[0][0]']                \n",
            "                                tentions(last_hidde                                               \n",
            "                                n_state=(None, 255,                                               \n",
            "                                 768),                                                            \n",
            "                                 pooler_output=(Non                                               \n",
            "                                e, 768),                                                          \n",
            "                                 past_key_values=No                                               \n",
            "                                ne, hidden_states=N                                               \n",
            "                                one, attentions=Non                                               \n",
            "                                e, cross_attentions                                               \n",
            "                                =None)                                                            \n",
            "                                                                                                  \n",
            " dropout_37 (Dropout)           (None, 768)          0           ['tf_roberta_model[0][1]']       \n",
            "                                                                                                  \n",
            " dense (Dense)                  (None, 5)            3845        ['dropout_37[0][0]']             \n",
            "                                                                                                  \n",
            "==================================================================================================\n",
            "Total params: 124,649,477\n",
            "Trainable params: 124,649,477\n",
            "Non-trainable params: 0\n",
            "__________________________________________________________________________________________________\n"
          ]
        }
      ]
    },
    {
      "cell_type": "code",
      "source": [
        "#history_2 = model.fit([train_input_ids,train_attention_masks], train_task2_onehot, validation_data=([val_input_ids,val_attention_masks], val_task2_onehot), epochs=8, batch_size=16)\n",
        "history_2 = model.fit(\n",
        "    [train_input_ids, train_attention_masks], train_task2_onehot,\n",
        "    validation_data=([val_input_ids, val_attention_masks], val_task2_onehot),\n",
        "    epochs=8,\n",
        "    batch_size=32,\n",
        "    callbacks=[early_stopping]  # Aquí se añade la devolución anticipada como callback\n",
        ")"
      ],
      "metadata": {
        "colab": {
          "base_uri": "https://localhost:8080/"
        },
        "id": "FagKeOIZgM36",
        "outputId": "88e881af-0f8d-434d-8407-3a392d0e7a1a"
      },
      "execution_count": 21,
      "outputs": [
        {
          "output_type": "stream",
          "name": "stdout",
          "text": [
            "Epoch 1/8\n",
            "85/85 [==============================] - 240s 2s/step - loss: 0.2949 - categorical_accuracy: 0.3084 - val_loss: 0.2172 - val_categorical_accuracy: 0.5325\n",
            "Epoch 2/8\n",
            "85/85 [==============================] - 159s 2s/step - loss: 0.1991 - categorical_accuracy: 0.6138 - val_loss: 0.1823 - val_categorical_accuracy: 0.6479\n",
            "Epoch 3/8\n",
            "85/85 [==============================] - 157s 2s/step - loss: 0.1590 - categorical_accuracy: 0.6897 - val_loss: 0.1804 - val_categorical_accuracy: 0.6553\n",
            "Epoch 4/8\n",
            "85/85 [==============================] - 157s 2s/step - loss: 0.1283 - categorical_accuracy: 0.7638 - val_loss: 0.1936 - val_categorical_accuracy: 0.6450\n",
            "Epoch 5/8\n",
            "85/85 [==============================] - 157s 2s/step - loss: 0.1038 - categorical_accuracy: 0.8041 - val_loss: 0.2023 - val_categorical_accuracy: 0.6524\n"
          ]
        }
      ]
    },
    {
      "cell_type": "code",
      "source": [
        "result_roberta = model.predict([test_input_ids,test_attention_masks])\n",
        "\n",
        "\n"
      ],
      "metadata": {
        "colab": {
          "base_uri": "https://localhost:8080/"
        },
        "id": "dJxjCJguh-A4",
        "outputId": "063ab211-51cf-4a25-d2c7-6fedb72d5d4f"
      },
      "execution_count": 22,
      "outputs": [
        {
          "output_type": "stream",
          "name": "stdout",
          "text": [
            "37/37 [==============================] - 23s 537ms/step\n"
          ]
        }
      ]
    },
    {
      "cell_type": "code",
      "source": [
        "\n",
        "predicted_labels = np.argmax(result_roberta, axis=1)\n"
      ],
      "metadata": {
        "id": "wpsP6zxlz2t8"
      },
      "execution_count": 23,
      "outputs": []
    },
    {
      "cell_type": "code",
      "source": [
        "# Evaluar el modelo\n",
        "evaluation = model.evaluate([test_input_ids, test_attention_masks], z_onehot)\n",
        "\n",
        "# Imprimir los resultados de la evaluación\n",
        "print(\"Loss:\", evaluation[0])\n",
        "print(\"Accuracy:\", evaluation[1])"
      ],
      "metadata": {
        "colab": {
          "base_uri": "https://localhost:8080/"
        },
        "id": "cwMnSd6AjY-9",
        "outputId": "00aa86ec-0519-4b5b-abd3-22fad7dcc4f5"
      },
      "execution_count": 24,
      "outputs": [
        {
          "output_type": "stream",
          "name": "stdout",
          "text": [
            "37/37 [==============================] - 20s 547ms/step - loss: 0.2164 - categorical_accuracy: 0.6200\n",
            "Loss: 0.21639397740364075\n",
            "Accuracy: 0.6200345158576965\n"
          ]
        }
      ]
    },
    {
      "cell_type": "code",
      "source": [
        "# Calcular las métricas de clasificación\n",
        "from sklearn.metrics import classification_report\n",
        "classification_metrics = classification_report(z_encoded, predicted_labels, target_names=[\"ideological-inequality\", \"stereotyping-dominance\", \"misogyny-non-sexual-violence\", \"sexual-violence\", \"objectification\"])\n",
        "\n",
        "\n",
        "# Imprimir el reporte de métricas\n",
        "print(classification_metrics)"
      ],
      "metadata": {
        "colab": {
          "base_uri": "https://localhost:8080/"
        },
        "id": "nqPQSKffxcA7",
        "outputId": "5bfc5842-b71e-49d6-f677-8fc8b72ddac4"
      },
      "execution_count": 25,
      "outputs": [
        {
          "output_type": "stream",
          "name": "stdout",
          "text": [
            "                              precision    recall  f1-score   support\n",
            "\n",
            "      ideological-inequality       0.77      0.64      0.70       333\n",
            "      stereotyping-dominance       0.55      0.45      0.49       215\n",
            "misogyny-non-sexual-violence       0.50      0.64      0.56       150\n",
            "             sexual-violence       0.63      0.78      0.70       198\n",
            "             objectification       0.59      0.61      0.60       262\n",
            "\n",
            "                    accuracy                           0.62      1158\n",
            "                   macro avg       0.61      0.62      0.61      1158\n",
            "                weighted avg       0.63      0.62      0.62      1158\n",
            "\n"
          ]
        }
      ]
    },
    {
      "cell_type": "markdown",
      "source": [],
      "metadata": {
        "id": "DyDFCrOiqEET"
      }
    },
    {
      "cell_type": "code",
      "source": [
        "y_pred_roberta =  np.zeros_like(result_roberta)\n",
        "y_pred_roberta[np.arange(len(y_pred_roberta)), result_roberta.argmax(1)] = 1\n",
        "\n",
        "\n",
        "#metrics\n",
        "from sklearn.metrics import accuracy_score, f1_score\n",
        "from sklearn.metrics import classification_report, confusion_matrix\n",
        "from sklearn.metrics import confusion_matrix\n",
        "import seaborn as sns\n",
        "import matplotlib.pyplot as plt\n",
        "\n",
        "# Suponiendo que z_test.argmax(1) son las etiquetas reales y y_pred_roberta.argmax(1) son las etiquetas predichas\n",
        "cm = confusion_matrix(z_onehot.argmax(1), y_pred_roberta.argmax(1))\n",
        "\n",
        "# Crear un heatmap de la matriz de confusión\n",
        "sns.heatmap(cm, annot=True, cmap=\"Blues\", fmt=\"d\", cbar=False)\n",
        "\n",
        "# Añadir etiquetas a los ejes\n",
        "plt.xlabel(\"Clase predicha\")\n",
        "plt.ylabel(\"Clase verdadera\")\n",
        "\n",
        "# Mostrar el gráfico\n",
        "plt.show()"
      ],
      "metadata": {
        "colab": {
          "base_uri": "https://localhost:8080/",
          "height": 449
        },
        "id": "2ThaSTEol4Ca",
        "outputId": "19c5c7a2-5558-4786-a487-57ed7c380885"
      },
      "execution_count": null,
      "outputs": [
        {
          "output_type": "display_data",
          "data": {
            "text/plain": [
              "<Figure size 640x480 with 1 Axes>"
            ],
            "image/png": "[encoded data removed]"
          },
          "metadata": {}
        }
      ]
    },
    {
      "cell_type": "markdown",
      "source": [
        "# **Resultados**\n",
        "\n",
        "\n",
        "---\n",
        "\n",
        "Para 8 epochs, lr = 0.00001, batch_size = 32, datos no preprocesados, sin datos  ampliados mediante técnica swapping y aplicación de pesos para compensar las clases minoritárias se obtiene:\n",
        "\n",
        "##Training\n",
        "\n",
        "```\n",
        "Epoch 1/8\n",
        "86/86 [==============================] - 246s 2s/step - loss: 0.2482 - categorical_accuracy: 0.4585 - val_loss: 0.2038 - val_categorical_accuracy: 0.5247\n",
        "Epoch 2/8\n",
        "86/86 [==============================] - 159s 2s/step - loss: 0.1905 - categorical_accuracy: 0.5473 - val_loss: 0.1569 - val_categorical_accuracy: 0.6017\n",
        "Epoch 3/8\n",
        "86/86 [==============================] - 160s 2s/step - loss: 0.1516 - categorical_accuracy: 0.6223 - val_loss: 0.1419 - val_categorical_accuracy: 0.6119\n",
        "Epoch 4/8\n",
        "86/86 [==============================] - 151s 2s/step - loss: 0.1228 - categorical_accuracy: 0.6758 - val_loss: 0.1497 - val_categorical_accuracy: 0.6206\n",
        "Epoch 5/8\n",
        "86/86 [==============================] - 160s 2s/step - loss: 0.0970 - categorical_accuracy: 0.7351 - val_loss: 0.1476 - val_categorical_accuracy: 0.6555\n",
        "```\n",
        "##Evaluación:\n",
        "\n",
        "\n",
        "```\n",
        "69/69 [==============================] - 37s 538ms/step - loss: 0.1719 - categorical_accuracy: 0.5779\n",
        "Loss: 0.17185792326927185\n",
        "Accuracy: 0.5778985619544983\n",
        "```\n",
        "\n",
        "\n"
      ],
      "metadata": {
        "id": "g1MFiv-0tvLk"
      }
    },
    {
      "cell_type": "markdown",
      "source": [
        "Para 8 epochs, lr = 0.00001, batch_size = 16, datos no preprocesados, sin datos ampliados mediante técnica swapping y aplicación de pesos para compensar las clases minoritárias se obtiene:\n",
        "\n",
        "#Training:\n",
        "\n",
        "\n",
        "```\n",
        "Epoch 1/8\n",
        "172/172 [==============================] - 223s 991ms/step - loss: 0.2310 - categorical_accuracy: 0.5156 - val_loss: 0.1973 - val_categorical_accuracy: 0.5422\n",
        "Epoch 2/8\n",
        "172/172 [==============================] - 161s 939ms/step - loss: 0.1728 - categorical_accuracy: 0.5786 - val_loss: 0.1472 - val_categorical_accuracy: 0.6250\n",
        "Epoch 3/8\n",
        "172/172 [==============================] - 152s 882ms/step - loss: 0.1297 - categorical_accuracy: 0.6612 - val_loss: 0.1393 - val_categorical_accuracy: 0.6468\n",
        "Epoch 4/8\n",
        "172/172 [==============================] - 160s 932ms/step - loss: 0.1023 - categorical_accuracy: 0.7216 - val_loss: 0.1414 - val_categorical_accuracy: 0.6686\n",
        "Epoch 5/8\n",
        "172/172 [==============================] - 151s 881ms/step - loss: 0.0780 - categorical_accuracy: 0.7835 - val_loss: 0.1586 - val_categorical_accuracy: 0.6584\n",
        "```\n",
        "#Evaluación:\n",
        "\n",
        "\n",
        "```\n",
        "69/69 [==============================] - 46s 548ms/step - loss: 0.1856 - categorical_accuracy: 0.5729\n",
        "Loss: 0.185576930642128\n",
        "Accuracy: 0.5729166865348816\n",
        "```\n",
        "\n",
        "\n"
      ],
      "metadata": {
        "id": "FI72vjjlrTc1"
      }
    },
    {
      "cell_type": "markdown",
      "source": [
        "Para 8 epochs, lr = 0.00001, batch_size = 16, datos no preprocesados, con datos ampliados mediante técnica swapping y aplicación de pesos para compensar las clases minoritárias se obtiene:\n",
        "\n",
        "#Training:\n",
        "\n",
        "\n",
        "```\n",
        "Epoch 1/8\n",
        "297/297 [==============================] - 346s 972ms/step - loss: 0.2027 - categorical_accuracy: 0.5493 - val_loss: 0.1462 - val_categorical_accuracy: 0.6128\n",
        "Epoch 2/8\n",
        "297/297 [==============================] - 279s 941ms/step - loss: 0.1281 - categorical_accuracy: 0.6683 - val_loss: 0.1072 - val_categorical_accuracy: 0.7374\n",
        "Epoch 3/8\n",
        "297/297 [==============================] - 258s 868ms/step - loss: 0.0890 - categorical_accuracy: 0.7614 - val_loss: 0.1081 - val_categorical_accuracy: 0.7382\n",
        "Epoch 4/8\n",
        "297/297 [==============================] - 278s 937ms/step - loss: 0.0575 - categorical_accuracy: 0.8294 - val_loss: 0.0855 - val_categorical_accuracy: 0.8005\n",
        "Epoch 5/8\n",
        "297/297 [==============================] - 258s 869ms/step - loss: 0.0406 - categorical_accuracy: 0.8726 - val_loss: 0.0742 - val_categorical_accuracy: 0.8401\n",
        "Epoch 6/8\n",
        "297/297 [==============================] - 258s 867ms/step - loss: 0.0266 - categorical_accuracy: 0.9158 - val_loss: 0.0749 - val_categorical_accuracy: 0.8418\n",
        "Epoch 7/8\n",
        "297/297 [==============================] - 258s 868ms/step - loss: 0.0175 - categorical_accuracy: 0.9360 - val_loss: 0.0847 - val_categorical_accuracy: 0.8443\n",
        "```\n",
        "\n",
        "#Evaluación:\n",
        "\n",
        "\n",
        "```\n",
        "69/69 [==============================] - 37s 529ms/step - loss: 0.3139 - categorical_accuracy: 0.5892\n",
        "Loss: 0.31388023495674133\n",
        "Accuracy: 0.5892210006713867\n",
        "```\n",
        "\n",
        "\n"
      ],
      "metadata": {
        "id": "Y2MBFvklv2g2"
      }
    },
    {
      "cell_type": "markdown",
      "source": [
        "Para 8 epochs, lr = 0.00001, batch_size = 32, datos no preprocesados, con datos ampliados mediante técnica swapping y aplicación de pesos para compensar las clases minoritárias se obtiene:\n",
        "\n",
        "#Training:\n",
        "\n",
        "\n",
        "```\n",
        "Epoch 1/8\n",
        "149/149 [==============================] - 344s 2s/step - loss: 0.2192 - categorical_accuracy: 0.5084 - val_loss: 0.1507 - val_categorical_accuracy: 0.6069\n",
        "Epoch 2/8\n",
        "149/149 [==============================] - 286s 2s/step - loss: 0.1455 - categorical_accuracy: 0.6316 - val_loss: 0.1247 - val_categorical_accuracy: 0.6919\n",
        "Epoch 3/8\n",
        "149/149 [==============================] - 285s 2s/step - loss: 0.1067 - categorical_accuracy: 0.7102 - val_loss: 0.0965 - val_categorical_accuracy: 0.7399\n",
        "Epoch 4/8\n",
        "149/149 [==============================] - 265s 2s/step - loss: 0.0752 - categorical_accuracy: 0.7917 - val_loss: 0.0890 - val_categorical_accuracy: 0.7803\n",
        "Epoch 5/8\n",
        "149/149 [==============================] - 285s 2s/step - loss: 0.0515 - categorical_accuracy: 0.8454 - val_loss: 0.0828 - val_categorical_accuracy: 0.7997\n",
        "Epoch 6/8\n",
        "149/149 [==============================] - 285s 2s/step - loss: 0.0372 - categorical_accuracy: 0.8823 - val_loss: 0.0771 - val_categorical_accuracy: 0.8274\n",
        "Epoch 7/8\n",
        "149/149 [==============================] - 285s 2s/step - loss: 0.0275 - categorical_accuracy: 0.9061 - val_loss: 0.0799 - val_categorical_accuracy: 0.8283\n",
        "Epoch 8/8\n",
        "149/149 [==============================] - 285s 2s/step - loss: 0.0223 - categorical_accuracy: 0.9179 - val_loss: 0.0875 - val_categorical_accuracy: 0.8401\n",
        "```\n",
        "#Evaluación:\n",
        "\n",
        "\n",
        "```\n",
        "69/69 [==============================] - 39s 561ms/step - loss: 0.2866 - categorical_accuracy: 0.5874\n",
        "Loss: 0.2865637242794037\n",
        "Accuracy: 0.5874094367027283\n",
        "```\n",
        "\n",
        "\n"
      ],
      "metadata": {
        "id": "Qmubn2wh5Dsw"
      }
    },
    {
      "cell_type": "markdown",
      "source": [
        "Para task2 = teniendo en cuenta las categorias sexistas y añadiendo los tuits traducidos del español al inglés se consigue 0.64 batchsize =32/epochs = 8 y lr = 1e-5 y 0.62 para batchsize =16/epochs = 7 y lr = 5e-5"
      ],
      "metadata": {
        "id": "SS2kvFv6qGa3"
      }
    },
    {
      "cell_type": "markdown",
      "source": [
        "# **Para task2 = teniendo en cuenta las categorias sexistas y añadiendo los tuits traducidos del español al inglés  batchsize =32/epochs = 8 y lr = 1e-5 **\n",
        "#Train\n",
        "```\n",
        "Epoch 1/8\n",
        "85/85 [==============================] - 240s 2s/step - loss: 0.2949 - categorical_accuracy: 0.3084 - val_loss: 0.2172 - val_categorical_accuracy: 0.5325\n",
        "Epoch 2/8\n",
        "85/85 [==============================] - 159s 2s/step - loss: 0.1991 - categorical_accuracy: 0.6138 - val_loss: 0.1823 - val_categorical_accuracy: 0.6479\n",
        "Epoch 3/8\n",
        "85/85 [==============================] - 157s 2s/step - loss: 0.1590 - categorical_accuracy: 0.6897 - val_loss: 0.1804 - val_categorical_accuracy: 0.6553\n",
        "Epoch 4/8\n",
        "85/85 [==============================] - 157s 2s/step - loss: 0.1283 - categorical_accuracy: 0.7638 - val_loss: 0.1936 - val_categorical_accuracy: 0.6450\n",
        "Epoch 5/8\n",
        "85/85 [==============================] - 157s 2s/step - loss: 0.1038 - categorical_accuracy: 0.8041 - val_loss: 0.2023 - val_categorical_accuracy: 0.6524\n",
        "```\n",
        "#Evaluación\n",
        "\n",
        "\n",
        "\n",
        "```\n",
        "precision    recall  f1-score   support\n",
        "\n",
        "      ideological-inequality       0.77      0.64      0.70       333\n",
        "      stereotyping-dominance       0.55      0.45      0.49       215\n",
        "misogyny-non-sexual-violence       0.50      0.64      0.56       150\n",
        "             sexual-violence       0.63      0.78      0.70       198\n",
        "             objectification       0.59      0.61      0.60       262\n",
        "\n",
        "                    accuracy                           0.62      1158\n",
        "                   macro avg       0.61      0.62      0.61      1158\n",
        "                weighted avg       0.63      0.62      0.62      1158\n",
        "```\n",
        "\n",
        "\n"
      ],
      "metadata": {
        "id": "7nyc84E3CMn4"
      }
    }
  ]
}
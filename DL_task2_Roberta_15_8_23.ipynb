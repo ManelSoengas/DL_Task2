{
  "nbformat": 4,
  "nbformat_minor": 0,
  "metadata": {
    "colab": {
      "provenance": [],
      "gpuType": "T4",
      "include_colab_link": true
    },
    "kernelspec": {
      "name": "python3",
      "display_name": "Python 3"
    },
    "language_info": {
      "name": "python"
    },
    "accelerator": "GPU",
    "widgets": {
      "application/vnd.jupyter.widget-state+json": {
        "d3e50da34e3b434fbc15a199e8d43743": {
          "model_module": "@jupyter-widgets/controls",
          "model_name": "HBoxModel",
          "model_module_version": "1.5.0",
          "state": {
            "_dom_classes": [],
            "_model_module": "@jupyter-widgets/controls",
            "_model_module_version": "1.5.0",
            "_model_name": "HBoxModel",
            "_view_count": null,
            "_view_module": "@jupyter-widgets/controls",
            "_view_module_version": "1.5.0",
            "_view_name": "HBoxView",
            "box_style": "",
            "children": [
              "IPY_MODEL_aee929f709b844599c5410ba579dc8cc",
              "IPY_MODEL_0a3e914dfbea40198011e0c2d9df3261",
              "IPY_MODEL_29b3c3de2417431ca0e6a8f4857bd3f7"
            ],
            "layout": "IPY_MODEL_b16b5c9554604ea7ada2d5ebc9968077"
          }
        },
        "aee929f709b844599c5410ba579dc8cc": {
          "model_module": "@jupyter-widgets/controls",
          "model_name": "HTMLModel",
          "model_module_version": "1.5.0",
          "state": {
            "_dom_classes": [],
            "_model_module": "@jupyter-widgets/controls",
            "_model_module_version": "1.5.0",
            "_model_name": "HTMLModel",
            "_view_count": null,
            "_view_module": "@jupyter-widgets/controls",
            "_view_module_version": "1.5.0",
            "_view_name": "HTMLView",
            "description": "",
            "description_tooltip": null,
            "layout": "IPY_MODEL_66c69745a8024bdd995587c50c7bf77e",
            "placeholder": "​",
            "style": "IPY_MODEL_7c0924756ed74755b47337892878adba",
            "value": "Downloading (…)olve/main/vocab.json: 100%"
          }
        },
        "0a3e914dfbea40198011e0c2d9df3261": {
          "model_module": "@jupyter-widgets/controls",
          "model_name": "FloatProgressModel",
          "model_module_version": "1.5.0",
          "state": {
            "_dom_classes": [],
            "_model_module": "@jupyter-widgets/controls",
            "_model_module_version": "1.5.0",
            "_model_name": "FloatProgressModel",
            "_view_count": null,
            "_view_module": "@jupyter-widgets/controls",
            "_view_module_version": "1.5.0",
            "_view_name": "ProgressView",
            "bar_style": "success",
            "description": "",
            "description_tooltip": null,
            "layout": "IPY_MODEL_9ed5d536ba0d4c029e6bc73e84bdfbe0",
            "max": 898823,
            "min": 0,
            "orientation": "horizontal",
            "style": "IPY_MODEL_ed8d6635ed9a43ca860baf0ce5087898",
            "value": 898823
          }
        },
        "29b3c3de2417431ca0e6a8f4857bd3f7": {
          "model_module": "@jupyter-widgets/controls",
          "model_name": "HTMLModel",
          "model_module_version": "1.5.0",
          "state": {
            "_dom_classes": [],
            "_model_module": "@jupyter-widgets/controls",
            "_model_module_version": "1.5.0",
            "_model_name": "HTMLModel",
            "_view_count": null,
            "_view_module": "@jupyter-widgets/controls",
            "_view_module_version": "1.5.0",
            "_view_name": "HTMLView",
            "description": "",
            "description_tooltip": null,
            "layout": "IPY_MODEL_831fb70853eb4048b154e946169ed159",
            "placeholder": "​",
            "style": "IPY_MODEL_08da024dfbe54b9da466eb39b90b9bec",
            "value": " 899k/899k [00:00&lt;00:00, 7.62MB/s]"
          }
        },
        "b16b5c9554604ea7ada2d5ebc9968077": {
          "model_module": "@jupyter-widgets/base",
          "model_name": "LayoutModel",
          "model_module_version": "1.2.0",
          "state": {
            "_model_module": "@jupyter-widgets/base",
            "_model_module_version": "1.2.0",
            "_model_name": "LayoutModel",
            "_view_count": null,
            "_view_module": "@jupyter-widgets/base",
            "_view_module_version": "1.2.0",
            "_view_name": "LayoutView",
            "align_content": null,
            "align_items": null,
            "align_self": null,
            "border": null,
            "bottom": null,
            "display": null,
            "flex": null,
            "flex_flow": null,
            "grid_area": null,
            "grid_auto_columns": null,
            "grid_auto_flow": null,
            "grid_auto_rows": null,
            "grid_column": null,
            "grid_gap": null,
            "grid_row": null,
            "grid_template_areas": null,
            "grid_template_columns": null,
            "grid_template_rows": null,
            "height": null,
            "justify_content": null,
            "justify_items": null,
            "left": null,
            "margin": null,
            "max_height": null,
            "max_width": null,
            "min_height": null,
            "min_width": null,
            "object_fit": null,
            "object_position": null,
            "order": null,
            "overflow": null,
            "overflow_x": null,
            "overflow_y": null,
            "padding": null,
            "right": null,
            "top": null,
            "visibility": null,
            "width": null
          }
        },
        "66c69745a8024bdd995587c50c7bf77e": {
          "model_module": "@jupyter-widgets/base",
          "model_name": "LayoutModel",
          "model_module_version": "1.2.0",
          "state": {
            "_model_module": "@jupyter-widgets/base",
            "_model_module_version": "1.2.0",
            "_model_name": "LayoutModel",
            "_view_count": null,
            "_view_module": "@jupyter-widgets/base",
            "_view_module_version": "1.2.0",
            "_view_name": "LayoutView",
            "align_content": null,
            "align_items": null,
            "align_self": null,
            "border": null,
            "bottom": null,
            "display": null,
            "flex": null,
            "flex_flow": null,
            "grid_area": null,
            "grid_auto_columns": null,
            "grid_auto_flow": null,
            "grid_auto_rows": null,
            "grid_column": null,
            "grid_gap": null,
            "grid_row": null,
            "grid_template_areas": null,
            "grid_template_columns": null,
            "grid_template_rows": null,
            "height": null,
            "justify_content": null,
            "justify_items": null,
            "left": null,
            "margin": null,
            "max_height": null,
            "max_width": null,
            "min_height": null,
            "min_width": null,
            "object_fit": null,
            "object_position": null,
            "order": null,
            "overflow": null,
            "overflow_x": null,
            "overflow_y": null,
            "padding": null,
            "right": null,
            "top": null,
            "visibility": null,
            "width": null
          }
        },
        "7c0924756ed74755b47337892878adba": {
          "model_module": "@jupyter-widgets/controls",
          "model_name": "DescriptionStyleModel",
          "model_module_version": "1.5.0",
          "state": {
            "_model_module": "@jupyter-widgets/controls",
            "_model_module_version": "1.5.0",
            "_model_name": "DescriptionStyleModel",
            "_view_count": null,
            "_view_module": "@jupyter-widgets/base",
            "_view_module_version": "1.2.0",
            "_view_name": "StyleView",
            "description_width": ""
          }
        },
        "9ed5d536ba0d4c029e6bc73e84bdfbe0": {
          "model_module": "@jupyter-widgets/base",
          "model_name": "LayoutModel",
          "model_module_version": "1.2.0",
          "state": {
            "_model_module": "@jupyter-widgets/base",
            "_model_module_version": "1.2.0",
            "_model_name": "LayoutModel",
            "_view_count": null,
            "_view_module": "@jupyter-widgets/base",
            "_view_module_version": "1.2.0",
            "_view_name": "LayoutView",
            "align_content": null,
            "align_items": null,
            "align_self": null,
            "border": null,
            "bottom": null,
            "display": null,
            "flex": null,
            "flex_flow": null,
            "grid_area": null,
            "grid_auto_columns": null,
            "grid_auto_flow": null,
            "grid_auto_rows": null,
            "grid_column": null,
            "grid_gap": null,
            "grid_row": null,
            "grid_template_areas": null,
            "grid_template_columns": null,
            "grid_template_rows": null,
            "height": null,
            "justify_content": null,
            "justify_items": null,
            "left": null,
            "margin": null,
            "max_height": null,
            "max_width": null,
            "min_height": null,
            "min_width": null,
            "object_fit": null,
            "object_position": null,
            "order": null,
            "overflow": null,
            "overflow_x": null,
            "overflow_y": null,
            "padding": null,
            "right": null,
            "top": null,
            "visibility": null,
            "width": null
          }
        },
        "ed8d6635ed9a43ca860baf0ce5087898": {
          "model_module": "@jupyter-widgets/controls",
          "model_name": "ProgressStyleModel",
          "model_module_version": "1.5.0",
          "state": {
            "_model_module": "@jupyter-widgets/controls",
            "_model_module_version": "1.5.0",
            "_model_name": "ProgressStyleModel",
            "_view_count": null,
            "_view_module": "@jupyter-widgets/base",
            "_view_module_version": "1.2.0",
            "_view_name": "StyleView",
            "bar_color": null,
            "description_width": ""
          }
        },
        "831fb70853eb4048b154e946169ed159": {
          "model_module": "@jupyter-widgets/base",
          "model_name": "LayoutModel",
          "model_module_version": "1.2.0",
          "state": {
            "_model_module": "@jupyter-widgets/base",
            "_model_module_version": "1.2.0",
            "_model_name": "LayoutModel",
            "_view_count": null,
            "_view_module": "@jupyter-widgets/base",
            "_view_module_version": "1.2.0",
            "_view_name": "LayoutView",
            "align_content": null,
            "align_items": null,
            "align_self": null,
            "border": null,
            "bottom": null,
            "display": null,
            "flex": null,
            "flex_flow": null,
            "grid_area": null,
            "grid_auto_columns": null,
            "grid_auto_flow": null,
            "grid_auto_rows": null,
            "grid_column": null,
            "grid_gap": null,
            "grid_row": null,
            "grid_template_areas": null,
            "grid_template_columns": null,
            "grid_template_rows": null,
            "height": null,
            "justify_content": null,
            "justify_items": null,
            "left": null,
            "margin": null,
            "max_height": null,
            "max_width": null,
            "min_height": null,
            "min_width": null,
            "object_fit": null,
            "object_position": null,
            "order": null,
            "overflow": null,
            "overflow_x": null,
            "overflow_y": null,
            "padding": null,
            "right": null,
            "top": null,
            "visibility": null,
            "width": null
          }
        },
        "08da024dfbe54b9da466eb39b90b9bec": {
          "model_module": "@jupyter-widgets/controls",
          "model_name": "DescriptionStyleModel",
          "model_module_version": "1.5.0",
          "state": {
            "_model_module": "@jupyter-widgets/controls",
            "_model_module_version": "1.5.0",
            "_model_name": "DescriptionStyleModel",
            "_view_count": null,
            "_view_module": "@jupyter-widgets/base",
            "_view_module_version": "1.2.0",
            "_view_name": "StyleView",
            "description_width": ""
          }
        },
        "fc2d7a36ecf548a98752dfca7f1ba49f": {
          "model_module": "@jupyter-widgets/controls",
          "model_name": "HBoxModel",
          "model_module_version": "1.5.0",
          "state": {
            "_dom_classes": [],
            "_model_module": "@jupyter-widgets/controls",
            "_model_module_version": "1.5.0",
            "_model_name": "HBoxModel",
            "_view_count": null,
            "_view_module": "@jupyter-widgets/controls",
            "_view_module_version": "1.5.0",
            "_view_name": "HBoxView",
            "box_style": "",
            "children": [
              "IPY_MODEL_935225107b164b5d9d26215aef05d9de",
              "IPY_MODEL_ba869da47aeb404dab3c9e4d73fdfb19",
              "IPY_MODEL_04acfc42603341369ff7219296e5087b"
            ],
            "layout": "IPY_MODEL_ed69c6cf1f0d4b9285d65b631b768264"
          }
        },
        "935225107b164b5d9d26215aef05d9de": {
          "model_module": "@jupyter-widgets/controls",
          "model_name": "HTMLModel",
          "model_module_version": "1.5.0",
          "state": {
            "_dom_classes": [],
            "_model_module": "@jupyter-widgets/controls",
            "_model_module_version": "1.5.0",
            "_model_name": "HTMLModel",
            "_view_count": null,
            "_view_module": "@jupyter-widgets/controls",
            "_view_module_version": "1.5.0",
            "_view_name": "HTMLView",
            "description": "",
            "description_tooltip": null,
            "layout": "IPY_MODEL_93e266cffc52474cb5fa0176c7816016",
            "placeholder": "​",
            "style": "IPY_MODEL_be4b9590adcf4dad8bb849cde6f7ede6",
            "value": "Downloading (…)olve/main/merges.txt: 100%"
          }
        },
        "ba869da47aeb404dab3c9e4d73fdfb19": {
          "model_module": "@jupyter-widgets/controls",
          "model_name": "FloatProgressModel",
          "model_module_version": "1.5.0",
          "state": {
            "_dom_classes": [],
            "_model_module": "@jupyter-widgets/controls",
            "_model_module_version": "1.5.0",
            "_model_name": "FloatProgressModel",
            "_view_count": null,
            "_view_module": "@jupyter-widgets/controls",
            "_view_module_version": "1.5.0",
            "_view_name": "ProgressView",
            "bar_style": "success",
            "description": "",
            "description_tooltip": null,
            "layout": "IPY_MODEL_f10dca85a7514da29f7963c7519369f4",
            "max": 456318,
            "min": 0,
            "orientation": "horizontal",
            "style": "IPY_MODEL_b0b921efd6ac4639a660cd09fe58ab25",
            "value": 456318
          }
        },
        "04acfc42603341369ff7219296e5087b": {
          "model_module": "@jupyter-widgets/controls",
          "model_name": "HTMLModel",
          "model_module_version": "1.5.0",
          "state": {
            "_dom_classes": [],
            "_model_module": "@jupyter-widgets/controls",
            "_model_module_version": "1.5.0",
            "_model_name": "HTMLModel",
            "_view_count": null,
            "_view_module": "@jupyter-widgets/controls",
            "_view_module_version": "1.5.0",
            "_view_name": "HTMLView",
            "description": "",
            "description_tooltip": null,
            "layout": "IPY_MODEL_eab2087bbfe046148cfabd5166002f7d",
            "placeholder": "​",
            "style": "IPY_MODEL_199e199fe28e444eacfd144a494f370b",
            "value": " 456k/456k [00:00&lt;00:00, 2.49MB/s]"
          }
        },
        "ed69c6cf1f0d4b9285d65b631b768264": {
          "model_module": "@jupyter-widgets/base",
          "model_name": "LayoutModel",
          "model_module_version": "1.2.0",
          "state": {
            "_model_module": "@jupyter-widgets/base",
            "_model_module_version": "1.2.0",
            "_model_name": "LayoutModel",
            "_view_count": null,
            "_view_module": "@jupyter-widgets/base",
            "_view_module_version": "1.2.0",
            "_view_name": "LayoutView",
            "align_content": null,
            "align_items": null,
            "align_self": null,
            "border": null,
            "bottom": null,
            "display": null,
            "flex": null,
            "flex_flow": null,
            "grid_area": null,
            "grid_auto_columns": null,
            "grid_auto_flow": null,
            "grid_auto_rows": null,
            "grid_column": null,
            "grid_gap": null,
            "grid_row": null,
            "grid_template_areas": null,
            "grid_template_columns": null,
            "grid_template_rows": null,
            "height": null,
            "justify_content": null,
            "justify_items": null,
            "left": null,
            "margin": null,
            "max_height": null,
            "max_width": null,
            "min_height": null,
            "min_width": null,
            "object_fit": null,
            "object_position": null,
            "order": null,
            "overflow": null,
            "overflow_x": null,
            "overflow_y": null,
            "padding": null,
            "right": null,
            "top": null,
            "visibility": null,
            "width": null
          }
        },
        "93e266cffc52474cb5fa0176c7816016": {
          "model_module": "@jupyter-widgets/base",
          "model_name": "LayoutModel",
          "model_module_version": "1.2.0",
          "state": {
            "_model_module": "@jupyter-widgets/base",
            "_model_module_version": "1.2.0",
            "_model_name": "LayoutModel",
            "_view_count": null,
            "_view_module": "@jupyter-widgets/base",
            "_view_module_version": "1.2.0",
            "_view_name": "LayoutView",
            "align_content": null,
            "align_items": null,
            "align_self": null,
            "border": null,
            "bottom": null,
            "display": null,
            "flex": null,
            "flex_flow": null,
            "grid_area": null,
            "grid_auto_columns": null,
            "grid_auto_flow": null,
            "grid_auto_rows": null,
            "grid_column": null,
            "grid_gap": null,
            "grid_row": null,
            "grid_template_areas": null,
            "grid_template_columns": null,
            "grid_template_rows": null,
            "height": null,
            "justify_content": null,
            "justify_items": null,
            "left": null,
            "margin": null,
            "max_height": null,
            "max_width": null,
            "min_height": null,
            "min_width": null,
            "object_fit": null,
            "object_position": null,
            "order": null,
            "overflow": null,
            "overflow_x": null,
            "overflow_y": null,
            "padding": null,
            "right": null,
            "top": null,
            "visibility": null,
            "width": null
          }
        },
        "be4b9590adcf4dad8bb849cde6f7ede6": {
          "model_module": "@jupyter-widgets/controls",
          "model_name": "DescriptionStyleModel",
          "model_module_version": "1.5.0",
          "state": {
            "_model_module": "@jupyter-widgets/controls",
            "_model_module_version": "1.5.0",
            "_model_name": "DescriptionStyleModel",
            "_view_count": null,
            "_view_module": "@jupyter-widgets/base",
            "_view_module_version": "1.2.0",
            "_view_name": "StyleView",
            "description_width": ""
          }
        },
        "f10dca85a7514da29f7963c7519369f4": {
          "model_module": "@jupyter-widgets/base",
          "model_name": "LayoutModel",
          "model_module_version": "1.2.0",
          "state": {
            "_model_module": "@jupyter-widgets/base",
            "_model_module_version": "1.2.0",
            "_model_name": "LayoutModel",
            "_view_count": null,
            "_view_module": "@jupyter-widgets/base",
            "_view_module_version": "1.2.0",
            "_view_name": "LayoutView",
            "align_content": null,
            "align_items": null,
            "align_self": null,
            "border": null,
            "bottom": null,
            "display": null,
            "flex": null,
            "flex_flow": null,
            "grid_area": null,
            "grid_auto_columns": null,
            "grid_auto_flow": null,
            "grid_auto_rows": null,
            "grid_column": null,
            "grid_gap": null,
            "grid_row": null,
            "grid_template_areas": null,
            "grid_template_columns": null,
            "grid_template_rows": null,
            "height": null,
            "justify_content": null,
            "justify_items": null,
            "left": null,
            "margin": null,
            "max_height": null,
            "max_width": null,
            "min_height": null,
            "min_width": null,
            "object_fit": null,
            "object_position": null,
            "order": null,
            "overflow": null,
            "overflow_x": null,
            "overflow_y": null,
            "padding": null,
            "right": null,
            "top": null,
            "visibility": null,
            "width": null
          }
        },
        "b0b921efd6ac4639a660cd09fe58ab25": {
          "model_module": "@jupyter-widgets/controls",
          "model_name": "ProgressStyleModel",
          "model_module_version": "1.5.0",
          "state": {
            "_model_module": "@jupyter-widgets/controls",
            "_model_module_version": "1.5.0",
            "_model_name": "ProgressStyleModel",
            "_view_count": null,
            "_view_module": "@jupyter-widgets/base",
            "_view_module_version": "1.2.0",
            "_view_name": "StyleView",
            "bar_color": null,
            "description_width": ""
          }
        },
        "eab2087bbfe046148cfabd5166002f7d": {
          "model_module": "@jupyter-widgets/base",
          "model_name": "LayoutModel",
          "model_module_version": "1.2.0",
          "state": {
            "_model_module": "@jupyter-widgets/base",
            "_model_module_version": "1.2.0",
            "_model_name": "LayoutModel",
            "_view_count": null,
            "_view_module": "@jupyter-widgets/base",
            "_view_module_version": "1.2.0",
            "_view_name": "LayoutView",
            "align_content": null,
            "align_items": null,
            "align_self": null,
            "border": null,
            "bottom": null,
            "display": null,
            "flex": null,
            "flex_flow": null,
            "grid_area": null,
            "grid_auto_columns": null,
            "grid_auto_flow": null,
            "grid_auto_rows": null,
            "grid_column": null,
            "grid_gap": null,
            "grid_row": null,
            "grid_template_areas": null,
            "grid_template_columns": null,
            "grid_template_rows": null,
            "height": null,
            "justify_content": null,
            "justify_items": null,
            "left": null,
            "margin": null,
            "max_height": null,
            "max_width": null,
            "min_height": null,
            "min_width": null,
            "object_fit": null,
            "object_position": null,
            "order": null,
            "overflow": null,
            "overflow_x": null,
            "overflow_y": null,
            "padding": null,
            "right": null,
            "top": null,
            "visibility": null,
            "width": null
          }
        },
        "199e199fe28e444eacfd144a494f370b": {
          "model_module": "@jupyter-widgets/controls",
          "model_name": "DescriptionStyleModel",
          "model_module_version": "1.5.0",
          "state": {
            "_model_module": "@jupyter-widgets/controls",
            "_model_module_version": "1.5.0",
            "_model_name": "DescriptionStyleModel",
            "_view_count": null,
            "_view_module": "@jupyter-widgets/base",
            "_view_module_version": "1.2.0",
            "_view_name": "StyleView",
            "description_width": ""
          }
        },
        "398a4291ad5d48dfa72b0359fb6c4f72": {
          "model_module": "@jupyter-widgets/controls",
          "model_name": "HBoxModel",
          "model_module_version": "1.5.0",
          "state": {
            "_dom_classes": [],
            "_model_module": "@jupyter-widgets/controls",
            "_model_module_version": "1.5.0",
            "_model_name": "HBoxModel",
            "_view_count": null,
            "_view_module": "@jupyter-widgets/controls",
            "_view_module_version": "1.5.0",
            "_view_name": "HBoxView",
            "box_style": "",
            "children": [
              "IPY_MODEL_968e34e4beee446e9fe74dc3f093b2d6",
              "IPY_MODEL_f22e9c51a335444196f4b52f79d1f9ac",
              "IPY_MODEL_7aa4e130d250479da91ab9d16a087cc5"
            ],
            "layout": "IPY_MODEL_47daa804cb1e447bb3ad98c0a3d489f6"
          }
        },
        "968e34e4beee446e9fe74dc3f093b2d6": {
          "model_module": "@jupyter-widgets/controls",
          "model_name": "HTMLModel",
          "model_module_version": "1.5.0",
          "state": {
            "_dom_classes": [],
            "_model_module": "@jupyter-widgets/controls",
            "_model_module_version": "1.5.0",
            "_model_name": "HTMLModel",
            "_view_count": null,
            "_view_module": "@jupyter-widgets/controls",
            "_view_module_version": "1.5.0",
            "_view_name": "HTMLView",
            "description": "",
            "description_tooltip": null,
            "layout": "IPY_MODEL_3779b44e82bc4f9e850f578470e6c6d8",
            "placeholder": "​",
            "style": "IPY_MODEL_824f4f540520476cad88b8af26cbfdbf",
            "value": "Downloading (…)/main/tokenizer.json: 100%"
          }
        },
        "f22e9c51a335444196f4b52f79d1f9ac": {
          "model_module": "@jupyter-widgets/controls",
          "model_name": "FloatProgressModel",
          "model_module_version": "1.5.0",
          "state": {
            "_dom_classes": [],
            "_model_module": "@jupyter-widgets/controls",
            "_model_module_version": "1.5.0",
            "_model_name": "FloatProgressModel",
            "_view_count": null,
            "_view_module": "@jupyter-widgets/controls",
            "_view_module_version": "1.5.0",
            "_view_name": "ProgressView",
            "bar_style": "success",
            "description": "",
            "description_tooltip": null,
            "layout": "IPY_MODEL_463305a3b2fe46eca5d6b8194351f344",
            "max": 1355863,
            "min": 0,
            "orientation": "horizontal",
            "style": "IPY_MODEL_6a0b199d1b5e4600b129c9a765607f12",
            "value": 1355863
          }
        },
        "7aa4e130d250479da91ab9d16a087cc5": {
          "model_module": "@jupyter-widgets/controls",
          "model_name": "HTMLModel",
          "model_module_version": "1.5.0",
          "state": {
            "_dom_classes": [],
            "_model_module": "@jupyter-widgets/controls",
            "_model_module_version": "1.5.0",
            "_model_name": "HTMLModel",
            "_view_count": null,
            "_view_module": "@jupyter-widgets/controls",
            "_view_module_version": "1.5.0",
            "_view_name": "HTMLView",
            "description": "",
            "description_tooltip": null,
            "layout": "IPY_MODEL_0d808ce496e34ccdb3b9c29346afcea3",
            "placeholder": "​",
            "style": "IPY_MODEL_22a6c6640adf4e3fae82610368cb5dac",
            "value": " 1.36M/1.36M [00:00&lt;00:00, 7.15MB/s]"
          }
        },
        "47daa804cb1e447bb3ad98c0a3d489f6": {
          "model_module": "@jupyter-widgets/base",
          "model_name": "LayoutModel",
          "model_module_version": "1.2.0",
          "state": {
            "_model_module": "@jupyter-widgets/base",
            "_model_module_version": "1.2.0",
            "_model_name": "LayoutModel",
            "_view_count": null,
            "_view_module": "@jupyter-widgets/base",
            "_view_module_version": "1.2.0",
            "_view_name": "LayoutView",
            "align_content": null,
            "align_items": null,
            "align_self": null,
            "border": null,
            "bottom": null,
            "display": null,
            "flex": null,
            "flex_flow": null,
            "grid_area": null,
            "grid_auto_columns": null,
            "grid_auto_flow": null,
            "grid_auto_rows": null,
            "grid_column": null,
            "grid_gap": null,
            "grid_row": null,
            "grid_template_areas": null,
            "grid_template_columns": null,
            "grid_template_rows": null,
            "height": null,
            "justify_content": null,
            "justify_items": null,
            "left": null,
            "margin": null,
            "max_height": null,
            "max_width": null,
            "min_height": null,
            "min_width": null,
            "object_fit": null,
            "object_position": null,
            "order": null,
            "overflow": null,
            "overflow_x": null,
            "overflow_y": null,
            "padding": null,
            "right": null,
            "top": null,
            "visibility": null,
            "width": null
          }
        },
        "3779b44e82bc4f9e850f578470e6c6d8": {
          "model_module": "@jupyter-widgets/base",
          "model_name": "LayoutModel",
          "model_module_version": "1.2.0",
          "state": {
            "_model_module": "@jupyter-widgets/base",
            "_model_module_version": "1.2.0",
            "_model_name": "LayoutModel",
            "_view_count": null,
            "_view_module": "@jupyter-widgets/base",
            "_view_module_version": "1.2.0",
            "_view_name": "LayoutView",
            "align_content": null,
            "align_items": null,
            "align_self": null,
            "border": null,
            "bottom": null,
            "display": null,
            "flex": null,
            "flex_flow": null,
            "grid_area": null,
            "grid_auto_columns": null,
            "grid_auto_flow": null,
            "grid_auto_rows": null,
            "grid_column": null,
            "grid_gap": null,
            "grid_row": null,
            "grid_template_areas": null,
            "grid_template_columns": null,
            "grid_template_rows": null,
            "height": null,
            "justify_content": null,
            "justify_items": null,
            "left": null,
            "margin": null,
            "max_height": null,
            "max_width": null,
            "min_height": null,
            "min_width": null,
            "object_fit": null,
            "object_position": null,
            "order": null,
            "overflow": null,
            "overflow_x": null,
            "overflow_y": null,
            "padding": null,
            "right": null,
            "top": null,
            "visibility": null,
            "width": null
          }
        },
        "824f4f540520476cad88b8af26cbfdbf": {
          "model_module": "@jupyter-widgets/controls",
          "model_name": "DescriptionStyleModel",
          "model_module_version": "1.5.0",
          "state": {
            "_model_module": "@jupyter-widgets/controls",
            "_model_module_version": "1.5.0",
            "_model_name": "DescriptionStyleModel",
            "_view_count": null,
            "_view_module": "@jupyter-widgets/base",
            "_view_module_version": "1.2.0",
            "_view_name": "StyleView",
            "description_width": ""
          }
        },
        "463305a3b2fe46eca5d6b8194351f344": {
          "model_module": "@jupyter-widgets/base",
          "model_name": "LayoutModel",
          "model_module_version": "1.2.0",
          "state": {
            "_model_module": "@jupyter-widgets/base",
            "_model_module_version": "1.2.0",
            "_model_name": "LayoutModel",
            "_view_count": null,
            "_view_module": "@jupyter-widgets/base",
            "_view_module_version": "1.2.0",
            "_view_name": "LayoutView",
            "align_content": null,
            "align_items": null,
            "align_self": null,
            "border": null,
            "bottom": null,
            "display": null,
            "flex": null,
            "flex_flow": null,
            "grid_area": null,
            "grid_auto_columns": null,
            "grid_auto_flow": null,
            "grid_auto_rows": null,
            "grid_column": null,
            "grid_gap": null,
            "grid_row": null,
            "grid_template_areas": null,
            "grid_template_columns": null,
            "grid_template_rows": null,
            "height": null,
            "justify_content": null,
            "justify_items": null,
            "left": null,
            "margin": null,
            "max_height": null,
            "max_width": null,
            "min_height": null,
            "min_width": null,
            "object_fit": null,
            "object_position": null,
            "order": null,
            "overflow": null,
            "overflow_x": null,
            "overflow_y": null,
            "padding": null,
            "right": null,
            "top": null,
            "visibility": null,
            "width": null
          }
        },
        "6a0b199d1b5e4600b129c9a765607f12": {
          "model_module": "@jupyter-widgets/controls",
          "model_name": "ProgressStyleModel",
          "model_module_version": "1.5.0",
          "state": {
            "_model_module": "@jupyter-widgets/controls",
            "_model_module_version": "1.5.0",
            "_model_name": "ProgressStyleModel",
            "_view_count": null,
            "_view_module": "@jupyter-widgets/base",
            "_view_module_version": "1.2.0",
            "_view_name": "StyleView",
            "bar_color": null,
            "description_width": ""
          }
        },
        "0d808ce496e34ccdb3b9c29346afcea3": {
          "model_module": "@jupyter-widgets/base",
          "model_name": "LayoutModel",
          "model_module_version": "1.2.0",
          "state": {
            "_model_module": "@jupyter-widgets/base",
            "_model_module_version": "1.2.0",
            "_model_name": "LayoutModel",
            "_view_count": null,
            "_view_module": "@jupyter-widgets/base",
            "_view_module_version": "1.2.0",
            "_view_name": "LayoutView",
            "align_content": null,
            "align_items": null,
            "align_self": null,
            "border": null,
            "bottom": null,
            "display": null,
            "flex": null,
            "flex_flow": null,
            "grid_area": null,
            "grid_auto_columns": null,
            "grid_auto_flow": null,
            "grid_auto_rows": null,
            "grid_column": null,
            "grid_gap": null,
            "grid_row": null,
            "grid_template_areas": null,
            "grid_template_columns": null,
            "grid_template_rows": null,
            "height": null,
            "justify_content": null,
            "justify_items": null,
            "left": null,
            "margin": null,
            "max_height": null,
            "max_width": null,
            "min_height": null,
            "min_width": null,
            "object_fit": null,
            "object_position": null,
            "order": null,
            "overflow": null,
            "overflow_x": null,
            "overflow_y": null,
            "padding": null,
            "right": null,
            "top": null,
            "visibility": null,
            "width": null
          }
        },
        "22a6c6640adf4e3fae82610368cb5dac": {
          "model_module": "@jupyter-widgets/controls",
          "model_name": "DescriptionStyleModel",
          "model_module_version": "1.5.0",
          "state": {
            "_model_module": "@jupyter-widgets/controls",
            "_model_module_version": "1.5.0",
            "_model_name": "DescriptionStyleModel",
            "_view_count": null,
            "_view_module": "@jupyter-widgets/base",
            "_view_module_version": "1.2.0",
            "_view_name": "StyleView",
            "description_width": ""
          }
        },
        "abb503b0281c4acdbb111022eb33647a": {
          "model_module": "@jupyter-widgets/controls",
          "model_name": "HBoxModel",
          "model_module_version": "1.5.0",
          "state": {
            "_dom_classes": [],
            "_model_module": "@jupyter-widgets/controls",
            "_model_module_version": "1.5.0",
            "_model_name": "HBoxModel",
            "_view_count": null,
            "_view_module": "@jupyter-widgets/controls",
            "_view_module_version": "1.5.0",
            "_view_name": "HBoxView",
            "box_style": "",
            "children": [
              "IPY_MODEL_b6d3da61ac6d4ea0b3ab03c8eb8d838c",
              "IPY_MODEL_4b014d56e23546cf9531027e924f8a74",
              "IPY_MODEL_98565eb9501d4da3a19f517a4a7304cb"
            ],
            "layout": "IPY_MODEL_f1a73e06b47d4bb5b59849368ed74ce1"
          }
        },
        "b6d3da61ac6d4ea0b3ab03c8eb8d838c": {
          "model_module": "@jupyter-widgets/controls",
          "model_name": "HTMLModel",
          "model_module_version": "1.5.0",
          "state": {
            "_dom_classes": [],
            "_model_module": "@jupyter-widgets/controls",
            "_model_module_version": "1.5.0",
            "_model_name": "HTMLModel",
            "_view_count": null,
            "_view_module": "@jupyter-widgets/controls",
            "_view_module_version": "1.5.0",
            "_view_name": "HTMLView",
            "description": "",
            "description_tooltip": null,
            "layout": "IPY_MODEL_fb49a4c41bc54451adfb77969275ed0e",
            "placeholder": "​",
            "style": "IPY_MODEL_e612b4f5ce494f33a55292ccd51cfe15",
            "value": "Downloading (…)lve/main/config.json: 100%"
          }
        },
        "4b014d56e23546cf9531027e924f8a74": {
          "model_module": "@jupyter-widgets/controls",
          "model_name": "FloatProgressModel",
          "model_module_version": "1.5.0",
          "state": {
            "_dom_classes": [],
            "_model_module": "@jupyter-widgets/controls",
            "_model_module_version": "1.5.0",
            "_model_name": "FloatProgressModel",
            "_view_count": null,
            "_view_module": "@jupyter-widgets/controls",
            "_view_module_version": "1.5.0",
            "_view_name": "ProgressView",
            "bar_style": "success",
            "description": "",
            "description_tooltip": null,
            "layout": "IPY_MODEL_b52bd7e5ff8046beb32fc17593ac39b1",
            "max": 481,
            "min": 0,
            "orientation": "horizontal",
            "style": "IPY_MODEL_3e88708bc0ed4486818e88c70d6b1850",
            "value": 481
          }
        },
        "98565eb9501d4da3a19f517a4a7304cb": {
          "model_module": "@jupyter-widgets/controls",
          "model_name": "HTMLModel",
          "model_module_version": "1.5.0",
          "state": {
            "_dom_classes": [],
            "_model_module": "@jupyter-widgets/controls",
            "_model_module_version": "1.5.0",
            "_model_name": "HTMLModel",
            "_view_count": null,
            "_view_module": "@jupyter-widgets/controls",
            "_view_module_version": "1.5.0",
            "_view_name": "HTMLView",
            "description": "",
            "description_tooltip": null,
            "layout": "IPY_MODEL_9ed5cf91505d4c02af5644d26832e881",
            "placeholder": "​",
            "style": "IPY_MODEL_bb128b839cd747b98d85f41e3e92bccb",
            "value": " 481/481 [00:00&lt;00:00, 6.26kB/s]"
          }
        },
        "f1a73e06b47d4bb5b59849368ed74ce1": {
          "model_module": "@jupyter-widgets/base",
          "model_name": "LayoutModel",
          "model_module_version": "1.2.0",
          "state": {
            "_model_module": "@jupyter-widgets/base",
            "_model_module_version": "1.2.0",
            "_model_name": "LayoutModel",
            "_view_count": null,
            "_view_module": "@jupyter-widgets/base",
            "_view_module_version": "1.2.0",
            "_view_name": "LayoutView",
            "align_content": null,
            "align_items": null,
            "align_self": null,
            "border": null,
            "bottom": null,
            "display": null,
            "flex": null,
            "flex_flow": null,
            "grid_area": null,
            "grid_auto_columns": null,
            "grid_auto_flow": null,
            "grid_auto_rows": null,
            "grid_column": null,
            "grid_gap": null,
            "grid_row": null,
            "grid_template_areas": null,
            "grid_template_columns": null,
            "grid_template_rows": null,
            "height": null,
            "justify_content": null,
            "justify_items": null,
            "left": null,
            "margin": null,
            "max_height": null,
            "max_width": null,
            "min_height": null,
            "min_width": null,
            "object_fit": null,
            "object_position": null,
            "order": null,
            "overflow": null,
            "overflow_x": null,
            "overflow_y": null,
            "padding": null,
            "right": null,
            "top": null,
            "visibility": null,
            "width": null
          }
        },
        "fb49a4c41bc54451adfb77969275ed0e": {
          "model_module": "@jupyter-widgets/base",
          "model_name": "LayoutModel",
          "model_module_version": "1.2.0",
          "state": {
            "_model_module": "@jupyter-widgets/base",
            "_model_module_version": "1.2.0",
            "_model_name": "LayoutModel",
            "_view_count": null,
            "_view_module": "@jupyter-widgets/base",
            "_view_module_version": "1.2.0",
            "_view_name": "LayoutView",
            "align_content": null,
            "align_items": null,
            "align_self": null,
            "border": null,
            "bottom": null,
            "display": null,
            "flex": null,
            "flex_flow": null,
            "grid_area": null,
            "grid_auto_columns": null,
            "grid_auto_flow": null,
            "grid_auto_rows": null,
            "grid_column": null,
            "grid_gap": null,
            "grid_row": null,
            "grid_template_areas": null,
            "grid_template_columns": null,
            "grid_template_rows": null,
            "height": null,
            "justify_content": null,
            "justify_items": null,
            "left": null,
            "margin": null,
            "max_height": null,
            "max_width": null,
            "min_height": null,
            "min_width": null,
            "object_fit": null,
            "object_position": null,
            "order": null,
            "overflow": null,
            "overflow_x": null,
            "overflow_y": null,
            "padding": null,
            "right": null,
            "top": null,
            "visibility": null,
            "width": null
          }
        },
        "e612b4f5ce494f33a55292ccd51cfe15": {
          "model_module": "@jupyter-widgets/controls",
          "model_name": "DescriptionStyleModel",
          "model_module_version": "1.5.0",
          "state": {
            "_model_module": "@jupyter-widgets/controls",
            "_model_module_version": "1.5.0",
            "_model_name": "DescriptionStyleModel",
            "_view_count": null,
            "_view_module": "@jupyter-widgets/base",
            "_view_module_version": "1.2.0",
            "_view_name": "StyleView",
            "description_width": ""
          }
        },
        "b52bd7e5ff8046beb32fc17593ac39b1": {
          "model_module": "@jupyter-widgets/base",
          "model_name": "LayoutModel",
          "model_module_version": "1.2.0",
          "state": {
            "_model_module": "@jupyter-widgets/base",
            "_model_module_version": "1.2.0",
            "_model_name": "LayoutModel",
            "_view_count": null,
            "_view_module": "@jupyter-widgets/base",
            "_view_module_version": "1.2.0",
            "_view_name": "LayoutView",
            "align_content": null,
            "align_items": null,
            "align_self": null,
            "border": null,
            "bottom": null,
            "display": null,
            "flex": null,
            "flex_flow": null,
            "grid_area": null,
            "grid_auto_columns": null,
            "grid_auto_flow": null,
            "grid_auto_rows": null,
            "grid_column": null,
            "grid_gap": null,
            "grid_row": null,
            "grid_template_areas": null,
            "grid_template_columns": null,
            "grid_template_rows": null,
            "height": null,
            "justify_content": null,
            "justify_items": null,
            "left": null,
            "margin": null,
            "max_height": null,
            "max_width": null,
            "min_height": null,
            "min_width": null,
            "object_fit": null,
            "object_position": null,
            "order": null,
            "overflow": null,
            "overflow_x": null,
            "overflow_y": null,
            "padding": null,
            "right": null,
            "top": null,
            "visibility": null,
            "width": null
          }
        },
        "3e88708bc0ed4486818e88c70d6b1850": {
          "model_module": "@jupyter-widgets/controls",
          "model_name": "ProgressStyleModel",
          "model_module_version": "1.5.0",
          "state": {
            "_model_module": "@jupyter-widgets/controls",
            "_model_module_version": "1.5.0",
            "_model_name": "ProgressStyleModel",
            "_view_count": null,
            "_view_module": "@jupyter-widgets/base",
            "_view_module_version": "1.2.0",
            "_view_name": "StyleView",
            "bar_color": null,
            "description_width": ""
          }
        },
        "9ed5cf91505d4c02af5644d26832e881": {
          "model_module": "@jupyter-widgets/base",
          "model_name": "LayoutModel",
          "model_module_version": "1.2.0",
          "state": {
            "_model_module": "@jupyter-widgets/base",
            "_model_module_version": "1.2.0",
            "_model_name": "LayoutModel",
            "_view_count": null,
            "_view_module": "@jupyter-widgets/base",
            "_view_module_version": "1.2.0",
            "_view_name": "LayoutView",
            "align_content": null,
            "align_items": null,
            "align_self": null,
            "border": null,
            "bottom": null,
            "display": null,
            "flex": null,
            "flex_flow": null,
            "grid_area": null,
            "grid_auto_columns": null,
            "grid_auto_flow": null,
            "grid_auto_rows": null,
            "grid_column": null,
            "grid_gap": null,
            "grid_row": null,
            "grid_template_areas": null,
            "grid_template_columns": null,
            "grid_template_rows": null,
            "height": null,
            "justify_content": null,
            "justify_items": null,
            "left": null,
            "margin": null,
            "max_height": null,
            "max_width": null,
            "min_height": null,
            "min_width": null,
            "object_fit": null,
            "object_position": null,
            "order": null,
            "overflow": null,
            "overflow_x": null,
            "overflow_y": null,
            "padding": null,
            "right": null,
            "top": null,
            "visibility": null,
            "width": null
          }
        },
        "bb128b839cd747b98d85f41e3e92bccb": {
          "model_module": "@jupyter-widgets/controls",
          "model_name": "DescriptionStyleModel",
          "model_module_version": "1.5.0",
          "state": {
            "_model_module": "@jupyter-widgets/controls",
            "_model_module_version": "1.5.0",
            "_model_name": "DescriptionStyleModel",
            "_view_count": null,
            "_view_module": "@jupyter-widgets/base",
            "_view_module_version": "1.2.0",
            "_view_name": "StyleView",
            "description_width": ""
          }
        },
        "b4e80e73ad864fc298493121d62630c9": {
          "model_module": "@jupyter-widgets/controls",
          "model_name": "HBoxModel",
          "model_module_version": "1.5.0",
          "state": {
            "_dom_classes": [],
            "_model_module": "@jupyter-widgets/controls",
            "_model_module_version": "1.5.0",
            "_model_name": "HBoxModel",
            "_view_count": null,
            "_view_module": "@jupyter-widgets/controls",
            "_view_module_version": "1.5.0",
            "_view_name": "HBoxView",
            "box_style": "",
            "children": [
              "IPY_MODEL_6f98f3dc32e2428b853fd1397d29756f",
              "IPY_MODEL_70645ce415164406ac9e493633bc9ae2",
              "IPY_MODEL_6e05ac5f620343c3b4fd5c8e03525e17"
            ],
            "layout": "IPY_MODEL_c2aff6f3883841d4ad99eebc4258bd8d"
          }
        },
        "6f98f3dc32e2428b853fd1397d29756f": {
          "model_module": "@jupyter-widgets/controls",
          "model_name": "HTMLModel",
          "model_module_version": "1.5.0",
          "state": {
            "_dom_classes": [],
            "_model_module": "@jupyter-widgets/controls",
            "_model_module_version": "1.5.0",
            "_model_name": "HTMLModel",
            "_view_count": null,
            "_view_module": "@jupyter-widgets/controls",
            "_view_module_version": "1.5.0",
            "_view_name": "HTMLView",
            "description": "",
            "description_tooltip": null,
            "layout": "IPY_MODEL_ea48401054464d5997e9eba56c28038d",
            "placeholder": "​",
            "style": "IPY_MODEL_4c4a06cb9a35495e966ee082f72ee633",
            "value": "Downloading model.safetensors: 100%"
          }
        },
        "70645ce415164406ac9e493633bc9ae2": {
          "model_module": "@jupyter-widgets/controls",
          "model_name": "FloatProgressModel",
          "model_module_version": "1.5.0",
          "state": {
            "_dom_classes": [],
            "_model_module": "@jupyter-widgets/controls",
            "_model_module_version": "1.5.0",
            "_model_name": "FloatProgressModel",
            "_view_count": null,
            "_view_module": "@jupyter-widgets/controls",
            "_view_module_version": "1.5.0",
            "_view_name": "ProgressView",
            "bar_style": "success",
            "description": "",
            "description_tooltip": null,
            "layout": "IPY_MODEL_0591104f19d543f2b6e8d9d14ddbd800",
            "max": 498818054,
            "min": 0,
            "orientation": "horizontal",
            "style": "IPY_MODEL_9e0a8be0abd84b3b929845affea2199e",
            "value": 498818054
          }
        },
        "6e05ac5f620343c3b4fd5c8e03525e17": {
          "model_module": "@jupyter-widgets/controls",
          "model_name": "HTMLModel",
          "model_module_version": "1.5.0",
          "state": {
            "_dom_classes": [],
            "_model_module": "@jupyter-widgets/controls",
            "_model_module_version": "1.5.0",
            "_model_name": "HTMLModel",
            "_view_count": null,
            "_view_module": "@jupyter-widgets/controls",
            "_view_module_version": "1.5.0",
            "_view_name": "HTMLView",
            "description": "",
            "description_tooltip": null,
            "layout": "IPY_MODEL_fb0590811f7b4c45a145ffd13e559ed8",
            "placeholder": "​",
            "style": "IPY_MODEL_de281d36910f49ef80a9de501f01176c",
            "value": " 499M/499M [00:05&lt;00:00, 91.7MB/s]"
          }
        },
        "c2aff6f3883841d4ad99eebc4258bd8d": {
          "model_module": "@jupyter-widgets/base",
          "model_name": "LayoutModel",
          "model_module_version": "1.2.0",
          "state": {
            "_model_module": "@jupyter-widgets/base",
            "_model_module_version": "1.2.0",
            "_model_name": "LayoutModel",
            "_view_count": null,
            "_view_module": "@jupyter-widgets/base",
            "_view_module_version": "1.2.0",
            "_view_name": "LayoutView",
            "align_content": null,
            "align_items": null,
            "align_self": null,
            "border": null,
            "bottom": null,
            "display": null,
            "flex": null,
            "flex_flow": null,
            "grid_area": null,
            "grid_auto_columns": null,
            "grid_auto_flow": null,
            "grid_auto_rows": null,
            "grid_column": null,
            "grid_gap": null,
            "grid_row": null,
            "grid_template_areas": null,
            "grid_template_columns": null,
            "grid_template_rows": null,
            "height": null,
            "justify_content": null,
            "justify_items": null,
            "left": null,
            "margin": null,
            "max_height": null,
            "max_width": null,
            "min_height": null,
            "min_width": null,
            "object_fit": null,
            "object_position": null,
            "order": null,
            "overflow": null,
            "overflow_x": null,
            "overflow_y": null,
            "padding": null,
            "right": null,
            "top": null,
            "visibility": null,
            "width": null
          }
        },
        "ea48401054464d5997e9eba56c28038d": {
          "model_module": "@jupyter-widgets/base",
          "model_name": "LayoutModel",
          "model_module_version": "1.2.0",
          "state": {
            "_model_module": "@jupyter-widgets/base",
            "_model_module_version": "1.2.0",
            "_model_name": "LayoutModel",
            "_view_count": null,
            "_view_module": "@jupyter-widgets/base",
            "_view_module_version": "1.2.0",
            "_view_name": "LayoutView",
            "align_content": null,
            "align_items": null,
            "align_self": null,
            "border": null,
            "bottom": null,
            "display": null,
            "flex": null,
            "flex_flow": null,
            "grid_area": null,
            "grid_auto_columns": null,
            "grid_auto_flow": null,
            "grid_auto_rows": null,
            "grid_column": null,
            "grid_gap": null,
            "grid_row": null,
            "grid_template_areas": null,
            "grid_template_columns": null,
            "grid_template_rows": null,
            "height": null,
            "justify_content": null,
            "justify_items": null,
            "left": null,
            "margin": null,
            "max_height": null,
            "max_width": null,
            "min_height": null,
            "min_width": null,
            "object_fit": null,
            "object_position": null,
            "order": null,
            "overflow": null,
            "overflow_x": null,
            "overflow_y": null,
            "padding": null,
            "right": null,
            "top": null,
            "visibility": null,
            "width": null
          }
        },
        "4c4a06cb9a35495e966ee082f72ee633": {
          "model_module": "@jupyter-widgets/controls",
          "model_name": "DescriptionStyleModel",
          "model_module_version": "1.5.0",
          "state": {
            "_model_module": "@jupyter-widgets/controls",
            "_model_module_version": "1.5.0",
            "_model_name": "DescriptionStyleModel",
            "_view_count": null,
            "_view_module": "@jupyter-widgets/base",
            "_view_module_version": "1.2.0",
            "_view_name": "StyleView",
            "description_width": ""
          }
        },
        "0591104f19d543f2b6e8d9d14ddbd800": {
          "model_module": "@jupyter-widgets/base",
          "model_name": "LayoutModel",
          "model_module_version": "1.2.0",
          "state": {
            "_model_module": "@jupyter-widgets/base",
            "_model_module_version": "1.2.0",
            "_model_name": "LayoutModel",
            "_view_count": null,
            "_view_module": "@jupyter-widgets/base",
            "_view_module_version": "1.2.0",
            "_view_name": "LayoutView",
            "align_content": null,
            "align_items": null,
            "align_self": null,
            "border": null,
            "bottom": null,
            "display": null,
            "flex": null,
            "flex_flow": null,
            "grid_area": null,
            "grid_auto_columns": null,
            "grid_auto_flow": null,
            "grid_auto_rows": null,
            "grid_column": null,
            "grid_gap": null,
            "grid_row": null,
            "grid_template_areas": null,
            "grid_template_columns": null,
            "grid_template_rows": null,
            "height": null,
            "justify_content": null,
            "justify_items": null,
            "left": null,
            "margin": null,
            "max_height": null,
            "max_width": null,
            "min_height": null,
            "min_width": null,
            "object_fit": null,
            "object_position": null,
            "order": null,
            "overflow": null,
            "overflow_x": null,
            "overflow_y": null,
            "padding": null,
            "right": null,
            "top": null,
            "visibility": null,
            "width": null
          }
        },
        "9e0a8be0abd84b3b929845affea2199e": {
          "model_module": "@jupyter-widgets/controls",
          "model_name": "ProgressStyleModel",
          "model_module_version": "1.5.0",
          "state": {
            "_model_module": "@jupyter-widgets/controls",
            "_model_module_version": "1.5.0",
            "_model_name": "ProgressStyleModel",
            "_view_count": null,
            "_view_module": "@jupyter-widgets/base",
            "_view_module_version": "1.2.0",
            "_view_name": "StyleView",
            "bar_color": null,
            "description_width": ""
          }
        },
        "fb0590811f7b4c45a145ffd13e559ed8": {
          "model_module": "@jupyter-widgets/base",
          "model_name": "LayoutModel",
          "model_module_version": "1.2.0",
          "state": {
            "_model_module": "@jupyter-widgets/base",
            "_model_module_version": "1.2.0",
            "_model_name": "LayoutModel",
            "_view_count": null,
            "_view_module": "@jupyter-widgets/base",
            "_view_module_version": "1.2.0",
            "_view_name": "LayoutView",
            "align_content": null,
            "align_items": null,
            "align_self": null,
            "border": null,
            "bottom": null,
            "display": null,
            "flex": null,
            "flex_flow": null,
            "grid_area": null,
            "grid_auto_columns": null,
            "grid_auto_flow": null,
            "grid_auto_rows": null,
            "grid_column": null,
            "grid_gap": null,
            "grid_row": null,
            "grid_template_areas": null,
            "grid_template_columns": null,
            "grid_template_rows": null,
            "height": null,
            "justify_content": null,
            "justify_items": null,
            "left": null,
            "margin": null,
            "max_height": null,
            "max_width": null,
            "min_height": null,
            "min_width": null,
            "object_fit": null,
            "object_position": null,
            "order": null,
            "overflow": null,
            "overflow_x": null,
            "overflow_y": null,
            "padding": null,
            "right": null,
            "top": null,
            "visibility": null,
            "width": null
          }
        },
        "de281d36910f49ef80a9de501f01176c": {
          "model_module": "@jupyter-widgets/controls",
          "model_name": "DescriptionStyleModel",
          "model_module_version": "1.5.0",
          "state": {
            "_model_module": "@jupyter-widgets/controls",
            "_model_module_version": "1.5.0",
            "_model_name": "DescriptionStyleModel",
            "_view_count": null,
            "_view_module": "@jupyter-widgets/base",
            "_view_module_version": "1.2.0",
            "_view_name": "StyleView",
            "description_width": ""
          }
        }
      }
    }
  },
  "cells": [
    {
      "cell_type": "markdown",
      "metadata": {
        "id": "view-in-github",
        "colab_type": "text"
      },
      "source": [
        "<a href=\"https://colab.research.google.com/github/ManelSoengas/DL_Task2/blob/main/DL_task2_Roberta_15_8_23.ipynb\" target=\"_parent\"><img src=\"https://colab.research.google.com/assets/colab-badge.svg\" alt=\"Open In Colab\"/></a>"
      ]
    },
    {
      "cell_type": "markdown",
      "source": [
        "# Utilizamos/no utilizamos los datos aumentados mediante la técnica de swapping. No utilizamos preprocesamiento de los tweets.Además la arquitectura contempla:\n",
        "\n",
        "\n",
        "1.   Dropout y early_stopping\n",
        "2.   Asignación de pesos en función del peso de la clase.\n",
        "3.   La configuración y arquitectura se mantienen.\n",
        "4.   Se utiliza RoBERTa para el idioma inglés.\n",
        "\n",
        "\n"
      ],
      "metadata": {
        "id": "CMwBHVl1XA5n"
      }
    },
    {
      "cell_type": "markdown",
      "source": [
        "# **Cargar los recursos necesarios.**"
      ],
      "metadata": {
        "id": "SRyuirYHXm1z"
      }
    },
    {
      "cell_type": "code",
      "execution_count": 1,
      "metadata": {
        "colab": {
          "base_uri": "https://localhost:8080/"
        },
        "id": "5o9gtxeNW6BK",
        "outputId": "ca6d1d9f-49ef-41a7-9781-f0276e5da4e5"
      },
      "outputs": [
        {
          "output_type": "stream",
          "name": "stdout",
          "text": [
            "Collecting transformers\n",
            "  Downloading transformers-4.31.0-py3-none-any.whl (7.4 MB)\n",
            "\u001b[2K     \u001b[90m━━━━━━━━━━━━━━━━━━━━━━━━━━━━━━━━━━━━━━━━\u001b[0m \u001b[32m7.4/7.4 MB\u001b[0m \u001b[31m19.5 MB/s\u001b[0m eta \u001b[36m0:00:00\u001b[0m\n",
            "\u001b[?25hRequirement already satisfied: filelock in /usr/local/lib/python3.10/dist-packages (from transformers) (3.12.2)\n",
            "Collecting huggingface-hub<1.0,>=0.14.1 (from transformers)\n",
            "  Downloading huggingface_hub-0.16.4-py3-none-any.whl (268 kB)\n",
            "\u001b[2K     \u001b[90m━━━━━━━━━━━━━━━━━━━━━━━━━━━━━━━━━━━━━━\u001b[0m \u001b[32m268.8/268.8 kB\u001b[0m \u001b[31m26.4 MB/s\u001b[0m eta \u001b[36m0:00:00\u001b[0m\n",
            "\u001b[?25hRequirement already satisfied: numpy>=1.17 in /usr/local/lib/python3.10/dist-packages (from transformers) (1.23.5)\n",
            "Requirement already satisfied: packaging>=20.0 in /usr/local/lib/python3.10/dist-packages (from transformers) (23.1)\n",
            "Requirement already satisfied: pyyaml>=5.1 in /usr/local/lib/python3.10/dist-packages (from transformers) (6.0.1)\n",
            "Requirement already satisfied: regex!=2019.12.17 in /usr/local/lib/python3.10/dist-packages (from transformers) (2023.6.3)\n",
            "Requirement already satisfied: requests in /usr/local/lib/python3.10/dist-packages (from transformers) (2.31.0)\n",
            "Collecting tokenizers!=0.11.3,<0.14,>=0.11.1 (from transformers)\n",
            "  Downloading tokenizers-0.13.3-cp310-cp310-manylinux_2_17_x86_64.manylinux2014_x86_64.whl (7.8 MB)\n",
            "\u001b[2K     \u001b[90m━━━━━━━━━━━━━━━━━━━━━━━━━━━━━━━━━━━━━━━━\u001b[0m \u001b[32m7.8/7.8 MB\u001b[0m \u001b[31m47.9 MB/s\u001b[0m eta \u001b[36m0:00:00\u001b[0m\n",
            "\u001b[?25hCollecting safetensors>=0.3.1 (from transformers)\n",
            "  Downloading safetensors-0.3.2-cp310-cp310-manylinux_2_17_x86_64.manylinux2014_x86_64.whl (1.3 MB)\n",
            "\u001b[2K     \u001b[90m━━━━━━━━━━━━━━━━━━━━━━━━━━━━━━━━━━━━━━━━\u001b[0m \u001b[32m1.3/1.3 MB\u001b[0m \u001b[31m55.0 MB/s\u001b[0m eta \u001b[36m0:00:00\u001b[0m\n",
            "\u001b[?25hRequirement already satisfied: tqdm>=4.27 in /usr/local/lib/python3.10/dist-packages (from transformers) (4.66.0)\n",
            "Requirement already satisfied: fsspec in /usr/local/lib/python3.10/dist-packages (from huggingface-hub<1.0,>=0.14.1->transformers) (2023.6.0)\n",
            "Requirement already satisfied: typing-extensions>=3.7.4.3 in /usr/local/lib/python3.10/dist-packages (from huggingface-hub<1.0,>=0.14.1->transformers) (4.7.1)\n",
            "Requirement already satisfied: charset-normalizer<4,>=2 in /usr/local/lib/python3.10/dist-packages (from requests->transformers) (3.2.0)\n",
            "Requirement already satisfied: idna<4,>=2.5 in /usr/local/lib/python3.10/dist-packages (from requests->transformers) (3.4)\n",
            "Requirement already satisfied: urllib3<3,>=1.21.1 in /usr/local/lib/python3.10/dist-packages (from requests->transformers) (2.0.4)\n",
            "Requirement already satisfied: certifi>=2017.4.17 in /usr/local/lib/python3.10/dist-packages (from requests->transformers) (2023.7.22)\n",
            "Installing collected packages: tokenizers, safetensors, huggingface-hub, transformers\n",
            "Successfully installed huggingface-hub-0.16.4 safetensors-0.3.2 tokenizers-0.13.3 transformers-4.31.0\n"
          ]
        }
      ],
      "source": [
        "import pandas as pd\n",
        "from sklearn.model_selection import train_test_split\n",
        "!pip install transformers\n",
        "from transformers import BertTokenizer, TFBertForSequenceClassification\n",
        "\n",
        "#transformers\n",
        "from transformers import BertTokenizerFast\n",
        "from transformers import TFBertModel\n",
        "from transformers import RobertaTokenizerFast\n",
        "from transformers import TFRobertaModel"
      ]
    },
    {
      "cell_type": "markdown",
      "source": [
        "#**Cargar los datos de entrada**"
      ],
      "metadata": {
        "id": "h0ed3H-qX1oQ"
      }
    },
    {
      "cell_type": "code",
      "source": [
        "from sklearn.utils import shuffle\n",
        "# Cargar datos preprocesados\n",
        "#train_data = pd.read_csv('/content/EXIST2021_training.tsv', delimiter=',', encoding='latin1')\n",
        "#test_data = pd.read_csv('/content/EXIST2021_test_labeled.tsv', delimiter=',', encoding='latin1')\n",
        "\n",
        "import pandas as pd\n",
        "\n",
        "# Leer los archivos TSV y seleccionar las columnas deseadas y filtrar por idioma 'es'\n",
        "test_data = pd.read_csv('/content/EXIST2021_test_labeled.tsv', sep='\\t', usecols=['text', 'language', 'task2']).loc[lambda df: df['language'] == 'en']\n",
        "train_data = pd.read_csv('/content/swapp_EXIST2021_training.tsv', sep='\\t', usecols=['text', 'language', 'task2']).loc[lambda df: df['language'] == 'en']\n",
        "#swapping data_set training\n",
        "# Mezclar los datos de entrenamiento\n",
        "shuffled_train_data = shuffle(train_data, random_state=42)\n",
        "\n",
        "# Mezclar los datos de prueba\n",
        "shuffled_test_data = shuffle(test_data, random_state=42)\n",
        ""
      ],
      "metadata": {
        "id": "8qArJBrhX8bv"
      },
      "execution_count": 2,
      "outputs": []
    },
    {
      "cell_type": "markdown",
      "source": [
        "# **Visualizar estructura de los datos**"
      ],
      "metadata": {
        "id": "1-kCU4HQYYWI"
      }
    },
    {
      "cell_type": "code",
      "source": [
        "shuffled_train_data.head(10)"
      ],
      "metadata": {
        "colab": {
          "base_uri": "https://localhost:8080/",
          "height": 363
        },
        "id": "-hWLo1nKYgBd",
        "outputId": "5c7d28f0-6656-44db-ef5b-f04b3c621548"
      },
      "execution_count": 3,
      "outputs": [
        {
          "output_type": "execute_result",
          "data": {
            "text/plain": [
              "     language                                               text  \\\n",
              "1713       en            You look like a prostitute whore Nancy.   \n",
              "1637       en  https://t.co/GCFMRVxyfO #Athleisure #Entrepren...   \n",
              "929        en                Nice tits X https://t.co/nmoaFbpJ4D   \n",
              "2967       en  O.C.  After much consideration, Ellen Page is ...   \n",
              "203        en  the only problem with that is, you have to go ...   \n",
              "1494       en  @365Spanking Wish I can find some one in my ho...   \n",
              "2380       en  Our military commits war crimes, our cops comm...   \n",
              "1465       en  353.// A beautiful king !!  So proud of you @l...   \n",
              "557        en  nsfw, violence//--ALSO is makima from chainsaw...   \n",
              "567        en  Happy summer day (very hot) in a very short sk...   \n",
              "\n",
              "                task2  \n",
              "1713  objectification  \n",
              "1637       non-sexist  \n",
              "929   objectification  \n",
              "2967       non-sexist  \n",
              "203        non-sexist  \n",
              "1494  sexual-violence  \n",
              "2380       non-sexist  \n",
              "1465       non-sexist  \n",
              "557   objectification  \n",
              "567        non-sexist  "
            ],
            "text/html": [
              "\n",
              "\n",
              "  <div id=\"df-fc029999-162b-4dd1-8249-1757d049f0f7\">\n",
              "    <div class=\"colab-df-container\">\n",
              "      <div>\n",
              "<style scoped>\n",
              "    .dataframe tbody tr th:only-of-type {\n",
              "        vertical-align: middle;\n",
              "    }\n",
              "\n",
              "    .dataframe tbody tr th {\n",
              "        vertical-align: top;\n",
              "    }\n",
              "\n",
              "    .dataframe thead th {\n",
              "        text-align: right;\n",
              "    }\n",
              "</style>\n",
              "<table border=\"1\" class=\"dataframe\">\n",
              "  <thead>\n",
              "    <tr style=\"text-align: right;\">\n",
              "      <th></th>\n",
              "      <th>language</th>\n",
              "      <th>text</th>\n",
              "      <th>task2</th>\n",
              "    </tr>\n",
              "  </thead>\n",
              "  <tbody>\n",
              "    <tr>\n",
              "      <th>1713</th>\n",
              "      <td>en</td>\n",
              "      <td>You look like a prostitute whore Nancy.</td>\n",
              "      <td>objectification</td>\n",
              "    </tr>\n",
              "    <tr>\n",
              "      <th>1637</th>\n",
              "      <td>en</td>\n",
              "      <td>https://t.co/GCFMRVxyfO #Athleisure #Entrepren...</td>\n",
              "      <td>non-sexist</td>\n",
              "    </tr>\n",
              "    <tr>\n",
              "      <th>929</th>\n",
              "      <td>en</td>\n",
              "      <td>Nice tits X https://t.co/nmoaFbpJ4D</td>\n",
              "      <td>objectification</td>\n",
              "    </tr>\n",
              "    <tr>\n",
              "      <th>2967</th>\n",
              "      <td>en</td>\n",
              "      <td>O.C.  After much consideration, Ellen Page is ...</td>\n",
              "      <td>non-sexist</td>\n",
              "    </tr>\n",
              "    <tr>\n",
              "      <th>203</th>\n",
              "      <td>en</td>\n",
              "      <td>the only problem with that is, you have to go ...</td>\n",
              "      <td>non-sexist</td>\n",
              "    </tr>\n",
              "    <tr>\n",
              "      <th>1494</th>\n",
              "      <td>en</td>\n",
              "      <td>@365Spanking Wish I can find some one in my ho...</td>\n",
              "      <td>sexual-violence</td>\n",
              "    </tr>\n",
              "    <tr>\n",
              "      <th>2380</th>\n",
              "      <td>en</td>\n",
              "      <td>Our military commits war crimes, our cops comm...</td>\n",
              "      <td>non-sexist</td>\n",
              "    </tr>\n",
              "    <tr>\n",
              "      <th>1465</th>\n",
              "      <td>en</td>\n",
              "      <td>353.// A beautiful king !!  So proud of you @l...</td>\n",
              "      <td>non-sexist</td>\n",
              "    </tr>\n",
              "    <tr>\n",
              "      <th>557</th>\n",
              "      <td>en</td>\n",
              "      <td>nsfw, violence//--ALSO is makima from chainsaw...</td>\n",
              "      <td>objectification</td>\n",
              "    </tr>\n",
              "    <tr>\n",
              "      <th>567</th>\n",
              "      <td>en</td>\n",
              "      <td>Happy summer day (very hot) in a very short sk...</td>\n",
              "      <td>non-sexist</td>\n",
              "    </tr>\n",
              "  </tbody>\n",
              "</table>\n",
              "</div>\n",
              "      <button class=\"colab-df-convert\" onclick=\"convertToInteractive('df-fc029999-162b-4dd1-8249-1757d049f0f7')\"\n",
              "              title=\"Convert this dataframe to an interactive table.\"\n",
              "              style=\"display:none;\">\n",
              "\n",
              "  <svg xmlns=\"http://www.w3.org/2000/svg\" height=\"24px\"viewBox=\"0 0 24 24\"\n",
              "       width=\"24px\">\n",
              "    <path d=\"M0 0h24v24H0V0z\" fill=\"none\"/>\n",
              "    <path d=\"M18.56 5.44l.94 2.06.94-2.06 2.06-.94-2.06-.94-.94-2.06-.94 2.06-2.06.94zm-11 1L8.5 8.5l.94-2.06 2.06-.94-2.06-.94L8.5 2.5l-.94 2.06-2.06.94zm10 10l.94 2.06.94-2.06 2.06-.94-2.06-.94-.94-2.06-.94 2.06-2.06.94z\"/><path d=\"M17.41 7.96l-1.37-1.37c-.4-.4-.92-.59-1.43-.59-.52 0-1.04.2-1.43.59L10.3 9.45l-7.72 7.72c-.78.78-.78 2.05 0 2.83L4 21.41c.39.39.9.59 1.41.59.51 0 1.02-.2 1.41-.59l7.78-7.78 2.81-2.81c.8-.78.8-2.07 0-2.86zM5.41 20L4 18.59l7.72-7.72 1.47 1.35L5.41 20z\"/>\n",
              "  </svg>\n",
              "      </button>\n",
              "\n",
              "\n",
              "\n",
              "    <div id=\"df-5326c6d0-a5b5-4317-adff-22d42e2c3843\">\n",
              "      <button class=\"colab-df-quickchart\" onclick=\"quickchart('df-5326c6d0-a5b5-4317-adff-22d42e2c3843')\"\n",
              "              title=\"Suggest charts.\"\n",
              "              style=\"display:none;\">\n",
              "\n",
              "<svg xmlns=\"http://www.w3.org/2000/svg\" height=\"24px\"viewBox=\"0 0 24 24\"\n",
              "     width=\"24px\">\n",
              "    <g>\n",
              "        <path d=\"M19 3H5c-1.1 0-2 .9-2 2v14c0 1.1.9 2 2 2h14c1.1 0 2-.9 2-2V5c0-1.1-.9-2-2-2zM9 17H7v-7h2v7zm4 0h-2V7h2v10zm4 0h-2v-4h2v4z\"/>\n",
              "    </g>\n",
              "</svg>\n",
              "      </button>\n",
              "    </div>\n",
              "\n",
              "<style>\n",
              "  .colab-df-quickchart {\n",
              "    background-color: #E8F0FE;\n",
              "    border: none;\n",
              "    border-radius: 50%;\n",
              "    cursor: pointer;\n",
              "    display: none;\n",
              "    fill: #1967D2;\n",
              "    height: 32px;\n",
              "    padding: 0 0 0 0;\n",
              "    width: 32px;\n",
              "  }\n",
              "\n",
              "  .colab-df-quickchart:hover {\n",
              "    background-color: #E2EBFA;\n",
              "    box-shadow: 0px 1px 2px rgba(60, 64, 67, 0.3), 0px 1px 3px 1px rgba(60, 64, 67, 0.15);\n",
              "    fill: #174EA6;\n",
              "  }\n",
              "\n",
              "  [theme=dark] .colab-df-quickchart {\n",
              "    background-color: #3B4455;\n",
              "    fill: #D2E3FC;\n",
              "  }\n",
              "\n",
              "  [theme=dark] .colab-df-quickchart:hover {\n",
              "    background-color: #434B5C;\n",
              "    box-shadow: 0px 1px 3px 1px rgba(0, 0, 0, 0.15);\n",
              "    filter: drop-shadow(0px 1px 2px rgba(0, 0, 0, 0.3));\n",
              "    fill: #FFFFFF;\n",
              "  }\n",
              "</style>\n",
              "\n",
              "    <script>\n",
              "      async function quickchart(key) {\n",
              "        const containerElement = document.querySelector('#' + key);\n",
              "        const charts = await google.colab.kernel.invokeFunction(\n",
              "            'suggestCharts', [key], {});\n",
              "      }\n",
              "    </script>\n",
              "\n",
              "      <script>\n",
              "\n",
              "function displayQuickchartButton(domScope) {\n",
              "  let quickchartButtonEl =\n",
              "    domScope.querySelector('#df-5326c6d0-a5b5-4317-adff-22d42e2c3843 button.colab-df-quickchart');\n",
              "  quickchartButtonEl.style.display =\n",
              "    google.colab.kernel.accessAllowed ? 'block' : 'none';\n",
              "}\n",
              "\n",
              "        displayQuickchartButton(document);\n",
              "      </script>\n",
              "      <style>\n",
              "    .colab-df-container {\n",
              "      display:flex;\n",
              "      flex-wrap:wrap;\n",
              "      gap: 12px;\n",
              "    }\n",
              "\n",
              "    .colab-df-convert {\n",
              "      background-color: #E8F0FE;\n",
              "      border: none;\n",
              "      border-radius: 50%;\n",
              "      cursor: pointer;\n",
              "      display: none;\n",
              "      fill: #1967D2;\n",
              "      height: 32px;\n",
              "      padding: 0 0 0 0;\n",
              "      width: 32px;\n",
              "    }\n",
              "\n",
              "    .colab-df-convert:hover {\n",
              "      background-color: #E2EBFA;\n",
              "      box-shadow: 0px 1px 2px rgba(60, 64, 67, 0.3), 0px 1px 3px 1px rgba(60, 64, 67, 0.15);\n",
              "      fill: #174EA6;\n",
              "    }\n",
              "\n",
              "    [theme=dark] .colab-df-convert {\n",
              "      background-color: #3B4455;\n",
              "      fill: #D2E3FC;\n",
              "    }\n",
              "\n",
              "    [theme=dark] .colab-df-convert:hover {\n",
              "      background-color: #434B5C;\n",
              "      box-shadow: 0px 1px 3px 1px rgba(0, 0, 0, 0.15);\n",
              "      filter: drop-shadow(0px 1px 2px rgba(0, 0, 0, 0.3));\n",
              "      fill: #FFFFFF;\n",
              "    }\n",
              "  </style>\n",
              "\n",
              "      <script>\n",
              "        const buttonEl =\n",
              "          document.querySelector('#df-fc029999-162b-4dd1-8249-1757d049f0f7 button.colab-df-convert');\n",
              "        buttonEl.style.display =\n",
              "          google.colab.kernel.accessAllowed ? 'block' : 'none';\n",
              "\n",
              "        async function convertToInteractive(key) {\n",
              "          const element = document.querySelector('#df-fc029999-162b-4dd1-8249-1757d049f0f7');\n",
              "          const dataTable =\n",
              "            await google.colab.kernel.invokeFunction('convertToInteractive',\n",
              "                                                     [key], {});\n",
              "          if (!dataTable) return;\n",
              "\n",
              "          const docLinkHtml = 'Like what you see? Visit the ' +\n",
              "            '<a target=\"_blank\" href=https://colab.research.google.com/notebooks/data_table.ipynb>data table notebook</a>'\n",
              "            + ' to learn more about interactive tables.';\n",
              "          element.innerHTML = '';\n",
              "          dataTable['output_type'] = 'display_data';\n",
              "          await google.colab.output.renderOutput(dataTable, element);\n",
              "          const docLink = document.createElement('div');\n",
              "          docLink.innerHTML = docLinkHtml;\n",
              "          element.appendChild(docLink);\n",
              "        }\n",
              "      </script>\n",
              "    </div>\n",
              "  </div>\n"
            ]
          },
          "metadata": {},
          "execution_count": 3
        }
      ]
    },
    {
      "cell_type": "markdown",
      "source": [
        "# **Distribución de la clase objetivo**"
      ],
      "metadata": {
        "id": "XFprYcWEY_VR"
      }
    },
    {
      "cell_type": "code",
      "source": [
        "\n",
        "columna_clase_objetivo = \"task2\"\n",
        "\n",
        "df = shuffled_train_data\n",
        "\n",
        "# Contar la cantidad de categorías únicas en la columna de la clase objetivo\n",
        "cantidad_categorias = df[columna_clase_objetivo].nunique()\n",
        "\n",
        "# Contar la cantidad de muestras para cada categoría de la clase objetivo\n",
        "muestras_por_categoria = df[columna_clase_objetivo].value_counts()\n",
        "\n",
        "# Imprimir los resultados\n",
        "print(\"Cantidad de categorías:\", cantidad_categorias)\n",
        "print(\"Muestras por categoría:\")\n",
        "print(muestras_por_categoria)\n",
        "df.shape[0]"
      ],
      "metadata": {
        "colab": {
          "base_uri": "https://localhost:8080/"
        },
        "id": "bjrQCuJpZE-a",
        "outputId": "ee2dc72a-d054-4211-8787-8954711e5641"
      },
      "execution_count": 3,
      "outputs": [
        {
          "output_type": "stream",
          "name": "stdout",
          "text": [
            "Cantidad de categorías: 6\n",
            "Muestras por categoría:\n",
            "non-sexist                      3104\n",
            "ideological-inequality           672\n",
            "stereotyping-dominance           626\n",
            "sexual-violence                  590\n",
            "misogyny-non-sexual-violence     494\n",
            "objectification                  450\n",
            "Name: task2, dtype: int64\n"
          ]
        },
        {
          "output_type": "execute_result",
          "data": {
            "text/plain": [
              "5936"
            ]
          },
          "metadata": {},
          "execution_count": 3
        }
      ]
    },
    {
      "cell_type": "code",
      "source": [],
      "metadata": {
        "id": "BTr5TzbyDmQ3"
      },
      "execution_count": null,
      "outputs": []
    },
    {
      "cell_type": "markdown",
      "source": [
        "# **Carga de los recursos RoBERTa**"
      ],
      "metadata": {
        "id": "B15ojpf8ZcUq"
      }
    },
    {
      "cell_type": "code",
      "source": [
        "def tokenize_roberta(data,max_len=MAX_LEN) :\n",
        "    input_ids = []\n",
        "    attention_masks = []\n",
        "    for i in range(len(data)):\n",
        "        encoded = tokenizer_roberta.encode_plus(\n",
        "            data[i],\n",
        "            add_special_tokens=True,\n",
        "            max_length=max_len,\n",
        "            padding='max_length',\n",
        "            truncation=True,\n",
        "            truncation_strategy='longest_first',\n",
        "            return_attention_mask=True\n",
        "\n",
        "        )\n",
        "        input_ids.append(encoded['input_ids'])\n",
        "        attention_masks.append(encoded['attention_mask'])\n",
        "    return np.array(input_ids),np.array(attention_masks)"
      ],
      "metadata": {
        "id": "jtxv2AGzZjvd"
      },
      "execution_count": 5,
      "outputs": []
    },
    {
      "cell_type": "code",
      "source": [
        "tokenizer_roberta = RobertaTokenizerFast.from_pretrained(\"roberta-base\")\n"
      ],
      "metadata": {
        "colab": {
          "base_uri": "https://localhost:8080/",
          "height": 145,
          "referenced_widgets": [
            "d3e50da34e3b434fbc15a199e8d43743",
            "aee929f709b844599c5410ba579dc8cc",
            "0a3e914dfbea40198011e0c2d9df3261",
            "29b3c3de2417431ca0e6a8f4857bd3f7",
            "b16b5c9554604ea7ada2d5ebc9968077",
            "66c69745a8024bdd995587c50c7bf77e",
            "7c0924756ed74755b47337892878adba",
            "9ed5d536ba0d4c029e6bc73e84bdfbe0",
            "ed8d6635ed9a43ca860baf0ce5087898",
            "831fb70853eb4048b154e946169ed159",
            "08da024dfbe54b9da466eb39b90b9bec",
            "fc2d7a36ecf548a98752dfca7f1ba49f",
            "935225107b164b5d9d26215aef05d9de",
            "ba869da47aeb404dab3c9e4d73fdfb19",
            "04acfc42603341369ff7219296e5087b",
            "ed69c6cf1f0d4b9285d65b631b768264",
            "93e266cffc52474cb5fa0176c7816016",
            "be4b9590adcf4dad8bb849cde6f7ede6",
            "f10dca85a7514da29f7963c7519369f4",
            "b0b921efd6ac4639a660cd09fe58ab25",
            "eab2087bbfe046148cfabd5166002f7d",
            "199e199fe28e444eacfd144a494f370b",
            "398a4291ad5d48dfa72b0359fb6c4f72",
            "968e34e4beee446e9fe74dc3f093b2d6",
            "f22e9c51a335444196f4b52f79d1f9ac",
            "7aa4e130d250479da91ab9d16a087cc5",
            "47daa804cb1e447bb3ad98c0a3d489f6",
            "3779b44e82bc4f9e850f578470e6c6d8",
            "824f4f540520476cad88b8af26cbfdbf",
            "463305a3b2fe46eca5d6b8194351f344",
            "6a0b199d1b5e4600b129c9a765607f12",
            "0d808ce496e34ccdb3b9c29346afcea3",
            "22a6c6640adf4e3fae82610368cb5dac",
            "abb503b0281c4acdbb111022eb33647a",
            "b6d3da61ac6d4ea0b3ab03c8eb8d838c",
            "4b014d56e23546cf9531027e924f8a74",
            "98565eb9501d4da3a19f517a4a7304cb",
            "f1a73e06b47d4bb5b59849368ed74ce1",
            "fb49a4c41bc54451adfb77969275ed0e",
            "e612b4f5ce494f33a55292ccd51cfe15",
            "b52bd7e5ff8046beb32fc17593ac39b1",
            "3e88708bc0ed4486818e88c70d6b1850",
            "9ed5cf91505d4c02af5644d26832e881",
            "bb128b839cd747b98d85f41e3e92bccb"
          ]
        },
        "id": "mKcoQqRbZofG",
        "outputId": "5e4f788e-9bf9-4292-dc9d-d73ccfe0f024"
      },
      "execution_count": 6,
      "outputs": [
        {
          "output_type": "display_data",
          "data": {
            "text/plain": [
              "Downloading (…)olve/main/vocab.json:   0%|          | 0.00/899k [00:00<?, ?B/s]"
            ],
            "application/vnd.jupyter.widget-view+json": {
              "version_major": 2,
              "version_minor": 0,
              "model_id": "d3e50da34e3b434fbc15a199e8d43743"
            }
          },
          "metadata": {}
        },
        {
          "output_type": "display_data",
          "data": {
            "text/plain": [
              "Downloading (…)olve/main/merges.txt:   0%|          | 0.00/456k [00:00<?, ?B/s]"
            ],
            "application/vnd.jupyter.widget-view+json": {
              "version_major": 2,
              "version_minor": 0,
              "model_id": "fc2d7a36ecf548a98752dfca7f1ba49f"
            }
          },
          "metadata": {}
        },
        {
          "output_type": "display_data",
          "data": {
            "text/plain": [
              "Downloading (…)/main/tokenizer.json:   0%|          | 0.00/1.36M [00:00<?, ?B/s]"
            ],
            "application/vnd.jupyter.widget-view+json": {
              "version_major": 2,
              "version_minor": 0,
              "model_id": "398a4291ad5d48dfa72b0359fb6c4f72"
            }
          },
          "metadata": {}
        },
        {
          "output_type": "display_data",
          "data": {
            "text/plain": [
              "Downloading (…)lve/main/config.json:   0%|          | 0.00/481 [00:00<?, ?B/s]"
            ],
            "application/vnd.jupyter.widget-view+json": {
              "version_major": 2,
              "version_minor": 0,
              "model_id": "abb503b0281c4acdbb111022eb33647a"
            }
          },
          "metadata": {}
        }
      ]
    },
    {
      "cell_type": "markdown",
      "source": [
        "# **Configuración**"
      ],
      "metadata": {
        "id": "if2let7VZxtl"
      }
    },
    {
      "cell_type": "code",
      "source": [
        "MAX_LEN=255\n"
      ],
      "metadata": {
        "id": "kjhBXPjrZ1Rs"
      },
      "execution_count": 4,
      "outputs": []
    },
    {
      "cell_type": "code",
      "source": [
        "X = shuffled_train_data['text'].values\n",
        "y = shuffled_train_data['task2'].values\n",
        "Z = shuffled_test_data['text'].values\n",
        "z = shuffled_test_data['task2'].values"
      ],
      "metadata": {
        "id": "e-vedHnnZ2cr"
      },
      "execution_count": 7,
      "outputs": []
    },
    {
      "cell_type": "code",
      "source": [
        "# Dividir los datos en entrenamiento y prueba\n",
        "train_text, val_text, train_task2, val_task2 = train_test_split(X, y, test_size=0.2, random_state=42)"
      ],
      "metadata": {
        "id": "Z701EW0waDLw"
      },
      "execution_count": 8,
      "outputs": []
    },
    {
      "cell_type": "markdown",
      "source": [
        "# **Codificación**"
      ],
      "metadata": {
        "id": "s44VodQQaFdm"
      }
    },
    {
      "cell_type": "code",
      "source": [
        "from sklearn.preprocessing import LabelEncoder, OneHotEncoder\n",
        "import numpy as np\n",
        "\n",
        "# Crear un objeto LabelEncoder para convertir las etiquetas de clase en valores numéricos\n",
        "label_encoder = LabelEncoder()\n",
        "\n",
        "# Ajustar el encoder con los datos de train_task2\n",
        "label_encoder.fit(train_task2)\n",
        "\n",
        "# Aplicar la transformación a los conjuntos de datos\n",
        "train_task2_encoded = label_encoder.transform(train_task2)\n",
        "val_task2_encoded = label_encoder.transform(val_task2)\n",
        "z_encoded = label_encoder.transform(z)\n",
        "\n",
        "# Ahora puedes usar train_task2_encoded, val_task2_encoded y z_encoded en tu modelo de clasificación\n",
        "\n",
        "# Si deseas codificar las etiquetas de clase como one-hot encoded, utiliza OneHotEncoder\n",
        "onehot_encoder = OneHotEncoder(sparse_output=False)\n",
        "\n",
        "# Ajustar el encoder one-hot con las etiquetas codificadas numéricamente\n",
        "onehot_encoder.fit(train_task2_encoded.reshape(-1, 1))\n",
        "\n",
        "# Aplicar la transformación one-hot a los conjuntos de datos\n",
        "train_task2_onehot = onehot_encoder.transform(train_task2_encoded.reshape(-1, 1))\n",
        "val_task2_onehot = onehot_encoder.transform(val_task2_encoded.reshape(-1, 1))\n",
        "z_onehot = onehot_encoder.transform(z_encoded.reshape(-1, 1))\n",
        "\n",
        "# Ahora train_task2_onehot, val_task2_onehot y z_onehot contienen las etiquetas de clase codificadas como one-hot"
      ],
      "metadata": {
        "id": "_dg-Vp89aKOt"
      },
      "execution_count": 9,
      "outputs": []
    },
    {
      "cell_type": "markdown",
      "source": [
        "Estoy utilizando **LabelBinarizer** de Scikit-Learn para convertir las etiquetas de clase en codificación one-hot. La principal diferencia aquí es que uso fit una vez para ajustar el codificador con las etiquetas de clase, y luego uso transform para convertir las etiquetas de cada conjunto de datos (entrenamiento, validación, prueba) en codificación one-hot. Esto asegura que las mismas transformaciones se apliquen a todas las etiquetas, lo que es importante para mantener la consistencia.\n",
        "\n"
      ],
      "metadata": {
        "id": "O9uAj6zFqAHz"
      }
    },
    {
      "cell_type": "code",
      "source": [
        "from sklearn.preprocessing import LabelBinarizer\n",
        "\n",
        "etiquetas_clase = [\"non-sexist\", \"ideological-inequality\", \"stereotyping-dominance\", \"misogyny-non-sexual-violence\", \"sexual-violence\", \"objectification\"]\n",
        "\n",
        "# Crear un objeto LabelBinarizer para convertir las etiquetas de clase en one-hot encoding\n",
        "label_binarizer = LabelBinarizer()\n",
        "\n",
        "# Ajustar el LabelBinarizer con las etiquetas de clase\n",
        "label_binarizer.fit(etiquetas_clase)\n",
        "\n",
        "# Transformar las etiquetas de clase en one-hot encoding\n",
        "train_task2_onehot = label_binarizer.transform(train_task2)\n",
        "val_task2_onehot = label_binarizer.transform(val_task2)\n",
        "z_onehot = label_binarizer.transform(z)"
      ],
      "metadata": {
        "id": "vUUmRQPLekTX"
      },
      "execution_count": 9,
      "outputs": []
    },
    {
      "cell_type": "code",
      "source": [
        "import numpy as np\n",
        "train_input_ids, train_attention_masks = tokenize_roberta(train_text, MAX_LEN)\n",
        "val_input_ids, val_attention_masks = tokenize_roberta(val_text, MAX_LEN)\n",
        "test_input_ids, test_attention_masks = tokenize_roberta(Z, MAX_LEN)"
      ],
      "metadata": {
        "id": "Y1tkHmdufT5N"
      },
      "execution_count": 10,
      "outputs": []
    },
    {
      "cell_type": "code",
      "source": [
        "print(train_input_ids.shape)\n",
        "print(val_input_ids.shape)\n",
        "print(test_input_ids.shape)"
      ],
      "metadata": {
        "colab": {
          "base_uri": "https://localhost:8080/"
        },
        "id": "-W-LDU0QfmVf",
        "outputId": "5536fd5b-b6e1-49b1-e8e6-c0c464b76948"
      },
      "execution_count": 11,
      "outputs": [
        {
          "output_type": "stream",
          "name": "stdout",
          "text": [
            "(4748, 255)\n",
            "(1188, 255)\n",
            "(2208, 255)\n"
          ]
        }
      ]
    },
    {
      "cell_type": "markdown",
      "source": [
        "# **Cáculo y asignación de los pesos**"
      ],
      "metadata": {
        "id": "izOhBZximwXM"
      }
    },
    {
      "cell_type": "code",
      "source": [
        "import numpy as np\n",
        "\n",
        "# Frecuencias de las categorías\n",
        "muestras_por_categoria = {\n",
        "    \"non-sexist\": 3104,\n",
        "    \"ideological-inequality\": 672,\n",
        "    \"stereotyping-dominance\": 626,\n",
        "    \"misogyny-non-sexual-violence\": 494,\n",
        "    \"sexual-violence\": 590,\n",
        "    \"objectification\": 450\n",
        "}\n",
        "\n",
        "total_muestras = sum(muestras_por_categoria.values())\n",
        "\n",
        "# Calcular las frecuencias relativas\n",
        "frecuencias_relativas = {cat: count / total_muestras for cat, count in muestras_por_categoria.items()}\n",
        "\n",
        "# Calcular los pesos inversamente proporcionales a las frecuencias\n",
        "pesos = {cat: 1 / freq for cat, freq in frecuencias_relativas.items()}\n",
        "\n",
        "# Normalizar los pesos\n",
        "suma_pesos = sum(pesos.values())\n",
        "pesos_normalizados = {cat: weight / suma_pesos for cat, weight in pesos.items()}\n",
        "\n",
        "print(pesos_normalizados)\n"
      ],
      "metadata": {
        "id": "bMdKY75Nmvf_",
        "colab": {
          "base_uri": "https://localhost:8080/"
        },
        "outputId": "a9b63454-0f47-44ea-bae9-27bae07c107b"
      },
      "execution_count": 12,
      "outputs": [
        {
          "output_type": "stream",
          "name": "stdout",
          "text": [
            "{'non-sexist': 0.034459338617129444, 'ideological-inequality': 0.15916932599340744, 'stereotyping-dominance': 0.17086547454883352, 'misogyny-non-sexual-violence': 0.21652183616916965, 'sexual-violence': 0.18129116452130473, 'objectification': 0.2376928601501551}\n"
          ]
        }
      ]
    },
    {
      "cell_type": "code",
      "source": [
        "import tensorflow as tf\n",
        "\n",
        "# Crear el tensor de pesos para la función de pérdida\n",
        "pesos_array = np.array(list(pesos_normalizados.values()))\n",
        "pesos_tensor = tf.constant(pesos_array, dtype=tf.float32)"
      ],
      "metadata": {
        "id": "dNQrNR9wpC3j"
      },
      "execution_count": 13,
      "outputs": []
    },
    {
      "cell_type": "code",
      "source": [
        "import tensorflow as tf\n",
        "\n",
        "def create_multiclass_model(bert_model, max_len=MAX_LEN):\n",
        "    opt = tf.keras.optimizers.Adam(learning_rate=1e-5)\n",
        "    #loss = tf.keras.losses.SparseCategoricalCrossentropy()\n",
        "    #accuracy = tf.keras.metrics.SparseCategoricalAccuracy()\n",
        "    #loss = tf.keras.losses.CategoricalCrossentropy()\n",
        "    loss = weighted_categorical_crossentropy  # Utilizamos la función con pesos\n",
        "\n",
        "    input_ids = tf.keras.Input(shape=(max_len,), dtype='int32')\n",
        "    attention_masks = tf.keras.Input(shape=(max_len,), dtype='int32')\n",
        "    output = bert_model([input_ids, attention_masks])\n",
        "    output = output[1]\n",
        "\n",
        "    # Agregar Dropout\n",
        "    output = tf.keras.layers.Dropout(0.5)(output)\n",
        "\n",
        "    # Cambiar la salida para clasificación multiclase (6 clases)\n",
        "    output = tf.keras.layers.Dense(6, activation='softmax')(output)\n",
        "\n",
        "    model = tf.keras.models.Model(inputs=[input_ids, attention_masks], outputs=output)\n",
        "\n",
        "    # Compilar el modelo\n",
        "    # Cambiar la métrica de BinaryAccuracy a CategoricalAccuracy\n",
        "    accuracy = tf.keras.metrics.CategoricalAccuracy()\n",
        "\n",
        "    # Compilar el modelo\n",
        "    model.compile(opt, loss=loss, metrics=[accuracy])\n",
        "\n",
        "    # Agregar Early Stopping\n",
        "    early_stopping = tf.keras.callbacks.EarlyStopping(patience=2, monitor='val_loss')\n",
        "\n",
        "    return model, early_stopping\n",
        "\n",
        "    # Función de pérdida ponderada\n",
        "#def weighted_categorical_crossentropy(y_true, y_pred):\n",
        "    # Aplicar los pesos solo a las muestras positivas (las que tienen etiqueta 1)\n",
        "    #weights = tf.reduce_sum(pesos_tensor * y_true, axis=1)\n",
        "    #unweighted_loss = tf.keras.losses.categorical_crossentropy(y_true, y_pred)\n",
        "    #weighted_loss = unweighted_loss * weights\n",
        "    #return tf.reduce_mean(weighted_loss)\n",
        "\n",
        "    # Función de pérdida ponderada\n",
        "def weighted_categorical_crossentropy(y_true, y_pred):\n",
        "    # Convertir y_true a float32\n",
        "    y_true = tf.cast(y_true, dtype=tf.float32)\n",
        "    # Aplicar los pesos solo a las muestras positivas (las que tienen etiqueta 1)\n",
        "    weights = tf.reduce_sum(pesos_tensor * y_true, axis=1)\n",
        "    unweighted_loss = tf.keras.losses.categorical_crossentropy(y_true, y_pred)\n",
        "    weighted_loss = unweighted_loss * weights\n",
        "    return tf.reduce_mean(weighted_loss)\n",
        "\n"
      ],
      "metadata": {
        "id": "PI_YmkFFf009"
      },
      "execution_count": 14,
      "outputs": []
    },
    {
      "cell_type": "code",
      "source": [
        "roberta_model = TFRobertaModel.from_pretrained('roberta-base')\n"
      ],
      "metadata": {
        "colab": {
          "base_uri": "https://localhost:8080/",
          "height": 156,
          "referenced_widgets": [
            "b4e80e73ad864fc298493121d62630c9",
            "6f98f3dc32e2428b853fd1397d29756f",
            "70645ce415164406ac9e493633bc9ae2",
            "6e05ac5f620343c3b4fd5c8e03525e17",
            "c2aff6f3883841d4ad99eebc4258bd8d",
            "ea48401054464d5997e9eba56c28038d",
            "4c4a06cb9a35495e966ee082f72ee633",
            "0591104f19d543f2b6e8d9d14ddbd800",
            "9e0a8be0abd84b3b929845affea2199e",
            "fb0590811f7b4c45a145ffd13e559ed8",
            "de281d36910f49ef80a9de501f01176c"
          ]
        },
        "id": "qYA-l9TVf3db",
        "outputId": "67159f2a-5306-441c-960e-2f24ee81cba3"
      },
      "execution_count": 15,
      "outputs": [
        {
          "output_type": "display_data",
          "data": {
            "text/plain": [
              "Downloading model.safetensors:   0%|          | 0.00/499M [00:00<?, ?B/s]"
            ],
            "application/vnd.jupyter.widget-view+json": {
              "version_major": 2,
              "version_minor": 0,
              "model_id": "b4e80e73ad864fc298493121d62630c9"
            }
          },
          "metadata": {}
        },
        {
          "output_type": "stream",
          "name": "stderr",
          "text": [
            "Some weights of the PyTorch model were not used when initializing the TF 2.0 model TFRobertaModel: ['lm_head.layer_norm.weight', 'roberta.embeddings.position_ids', 'lm_head.dense.bias', 'lm_head.dense.weight', 'lm_head.bias', 'lm_head.layer_norm.bias']\n",
            "- This IS expected if you are initializing TFRobertaModel from a PyTorch model trained on another task or with another architecture (e.g. initializing a TFBertForSequenceClassification model from a BertForPreTraining model).\n",
            "- This IS NOT expected if you are initializing TFRobertaModel from a PyTorch model that you expect to be exactly identical (e.g. initializing a TFBertForSequenceClassification model from a BertForSequenceClassification model).\n",
            "Some weights or buffers of the TF 2.0 model TFRobertaModel were not initialized from the PyTorch model and are newly initialized: ['roberta.pooler.dense.weight', 'roberta.pooler.dense.bias']\n",
            "You should probably TRAIN this model on a down-stream task to be able to use it for predictions and inference.\n"
          ]
        }
      ]
    },
    {
      "cell_type": "code",
      "source": [
        "#model = create_model(roberta_model, MAX_LEN)\n",
        "model, early_stopping = create_multiclass_model(roberta_model, MAX_LEN)\n",
        "model.summary()"
      ],
      "metadata": {
        "colab": {
          "base_uri": "https://localhost:8080/"
        },
        "id": "wDjxXSHEf7LC",
        "outputId": "4e989851-d6a4-44db-827a-5f5de51f7084"
      },
      "execution_count": 16,
      "outputs": [
        {
          "output_type": "stream",
          "name": "stdout",
          "text": [
            "Model: \"model\"\n",
            "__________________________________________________________________________________________________\n",
            " Layer (type)                   Output Shape         Param #     Connected to                     \n",
            "==================================================================================================\n",
            " input_1 (InputLayer)           [(None, 255)]        0           []                               \n",
            "                                                                                                  \n",
            " input_2 (InputLayer)           [(None, 255)]        0           []                               \n",
            "                                                                                                  \n",
            " tf_roberta_model (TFRobertaMod  TFBaseModelOutputWi  124645632  ['input_1[0][0]',                \n",
            " el)                            thPoolingAndCrossAt               'input_2[0][0]']                \n",
            "                                tentions(last_hidde                                               \n",
            "                                n_state=(None, 255,                                               \n",
            "                                 768),                                                            \n",
            "                                 pooler_output=(Non                                               \n",
            "                                e, 768),                                                          \n",
            "                                 past_key_values=No                                               \n",
            "                                ne, hidden_states=N                                               \n",
            "                                one, attentions=Non                                               \n",
            "                                e, cross_attentions                                               \n",
            "                                =None)                                                            \n",
            "                                                                                                  \n",
            " dropout_37 (Dropout)           (None, 768)          0           ['tf_roberta_model[0][1]']       \n",
            "                                                                                                  \n",
            " dense (Dense)                  (None, 6)            4614        ['dropout_37[0][0]']             \n",
            "                                                                                                  \n",
            "==================================================================================================\n",
            "Total params: 124,650,246\n",
            "Trainable params: 124,650,246\n",
            "Non-trainable params: 0\n",
            "__________________________________________________________________________________________________\n"
          ]
        }
      ]
    },
    {
      "cell_type": "code",
      "source": [
        "#history_2 = model.fit([train_input_ids,train_attention_masks], train_task2_onehot, validation_data=([val_input_ids,val_attention_masks], val_task2_onehot), epochs=8, batch_size=16)\n",
        "history_2 = model.fit(\n",
        "    [train_input_ids, train_attention_masks], train_task2_onehot,\n",
        "    validation_data=([val_input_ids, val_attention_masks], val_task2_onehot),\n",
        "    epochs=8,\n",
        "    batch_size=32,\n",
        "    callbacks=[early_stopping]  # Aquí se añade la devolución anticipada como callback\n",
        ")"
      ],
      "metadata": {
        "colab": {
          "base_uri": "https://localhost:8080/"
        },
        "id": "FagKeOIZgM36",
        "outputId": "193ed6ae-35d2-427d-8aec-83916d51293f"
      },
      "execution_count": 17,
      "outputs": [
        {
          "output_type": "stream",
          "name": "stdout",
          "text": [
            "Epoch 1/8\n",
            "149/149 [==============================] - 344s 2s/step - loss: 0.2192 - categorical_accuracy: 0.5084 - val_loss: 0.1507 - val_categorical_accuracy: 0.6069\n",
            "Epoch 2/8\n",
            "149/149 [==============================] - 286s 2s/step - loss: 0.1455 - categorical_accuracy: 0.6316 - val_loss: 0.1247 - val_categorical_accuracy: 0.6919\n",
            "Epoch 3/8\n",
            "149/149 [==============================] - 285s 2s/step - loss: 0.1067 - categorical_accuracy: 0.7102 - val_loss: 0.0965 - val_categorical_accuracy: 0.7399\n",
            "Epoch 4/8\n",
            "149/149 [==============================] - 265s 2s/step - loss: 0.0752 - categorical_accuracy: 0.7917 - val_loss: 0.0890 - val_categorical_accuracy: 0.7803\n",
            "Epoch 5/8\n",
            "149/149 [==============================] - 285s 2s/step - loss: 0.0515 - categorical_accuracy: 0.8454 - val_loss: 0.0828 - val_categorical_accuracy: 0.7997\n",
            "Epoch 6/8\n",
            "149/149 [==============================] - 285s 2s/step - loss: 0.0372 - categorical_accuracy: 0.8823 - val_loss: 0.0771 - val_categorical_accuracy: 0.8274\n",
            "Epoch 7/8\n",
            "149/149 [==============================] - 285s 2s/step - loss: 0.0275 - categorical_accuracy: 0.9061 - val_loss: 0.0799 - val_categorical_accuracy: 0.8283\n",
            "Epoch 8/8\n",
            "149/149 [==============================] - 285s 2s/step - loss: 0.0223 - categorical_accuracy: 0.9179 - val_loss: 0.0875 - val_categorical_accuracy: 0.8401\n"
          ]
        }
      ]
    },
    {
      "cell_type": "code",
      "source": [
        "result_roberta = model.predict([test_input_ids,test_attention_masks])\n"
      ],
      "metadata": {
        "colab": {
          "base_uri": "https://localhost:8080/"
        },
        "id": "dJxjCJguh-A4",
        "outputId": "b9f32a9f-d8e2-407b-c89b-dabff646816c"
      },
      "execution_count": 18,
      "outputs": [
        {
          "output_type": "stream",
          "name": "stdout",
          "text": [
            "69/69 [==============================] - 40s 558ms/step\n"
          ]
        }
      ]
    },
    {
      "cell_type": "code",
      "source": [
        "# Evaluar el modelo\n",
        "evaluation = model.evaluate([test_input_ids, test_attention_masks], z_onehot)\n",
        "\n",
        "# Imprimir los resultados de la evaluación\n",
        "print(\"Loss:\", evaluation[0])\n",
        "print(\"Accuracy:\", evaluation[1])"
      ],
      "metadata": {
        "colab": {
          "base_uri": "https://localhost:8080/"
        },
        "id": "cwMnSd6AjY-9",
        "outputId": "f3d8c0a4-5b74-46eb-959f-8db77ec1b45a"
      },
      "execution_count": 19,
      "outputs": [
        {
          "output_type": "stream",
          "name": "stdout",
          "text": [
            "69/69 [==============================] - 39s 561ms/step - loss: 0.2866 - categorical_accuracy: 0.5874\n",
            "Loss: 0.2865637242794037\n",
            "Accuracy: 0.5874094367027283\n"
          ]
        }
      ]
    },
    {
      "cell_type": "code",
      "source": [
        "y_pred_roberta =  np.zeros_like(result_roberta)\n",
        "y_pred_roberta[np.arange(len(y_pred_roberta)), result_roberta.argmax(1)] = 1\n",
        "\n",
        "\n",
        "#metrics\n",
        "from sklearn.metrics import accuracy_score, f1_score\n",
        "from sklearn.metrics import classification_report, confusion_matrix\n",
        "from sklearn.metrics import confusion_matrix\n",
        "import seaborn as sns\n",
        "import matplotlib.pyplot as plt\n",
        "\n",
        "# Suponiendo que z_test.argmax(1) son las etiquetas reales y y_pred_roberta.argmax(1) son las etiquetas predichas\n",
        "cm = confusion_matrix(z_onehot.argmax(1), y_pred_roberta.argmax(1))\n",
        "\n",
        "# Crear un heatmap de la matriz de confusión\n",
        "sns.heatmap(cm, annot=True, cmap=\"Blues\", fmt=\"d\", cbar=False)\n",
        "\n",
        "# Añadir etiquetas a los ejes\n",
        "plt.xlabel(\"Clase predicha\")\n",
        "plt.ylabel(\"Clase verdadera\")\n",
        "\n",
        "# Mostrar el gráfico\n",
        "plt.show()"
      ],
      "metadata": {
        "colab": {
          "base_uri": "https://localhost:8080/",
          "height": 449
        },
        "id": "2ThaSTEol4Ca",
        "outputId": "75d7abaa-6bd1-4b0f-ee8d-2a52e862856e"
      },
      "execution_count": null,
      "outputs": [
        {
          "output_type": "display_data",
          "data": {
            "text/plain": [
              "<Figure size 640x480 with 1 Axes>"
            ],
            "image/png": "[encoded data removed]"
          },
          "metadata": {}
        }
      ]
    },
    {
      "cell_type": "markdown",
      "source": [
        "# **Resultados**\n",
        "\n",
        "\n",
        "---\n",
        "\n",
        "Para 8 epochs, lr = 0.00001, batch_size = 32, datos no preprocesados, sin datos  ampliados mediante técnica swapping y aplicación de pesos para compensar las clases minoritárias se obtiene:\n",
        "\n",
        "##Training\n",
        "\n",
        "```\n",
        "Epoch 1/8\n",
        "86/86 [==============================] - 246s 2s/step - loss: 0.2482 - categorical_accuracy: 0.4585 - val_loss: 0.2038 - val_categorical_accuracy: 0.5247\n",
        "Epoch 2/8\n",
        "86/86 [==============================] - 159s 2s/step - loss: 0.1905 - categorical_accuracy: 0.5473 - val_loss: 0.1569 - val_categorical_accuracy: 0.6017\n",
        "Epoch 3/8\n",
        "86/86 [==============================] - 160s 2s/step - loss: 0.1516 - categorical_accuracy: 0.6223 - val_loss: 0.1419 - val_categorical_accuracy: 0.6119\n",
        "Epoch 4/8\n",
        "86/86 [==============================] - 151s 2s/step - loss: 0.1228 - categorical_accuracy: 0.6758 - val_loss: 0.1497 - val_categorical_accuracy: 0.6206\n",
        "Epoch 5/8\n",
        "86/86 [==============================] - 160s 2s/step - loss: 0.0970 - categorical_accuracy: 0.7351 - val_loss: 0.1476 - val_categorical_accuracy: 0.6555\n",
        "```\n",
        "##Evaluación:\n",
        "\n",
        "\n",
        "```\n",
        "69/69 [==============================] - 37s 538ms/step - loss: 0.1719 - categorical_accuracy: 0.5779\n",
        "Loss: 0.17185792326927185\n",
        "Accuracy: 0.5778985619544983\n",
        "```\n",
        "\n",
        "\n"
      ],
      "metadata": {
        "id": "g1MFiv-0tvLk"
      }
    },
    {
      "cell_type": "markdown",
      "source": [
        "Para 8 epochs, lr = 0.00001, batch_size = 16, datos no preprocesados, sin datos ampliados mediante técnica swapping y aplicación de pesos para compensar las clases minoritárias se obtiene:\n",
        "\n",
        "#Training:\n",
        "\n",
        "\n",
        "```\n",
        "Epoch 1/8\n",
        "172/172 [==============================] - 223s 991ms/step - loss: 0.2310 - categorical_accuracy: 0.5156 - val_loss: 0.1973 - val_categorical_accuracy: 0.5422\n",
        "Epoch 2/8\n",
        "172/172 [==============================] - 161s 939ms/step - loss: 0.1728 - categorical_accuracy: 0.5786 - val_loss: 0.1472 - val_categorical_accuracy: 0.6250\n",
        "Epoch 3/8\n",
        "172/172 [==============================] - 152s 882ms/step - loss: 0.1297 - categorical_accuracy: 0.6612 - val_loss: 0.1393 - val_categorical_accuracy: 0.6468\n",
        "Epoch 4/8\n",
        "172/172 [==============================] - 160s 932ms/step - loss: 0.1023 - categorical_accuracy: 0.7216 - val_loss: 0.1414 - val_categorical_accuracy: 0.6686\n",
        "Epoch 5/8\n",
        "172/172 [==============================] - 151s 881ms/step - loss: 0.0780 - categorical_accuracy: 0.7835 - val_loss: 0.1586 - val_categorical_accuracy: 0.6584\n",
        "```\n",
        "#Evaluación:\n",
        "\n",
        "\n",
        "```\n",
        "69/69 [==============================] - 46s 548ms/step - loss: 0.1856 - categorical_accuracy: 0.5729\n",
        "Loss: 0.185576930642128\n",
        "Accuracy: 0.5729166865348816\n",
        "```\n",
        "\n",
        "\n"
      ],
      "metadata": {
        "id": "FI72vjjlrTc1"
      }
    },
    {
      "cell_type": "markdown",
      "source": [
        "Para 8 epochs, lr = 0.00001, batch_size = 16, datos no preprocesados, con datos ampliados mediante técnica swapping y aplicación de pesos para compensar las clases minoritárias se obtiene:\n",
        "\n",
        "#Training:\n",
        "\n",
        "\n",
        "```\n",
        "Epoch 1/8\n",
        "297/297 [==============================] - 346s 972ms/step - loss: 0.2027 - categorical_accuracy: 0.5493 - val_loss: 0.1462 - val_categorical_accuracy: 0.6128\n",
        "Epoch 2/8\n",
        "297/297 [==============================] - 279s 941ms/step - loss: 0.1281 - categorical_accuracy: 0.6683 - val_loss: 0.1072 - val_categorical_accuracy: 0.7374\n",
        "Epoch 3/8\n",
        "297/297 [==============================] - 258s 868ms/step - loss: 0.0890 - categorical_accuracy: 0.7614 - val_loss: 0.1081 - val_categorical_accuracy: 0.7382\n",
        "Epoch 4/8\n",
        "297/297 [==============================] - 278s 937ms/step - loss: 0.0575 - categorical_accuracy: 0.8294 - val_loss: 0.0855 - val_categorical_accuracy: 0.8005\n",
        "Epoch 5/8\n",
        "297/297 [==============================] - 258s 869ms/step - loss: 0.0406 - categorical_accuracy: 0.8726 - val_loss: 0.0742 - val_categorical_accuracy: 0.8401\n",
        "Epoch 6/8\n",
        "297/297 [==============================] - 258s 867ms/step - loss: 0.0266 - categorical_accuracy: 0.9158 - val_loss: 0.0749 - val_categorical_accuracy: 0.8418\n",
        "Epoch 7/8\n",
        "297/297 [==============================] - 258s 868ms/step - loss: 0.0175 - categorical_accuracy: 0.9360 - val_loss: 0.0847 - val_categorical_accuracy: 0.8443\n",
        "```\n",
        "\n",
        "#Evaluación:\n",
        "\n",
        "\n",
        "```\n",
        "69/69 [==============================] - 37s 529ms/step - loss: 0.3139 - categorical_accuracy: 0.5892\n",
        "Loss: 0.31388023495674133\n",
        "Accuracy: 0.5892210006713867\n",
        "```\n",
        "\n",
        "\n"
      ],
      "metadata": {
        "id": "Y2MBFvklv2g2"
      }
    },
    {
      "cell_type": "markdown",
      "source": [
        "Para 8 epochs, lr = 0.00001, batch_size = 32, datos no preprocesados, con datos ampliados mediante técnica swapping y aplicación de pesos para compensar las clases minoritárias se obtiene:\n",
        "\n",
        "#Training:\n",
        "\n",
        "\n",
        "```\n",
        "Epoch 1/8\n",
        "149/149 [==============================] - 344s 2s/step - loss: 0.2192 - categorical_accuracy: 0.5084 - val_loss: 0.1507 - val_categorical_accuracy: 0.6069\n",
        "Epoch 2/8\n",
        "149/149 [==============================] - 286s 2s/step - loss: 0.1455 - categorical_accuracy: 0.6316 - val_loss: 0.1247 - val_categorical_accuracy: 0.6919\n",
        "Epoch 3/8\n",
        "149/149 [==============================] - 285s 2s/step - loss: 0.1067 - categorical_accuracy: 0.7102 - val_loss: 0.0965 - val_categorical_accuracy: 0.7399\n",
        "Epoch 4/8\n",
        "149/149 [==============================] - 265s 2s/step - loss: 0.0752 - categorical_accuracy: 0.7917 - val_loss: 0.0890 - val_categorical_accuracy: 0.7803\n",
        "Epoch 5/8\n",
        "149/149 [==============================] - 285s 2s/step - loss: 0.0515 - categorical_accuracy: 0.8454 - val_loss: 0.0828 - val_categorical_accuracy: 0.7997\n",
        "Epoch 6/8\n",
        "149/149 [==============================] - 285s 2s/step - loss: 0.0372 - categorical_accuracy: 0.8823 - val_loss: 0.0771 - val_categorical_accuracy: 0.8274\n",
        "Epoch 7/8\n",
        "149/149 [==============================] - 285s 2s/step - loss: 0.0275 - categorical_accuracy: 0.9061 - val_loss: 0.0799 - val_categorical_accuracy: 0.8283\n",
        "Epoch 8/8\n",
        "149/149 [==============================] - 285s 2s/step - loss: 0.0223 - categorical_accuracy: 0.9179 - val_loss: 0.0875 - val_categorical_accuracy: 0.8401\n",
        "```\n",
        "#Evaluación:\n",
        "\n",
        "\n",
        "```\n",
        "69/69 [==============================] - 39s 561ms/step - loss: 0.2866 - categorical_accuracy: 0.5874\n",
        "Loss: 0.2865637242794037\n",
        "Accuracy: 0.5874094367027283\n",
        "```\n",
        "\n",
        "\n"
      ],
      "metadata": {
        "id": "Qmubn2wh5Dsw"
      }
    }
  ]
}
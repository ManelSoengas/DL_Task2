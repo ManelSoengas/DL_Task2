{
  "nbformat": 4,
  "nbformat_minor": 0,
  "metadata": {
    "colab": {
      "provenance": [],
      "gpuType": "T4",
      "include_colab_link": true
    },
    "kernelspec": {
      "name": "python3",
      "display_name": "Python 3"
    },
    "language_info": {
      "name": "python"
    },
    "accelerator": "GPU",
    "widgets": {
      "application/vnd.jupyter.widget-state+json": {
        "2e4eaece9efa411bb9bb19aaaa793282": {
          "model_module": "@jupyter-widgets/controls",
          "model_name": "HBoxModel",
          "model_module_version": "1.5.0",
          "state": {
            "_dom_classes": [],
            "_model_module": "@jupyter-widgets/controls",
            "_model_module_version": "1.5.0",
            "_model_name": "HBoxModel",
            "_view_count": null,
            "_view_module": "@jupyter-widgets/controls",
            "_view_module_version": "1.5.0",
            "_view_name": "HBoxView",
            "box_style": "",
            "children": [
              "IPY_MODEL_bebeb3e22cab40029d14ba2a5a652f23",
              "IPY_MODEL_3b2d9ad6332843f68e4b00875dc29e5a",
              "IPY_MODEL_e9ddc0cfec414659a35c264c7391298b"
            ],
            "layout": "IPY_MODEL_61a754fd7ff9477591daadf86d3e09d9"
          }
        },
        "bebeb3e22cab40029d14ba2a5a652f23": {
          "model_module": "@jupyter-widgets/controls",
          "model_name": "HTMLModel",
          "model_module_version": "1.5.0",
          "state": {
            "_dom_classes": [],
            "_model_module": "@jupyter-widgets/controls",
            "_model_module_version": "1.5.0",
            "_model_name": "HTMLModel",
            "_view_count": null,
            "_view_module": "@jupyter-widgets/controls",
            "_view_module_version": "1.5.0",
            "_view_name": "HTMLView",
            "description": "",
            "description_tooltip": null,
            "layout": "IPY_MODEL_84da514e7e3144a3b4c286e151870ecd",
            "placeholder": "​",
            "style": "IPY_MODEL_e391c17856a64bba944e5946f5a07190",
            "value": "Downloading (…)okenizer_config.json: 100%"
          }
        },
        "3b2d9ad6332843f68e4b00875dc29e5a": {
          "model_module": "@jupyter-widgets/controls",
          "model_name": "FloatProgressModel",
          "model_module_version": "1.5.0",
          "state": {
            "_dom_classes": [],
            "_model_module": "@jupyter-widgets/controls",
            "_model_module_version": "1.5.0",
            "_model_name": "FloatProgressModel",
            "_view_count": null,
            "_view_module": "@jupyter-widgets/controls",
            "_view_module_version": "1.5.0",
            "_view_name": "ProgressView",
            "bar_style": "success",
            "description": "",
            "description_tooltip": null,
            "layout": "IPY_MODEL_8dba5c41def14f9d913e518f9909ed59",
            "max": 319,
            "min": 0,
            "orientation": "horizontal",
            "style": "IPY_MODEL_82fd83e17676424d866159233d3f5e0b",
            "value": 319
          }
        },
        "e9ddc0cfec414659a35c264c7391298b": {
          "model_module": "@jupyter-widgets/controls",
          "model_name": "HTMLModel",
          "model_module_version": "1.5.0",
          "state": {
            "_dom_classes": [],
            "_model_module": "@jupyter-widgets/controls",
            "_model_module_version": "1.5.0",
            "_model_name": "HTMLModel",
            "_view_count": null,
            "_view_module": "@jupyter-widgets/controls",
            "_view_module_version": "1.5.0",
            "_view_name": "HTMLView",
            "description": "",
            "description_tooltip": null,
            "layout": "IPY_MODEL_87701475d26f4362bd83e4f56a0ebc30",
            "placeholder": "​",
            "style": "IPY_MODEL_58289d323e5140eab30640020bb927c2",
            "value": " 319/319 [00:00&lt;00:00, 7.41kB/s]"
          }
        },
        "61a754fd7ff9477591daadf86d3e09d9": {
          "model_module": "@jupyter-widgets/base",
          "model_name": "LayoutModel",
          "model_module_version": "1.2.0",
          "state": {
            "_model_module": "@jupyter-widgets/base",
            "_model_module_version": "1.2.0",
            "_model_name": "LayoutModel",
            "_view_count": null,
            "_view_module": "@jupyter-widgets/base",
            "_view_module_version": "1.2.0",
            "_view_name": "LayoutView",
            "align_content": null,
            "align_items": null,
            "align_self": null,
            "border": null,
            "bottom": null,
            "display": null,
            "flex": null,
            "flex_flow": null,
            "grid_area": null,
            "grid_auto_columns": null,
            "grid_auto_flow": null,
            "grid_auto_rows": null,
            "grid_column": null,
            "grid_gap": null,
            "grid_row": null,
            "grid_template_areas": null,
            "grid_template_columns": null,
            "grid_template_rows": null,
            "height": null,
            "justify_content": null,
            "justify_items": null,
            "left": null,
            "margin": null,
            "max_height": null,
            "max_width": null,
            "min_height": null,
            "min_width": null,
            "object_fit": null,
            "object_position": null,
            "order": null,
            "overflow": null,
            "overflow_x": null,
            "overflow_y": null,
            "padding": null,
            "right": null,
            "top": null,
            "visibility": null,
            "width": null
          }
        },
        "84da514e7e3144a3b4c286e151870ecd": {
          "model_module": "@jupyter-widgets/base",
          "model_name": "LayoutModel",
          "model_module_version": "1.2.0",
          "state": {
            "_model_module": "@jupyter-widgets/base",
            "_model_module_version": "1.2.0",
            "_model_name": "LayoutModel",
            "_view_count": null,
            "_view_module": "@jupyter-widgets/base",
            "_view_module_version": "1.2.0",
            "_view_name": "LayoutView",
            "align_content": null,
            "align_items": null,
            "align_self": null,
            "border": null,
            "bottom": null,
            "display": null,
            "flex": null,
            "flex_flow": null,
            "grid_area": null,
            "grid_auto_columns": null,
            "grid_auto_flow": null,
            "grid_auto_rows": null,
            "grid_column": null,
            "grid_gap": null,
            "grid_row": null,
            "grid_template_areas": null,
            "grid_template_columns": null,
            "grid_template_rows": null,
            "height": null,
            "justify_content": null,
            "justify_items": null,
            "left": null,
            "margin": null,
            "max_height": null,
            "max_width": null,
            "min_height": null,
            "min_width": null,
            "object_fit": null,
            "object_position": null,
            "order": null,
            "overflow": null,
            "overflow_x": null,
            "overflow_y": null,
            "padding": null,
            "right": null,
            "top": null,
            "visibility": null,
            "width": null
          }
        },
        "e391c17856a64bba944e5946f5a07190": {
          "model_module": "@jupyter-widgets/controls",
          "model_name": "DescriptionStyleModel",
          "model_module_version": "1.5.0",
          "state": {
            "_model_module": "@jupyter-widgets/controls",
            "_model_module_version": "1.5.0",
            "_model_name": "DescriptionStyleModel",
            "_view_count": null,
            "_view_module": "@jupyter-widgets/base",
            "_view_module_version": "1.2.0",
            "_view_name": "StyleView",
            "description_width": ""
          }
        },
        "8dba5c41def14f9d913e518f9909ed59": {
          "model_module": "@jupyter-widgets/base",
          "model_name": "LayoutModel",
          "model_module_version": "1.2.0",
          "state": {
            "_model_module": "@jupyter-widgets/base",
            "_model_module_version": "1.2.0",
            "_model_name": "LayoutModel",
            "_view_count": null,
            "_view_module": "@jupyter-widgets/base",
            "_view_module_version": "1.2.0",
            "_view_name": "LayoutView",
            "align_content": null,
            "align_items": null,
            "align_self": null,
            "border": null,
            "bottom": null,
            "display": null,
            "flex": null,
            "flex_flow": null,
            "grid_area": null,
            "grid_auto_columns": null,
            "grid_auto_flow": null,
            "grid_auto_rows": null,
            "grid_column": null,
            "grid_gap": null,
            "grid_row": null,
            "grid_template_areas": null,
            "grid_template_columns": null,
            "grid_template_rows": null,
            "height": null,
            "justify_content": null,
            "justify_items": null,
            "left": null,
            "margin": null,
            "max_height": null,
            "max_width": null,
            "min_height": null,
            "min_width": null,
            "object_fit": null,
            "object_position": null,
            "order": null,
            "overflow": null,
            "overflow_x": null,
            "overflow_y": null,
            "padding": null,
            "right": null,
            "top": null,
            "visibility": null,
            "width": null
          }
        },
        "82fd83e17676424d866159233d3f5e0b": {
          "model_module": "@jupyter-widgets/controls",
          "model_name": "ProgressStyleModel",
          "model_module_version": "1.5.0",
          "state": {
            "_model_module": "@jupyter-widgets/controls",
            "_model_module_version": "1.5.0",
            "_model_name": "ProgressStyleModel",
            "_view_count": null,
            "_view_module": "@jupyter-widgets/base",
            "_view_module_version": "1.2.0",
            "_view_name": "StyleView",
            "bar_color": null,
            "description_width": ""
          }
        },
        "87701475d26f4362bd83e4f56a0ebc30": {
          "model_module": "@jupyter-widgets/base",
          "model_name": "LayoutModel",
          "model_module_version": "1.2.0",
          "state": {
            "_model_module": "@jupyter-widgets/base",
            "_model_module_version": "1.2.0",
            "_model_name": "LayoutModel",
            "_view_count": null,
            "_view_module": "@jupyter-widgets/base",
            "_view_module_version": "1.2.0",
            "_view_name": "LayoutView",
            "align_content": null,
            "align_items": null,
            "align_self": null,
            "border": null,
            "bottom": null,
            "display": null,
            "flex": null,
            "flex_flow": null,
            "grid_area": null,
            "grid_auto_columns": null,
            "grid_auto_flow": null,
            "grid_auto_rows": null,
            "grid_column": null,
            "grid_gap": null,
            "grid_row": null,
            "grid_template_areas": null,
            "grid_template_columns": null,
            "grid_template_rows": null,
            "height": null,
            "justify_content": null,
            "justify_items": null,
            "left": null,
            "margin": null,
            "max_height": null,
            "max_width": null,
            "min_height": null,
            "min_width": null,
            "object_fit": null,
            "object_position": null,
            "order": null,
            "overflow": null,
            "overflow_x": null,
            "overflow_y": null,
            "padding": null,
            "right": null,
            "top": null,
            "visibility": null,
            "width": null
          }
        },
        "58289d323e5140eab30640020bb927c2": {
          "model_module": "@jupyter-widgets/controls",
          "model_name": "DescriptionStyleModel",
          "model_module_version": "1.5.0",
          "state": {
            "_model_module": "@jupyter-widgets/controls",
            "_model_module_version": "1.5.0",
            "_model_name": "DescriptionStyleModel",
            "_view_count": null,
            "_view_module": "@jupyter-widgets/base",
            "_view_module_version": "1.2.0",
            "_view_name": "StyleView",
            "description_width": ""
          }
        },
        "d2308a36318642a78c43456dd105409f": {
          "model_module": "@jupyter-widgets/controls",
          "model_name": "HBoxModel",
          "model_module_version": "1.5.0",
          "state": {
            "_dom_classes": [],
            "_model_module": "@jupyter-widgets/controls",
            "_model_module_version": "1.5.0",
            "_model_name": "HBoxModel",
            "_view_count": null,
            "_view_module": "@jupyter-widgets/controls",
            "_view_module_version": "1.5.0",
            "_view_name": "HBoxView",
            "box_style": "",
            "children": [
              "IPY_MODEL_b26e853ce2d6489e86f22b115e5baf24",
              "IPY_MODEL_d71d8b8bf2de4cd38eadfe63827ea282",
              "IPY_MODEL_d044594f2c1b4a81b3001d3ec1fa1547"
            ],
            "layout": "IPY_MODEL_c3a4e37d532e41ff83fbce9bf6d021b4"
          }
        },
        "b26e853ce2d6489e86f22b115e5baf24": {
          "model_module": "@jupyter-widgets/controls",
          "model_name": "HTMLModel",
          "model_module_version": "1.5.0",
          "state": {
            "_dom_classes": [],
            "_model_module": "@jupyter-widgets/controls",
            "_model_module_version": "1.5.0",
            "_model_name": "HTMLModel",
            "_view_count": null,
            "_view_module": "@jupyter-widgets/controls",
            "_view_module_version": "1.5.0",
            "_view_name": "HTMLView",
            "description": "",
            "description_tooltip": null,
            "layout": "IPY_MODEL_19751edb1f404dcba2bb1b4983bd02b6",
            "placeholder": "​",
            "style": "IPY_MODEL_e240c60956af4e4fa03cbfe2f9ea6784",
            "value": "Downloading (…)/main/tokenizer.json: 100%"
          }
        },
        "d71d8b8bf2de4cd38eadfe63827ea282": {
          "model_module": "@jupyter-widgets/controls",
          "model_name": "FloatProgressModel",
          "model_module_version": "1.5.0",
          "state": {
            "_dom_classes": [],
            "_model_module": "@jupyter-widgets/controls",
            "_model_module_version": "1.5.0",
            "_model_name": "FloatProgressModel",
            "_view_count": null,
            "_view_module": "@jupyter-widgets/controls",
            "_view_module_version": "1.5.0",
            "_view_name": "ProgressView",
            "bar_style": "success",
            "description": "",
            "description_tooltip": null,
            "layout": "IPY_MODEL_e082bb208305447e827dfa1ec27fadca",
            "max": 828447,
            "min": 0,
            "orientation": "horizontal",
            "style": "IPY_MODEL_95cad66e36bc4561a19c2f29c1b1342f",
            "value": 828447
          }
        },
        "d044594f2c1b4a81b3001d3ec1fa1547": {
          "model_module": "@jupyter-widgets/controls",
          "model_name": "HTMLModel",
          "model_module_version": "1.5.0",
          "state": {
            "_dom_classes": [],
            "_model_module": "@jupyter-widgets/controls",
            "_model_module_version": "1.5.0",
            "_model_name": "HTMLModel",
            "_view_count": null,
            "_view_module": "@jupyter-widgets/controls",
            "_view_module_version": "1.5.0",
            "_view_name": "HTMLView",
            "description": "",
            "description_tooltip": null,
            "layout": "IPY_MODEL_82af8a97ae384280b86392723fe0b82e",
            "placeholder": "​",
            "style": "IPY_MODEL_1e74fc402d234acf8a832fe98bc175e1",
            "value": " 828k/828k [00:00&lt;00:00, 4.31MB/s]"
          }
        },
        "c3a4e37d532e41ff83fbce9bf6d021b4": {
          "model_module": "@jupyter-widgets/base",
          "model_name": "LayoutModel",
          "model_module_version": "1.2.0",
          "state": {
            "_model_module": "@jupyter-widgets/base",
            "_model_module_version": "1.2.0",
            "_model_name": "LayoutModel",
            "_view_count": null,
            "_view_module": "@jupyter-widgets/base",
            "_view_module_version": "1.2.0",
            "_view_name": "LayoutView",
            "align_content": null,
            "align_items": null,
            "align_self": null,
            "border": null,
            "bottom": null,
            "display": null,
            "flex": null,
            "flex_flow": null,
            "grid_area": null,
            "grid_auto_columns": null,
            "grid_auto_flow": null,
            "grid_auto_rows": null,
            "grid_column": null,
            "grid_gap": null,
            "grid_row": null,
            "grid_template_areas": null,
            "grid_template_columns": null,
            "grid_template_rows": null,
            "height": null,
            "justify_content": null,
            "justify_items": null,
            "left": null,
            "margin": null,
            "max_height": null,
            "max_width": null,
            "min_height": null,
            "min_width": null,
            "object_fit": null,
            "object_position": null,
            "order": null,
            "overflow": null,
            "overflow_x": null,
            "overflow_y": null,
            "padding": null,
            "right": null,
            "top": null,
            "visibility": null,
            "width": null
          }
        },
        "19751edb1f404dcba2bb1b4983bd02b6": {
          "model_module": "@jupyter-widgets/base",
          "model_name": "LayoutModel",
          "model_module_version": "1.2.0",
          "state": {
            "_model_module": "@jupyter-widgets/base",
            "_model_module_version": "1.2.0",
            "_model_name": "LayoutModel",
            "_view_count": null,
            "_view_module": "@jupyter-widgets/base",
            "_view_module_version": "1.2.0",
            "_view_name": "LayoutView",
            "align_content": null,
            "align_items": null,
            "align_self": null,
            "border": null,
            "bottom": null,
            "display": null,
            "flex": null,
            "flex_flow": null,
            "grid_area": null,
            "grid_auto_columns": null,
            "grid_auto_flow": null,
            "grid_auto_rows": null,
            "grid_column": null,
            "grid_gap": null,
            "grid_row": null,
            "grid_template_areas": null,
            "grid_template_columns": null,
            "grid_template_rows": null,
            "height": null,
            "justify_content": null,
            "justify_items": null,
            "left": null,
            "margin": null,
            "max_height": null,
            "max_width": null,
            "min_height": null,
            "min_width": null,
            "object_fit": null,
            "object_position": null,
            "order": null,
            "overflow": null,
            "overflow_x": null,
            "overflow_y": null,
            "padding": null,
            "right": null,
            "top": null,
            "visibility": null,
            "width": null
          }
        },
        "e240c60956af4e4fa03cbfe2f9ea6784": {
          "model_module": "@jupyter-widgets/controls",
          "model_name": "DescriptionStyleModel",
          "model_module_version": "1.5.0",
          "state": {
            "_model_module": "@jupyter-widgets/controls",
            "_model_module_version": "1.5.0",
            "_model_name": "DescriptionStyleModel",
            "_view_count": null,
            "_view_module": "@jupyter-widgets/base",
            "_view_module_version": "1.2.0",
            "_view_name": "StyleView",
            "description_width": ""
          }
        },
        "e082bb208305447e827dfa1ec27fadca": {
          "model_module": "@jupyter-widgets/base",
          "model_name": "LayoutModel",
          "model_module_version": "1.2.0",
          "state": {
            "_model_module": "@jupyter-widgets/base",
            "_model_module_version": "1.2.0",
            "_model_name": "LayoutModel",
            "_view_count": null,
            "_view_module": "@jupyter-widgets/base",
            "_view_module_version": "1.2.0",
            "_view_name": "LayoutView",
            "align_content": null,
            "align_items": null,
            "align_self": null,
            "border": null,
            "bottom": null,
            "display": null,
            "flex": null,
            "flex_flow": null,
            "grid_area": null,
            "grid_auto_columns": null,
            "grid_auto_flow": null,
            "grid_auto_rows": null,
            "grid_column": null,
            "grid_gap": null,
            "grid_row": null,
            "grid_template_areas": null,
            "grid_template_columns": null,
            "grid_template_rows": null,
            "height": null,
            "justify_content": null,
            "justify_items": null,
            "left": null,
            "margin": null,
            "max_height": null,
            "max_width": null,
            "min_height": null,
            "min_width": null,
            "object_fit": null,
            "object_position": null,
            "order": null,
            "overflow": null,
            "overflow_x": null,
            "overflow_y": null,
            "padding": null,
            "right": null,
            "top": null,
            "visibility": null,
            "width": null
          }
        },
        "95cad66e36bc4561a19c2f29c1b1342f": {
          "model_module": "@jupyter-widgets/controls",
          "model_name": "ProgressStyleModel",
          "model_module_version": "1.5.0",
          "state": {
            "_model_module": "@jupyter-widgets/controls",
            "_model_module_version": "1.5.0",
            "_model_name": "ProgressStyleModel",
            "_view_count": null,
            "_view_module": "@jupyter-widgets/base",
            "_view_module_version": "1.2.0",
            "_view_name": "StyleView",
            "bar_color": null,
            "description_width": ""
          }
        },
        "82af8a97ae384280b86392723fe0b82e": {
          "model_module": "@jupyter-widgets/base",
          "model_name": "LayoutModel",
          "model_module_version": "1.2.0",
          "state": {
            "_model_module": "@jupyter-widgets/base",
            "_model_module_version": "1.2.0",
            "_model_name": "LayoutModel",
            "_view_count": null,
            "_view_module": "@jupyter-widgets/base",
            "_view_module_version": "1.2.0",
            "_view_name": "LayoutView",
            "align_content": null,
            "align_items": null,
            "align_self": null,
            "border": null,
            "bottom": null,
            "display": null,
            "flex": null,
            "flex_flow": null,
            "grid_area": null,
            "grid_auto_columns": null,
            "grid_auto_flow": null,
            "grid_auto_rows": null,
            "grid_column": null,
            "grid_gap": null,
            "grid_row": null,
            "grid_template_areas": null,
            "grid_template_columns": null,
            "grid_template_rows": null,
            "height": null,
            "justify_content": null,
            "justify_items": null,
            "left": null,
            "margin": null,
            "max_height": null,
            "max_width": null,
            "min_height": null,
            "min_width": null,
            "object_fit": null,
            "object_position": null,
            "order": null,
            "overflow": null,
            "overflow_x": null,
            "overflow_y": null,
            "padding": null,
            "right": null,
            "top": null,
            "visibility": null,
            "width": null
          }
        },
        "1e74fc402d234acf8a832fe98bc175e1": {
          "model_module": "@jupyter-widgets/controls",
          "model_name": "DescriptionStyleModel",
          "model_module_version": "1.5.0",
          "state": {
            "_model_module": "@jupyter-widgets/controls",
            "_model_module_version": "1.5.0",
            "_model_name": "DescriptionStyleModel",
            "_view_count": null,
            "_view_module": "@jupyter-widgets/base",
            "_view_module_version": "1.2.0",
            "_view_name": "StyleView",
            "description_width": ""
          }
        },
        "0bf4fce521a946deb349ceb77558e879": {
          "model_module": "@jupyter-widgets/controls",
          "model_name": "HBoxModel",
          "model_module_version": "1.5.0",
          "state": {
            "_dom_classes": [],
            "_model_module": "@jupyter-widgets/controls",
            "_model_module_version": "1.5.0",
            "_model_name": "HBoxModel",
            "_view_count": null,
            "_view_module": "@jupyter-widgets/controls",
            "_view_module_version": "1.5.0",
            "_view_name": "HBoxView",
            "box_style": "",
            "children": [
              "IPY_MODEL_df17723dc18f4948bfead5fa705741d0",
              "IPY_MODEL_efc8dd3735734cadbd8c59b4bda394a0",
              "IPY_MODEL_340c07ad2e1848a4b8c211a9151d0a89"
            ],
            "layout": "IPY_MODEL_59ed77ff2f9d476ba579142cfffcdec2"
          }
        },
        "df17723dc18f4948bfead5fa705741d0": {
          "model_module": "@jupyter-widgets/controls",
          "model_name": "HTMLModel",
          "model_module_version": "1.5.0",
          "state": {
            "_dom_classes": [],
            "_model_module": "@jupyter-widgets/controls",
            "_model_module_version": "1.5.0",
            "_model_name": "HTMLModel",
            "_view_count": null,
            "_view_module": "@jupyter-widgets/controls",
            "_view_module_version": "1.5.0",
            "_view_name": "HTMLView",
            "description": "",
            "description_tooltip": null,
            "layout": "IPY_MODEL_c7268df45aeb40b5ae8133779d9284da",
            "placeholder": "​",
            "style": "IPY_MODEL_6eb2e37d057044a298ab7b45906ee26b",
            "value": "Downloading (…)cial_tokens_map.json: 100%"
          }
        },
        "efc8dd3735734cadbd8c59b4bda394a0": {
          "model_module": "@jupyter-widgets/controls",
          "model_name": "FloatProgressModel",
          "model_module_version": "1.5.0",
          "state": {
            "_dom_classes": [],
            "_model_module": "@jupyter-widgets/controls",
            "_model_module_version": "1.5.0",
            "_model_name": "FloatProgressModel",
            "_view_count": null,
            "_view_module": "@jupyter-widgets/controls",
            "_view_module_version": "1.5.0",
            "_view_name": "ProgressView",
            "bar_style": "success",
            "description": "",
            "description_tooltip": null,
            "layout": "IPY_MODEL_bd26ecbf166443d7b9621a5991417827",
            "max": 150,
            "min": 0,
            "orientation": "horizontal",
            "style": "IPY_MODEL_280b51501a3e4e4cb0d9117c36986d45",
            "value": 150
          }
        },
        "340c07ad2e1848a4b8c211a9151d0a89": {
          "model_module": "@jupyter-widgets/controls",
          "model_name": "HTMLModel",
          "model_module_version": "1.5.0",
          "state": {
            "_dom_classes": [],
            "_model_module": "@jupyter-widgets/controls",
            "_model_module_version": "1.5.0",
            "_model_name": "HTMLModel",
            "_view_count": null,
            "_view_module": "@jupyter-widgets/controls",
            "_view_module_version": "1.5.0",
            "_view_name": "HTMLView",
            "description": "",
            "description_tooltip": null,
            "layout": "IPY_MODEL_5e639a7ccc6c4ea689ea85155cc7d781",
            "placeholder": "​",
            "style": "IPY_MODEL_2d7aeb38197d49b3ae03ada5ba8f67ca",
            "value": " 150/150 [00:00&lt;00:00, 2.98kB/s]"
          }
        },
        "59ed77ff2f9d476ba579142cfffcdec2": {
          "model_module": "@jupyter-widgets/base",
          "model_name": "LayoutModel",
          "model_module_version": "1.2.0",
          "state": {
            "_model_module": "@jupyter-widgets/base",
            "_model_module_version": "1.2.0",
            "_model_name": "LayoutModel",
            "_view_count": null,
            "_view_module": "@jupyter-widgets/base",
            "_view_module_version": "1.2.0",
            "_view_name": "LayoutView",
            "align_content": null,
            "align_items": null,
            "align_self": null,
            "border": null,
            "bottom": null,
            "display": null,
            "flex": null,
            "flex_flow": null,
            "grid_area": null,
            "grid_auto_columns": null,
            "grid_auto_flow": null,
            "grid_auto_rows": null,
            "grid_column": null,
            "grid_gap": null,
            "grid_row": null,
            "grid_template_areas": null,
            "grid_template_columns": null,
            "grid_template_rows": null,
            "height": null,
            "justify_content": null,
            "justify_items": null,
            "left": null,
            "margin": null,
            "max_height": null,
            "max_width": null,
            "min_height": null,
            "min_width": null,
            "object_fit": null,
            "object_position": null,
            "order": null,
            "overflow": null,
            "overflow_x": null,
            "overflow_y": null,
            "padding": null,
            "right": null,
            "top": null,
            "visibility": null,
            "width": null
          }
        },
        "c7268df45aeb40b5ae8133779d9284da": {
          "model_module": "@jupyter-widgets/base",
          "model_name": "LayoutModel",
          "model_module_version": "1.2.0",
          "state": {
            "_model_module": "@jupyter-widgets/base",
            "_model_module_version": "1.2.0",
            "_model_name": "LayoutModel",
            "_view_count": null,
            "_view_module": "@jupyter-widgets/base",
            "_view_module_version": "1.2.0",
            "_view_name": "LayoutView",
            "align_content": null,
            "align_items": null,
            "align_self": null,
            "border": null,
            "bottom": null,
            "display": null,
            "flex": null,
            "flex_flow": null,
            "grid_area": null,
            "grid_auto_columns": null,
            "grid_auto_flow": null,
            "grid_auto_rows": null,
            "grid_column": null,
            "grid_gap": null,
            "grid_row": null,
            "grid_template_areas": null,
            "grid_template_columns": null,
            "grid_template_rows": null,
            "height": null,
            "justify_content": null,
            "justify_items": null,
            "left": null,
            "margin": null,
            "max_height": null,
            "max_width": null,
            "min_height": null,
            "min_width": null,
            "object_fit": null,
            "object_position": null,
            "order": null,
            "overflow": null,
            "overflow_x": null,
            "overflow_y": null,
            "padding": null,
            "right": null,
            "top": null,
            "visibility": null,
            "width": null
          }
        },
        "6eb2e37d057044a298ab7b45906ee26b": {
          "model_module": "@jupyter-widgets/controls",
          "model_name": "DescriptionStyleModel",
          "model_module_version": "1.5.0",
          "state": {
            "_model_module": "@jupyter-widgets/controls",
            "_model_module_version": "1.5.0",
            "_model_name": "DescriptionStyleModel",
            "_view_count": null,
            "_view_module": "@jupyter-widgets/base",
            "_view_module_version": "1.2.0",
            "_view_name": "StyleView",
            "description_width": ""
          }
        },
        "bd26ecbf166443d7b9621a5991417827": {
          "model_module": "@jupyter-widgets/base",
          "model_name": "LayoutModel",
          "model_module_version": "1.2.0",
          "state": {
            "_model_module": "@jupyter-widgets/base",
            "_model_module_version": "1.2.0",
            "_model_name": "LayoutModel",
            "_view_count": null,
            "_view_module": "@jupyter-widgets/base",
            "_view_module_version": "1.2.0",
            "_view_name": "LayoutView",
            "align_content": null,
            "align_items": null,
            "align_self": null,
            "border": null,
            "bottom": null,
            "display": null,
            "flex": null,
            "flex_flow": null,
            "grid_area": null,
            "grid_auto_columns": null,
            "grid_auto_flow": null,
            "grid_auto_rows": null,
            "grid_column": null,
            "grid_gap": null,
            "grid_row": null,
            "grid_template_areas": null,
            "grid_template_columns": null,
            "grid_template_rows": null,
            "height": null,
            "justify_content": null,
            "justify_items": null,
            "left": null,
            "margin": null,
            "max_height": null,
            "max_width": null,
            "min_height": null,
            "min_width": null,
            "object_fit": null,
            "object_position": null,
            "order": null,
            "overflow": null,
            "overflow_x": null,
            "overflow_y": null,
            "padding": null,
            "right": null,
            "top": null,
            "visibility": null,
            "width": null
          }
        },
        "280b51501a3e4e4cb0d9117c36986d45": {
          "model_module": "@jupyter-widgets/controls",
          "model_name": "ProgressStyleModel",
          "model_module_version": "1.5.0",
          "state": {
            "_model_module": "@jupyter-widgets/controls",
            "_model_module_version": "1.5.0",
            "_model_name": "ProgressStyleModel",
            "_view_count": null,
            "_view_module": "@jupyter-widgets/base",
            "_view_module_version": "1.2.0",
            "_view_name": "StyleView",
            "bar_color": null,
            "description_width": ""
          }
        },
        "5e639a7ccc6c4ea689ea85155cc7d781": {
          "model_module": "@jupyter-widgets/base",
          "model_name": "LayoutModel",
          "model_module_version": "1.2.0",
          "state": {
            "_model_module": "@jupyter-widgets/base",
            "_model_module_version": "1.2.0",
            "_model_name": "LayoutModel",
            "_view_count": null,
            "_view_module": "@jupyter-widgets/base",
            "_view_module_version": "1.2.0",
            "_view_name": "LayoutView",
            "align_content": null,
            "align_items": null,
            "align_self": null,
            "border": null,
            "bottom": null,
            "display": null,
            "flex": null,
            "flex_flow": null,
            "grid_area": null,
            "grid_auto_columns": null,
            "grid_auto_flow": null,
            "grid_auto_rows": null,
            "grid_column": null,
            "grid_gap": null,
            "grid_row": null,
            "grid_template_areas": null,
            "grid_template_columns": null,
            "grid_template_rows": null,
            "height": null,
            "justify_content": null,
            "justify_items": null,
            "left": null,
            "margin": null,
            "max_height": null,
            "max_width": null,
            "min_height": null,
            "min_width": null,
            "object_fit": null,
            "object_position": null,
            "order": null,
            "overflow": null,
            "overflow_x": null,
            "overflow_y": null,
            "padding": null,
            "right": null,
            "top": null,
            "visibility": null,
            "width": null
          }
        },
        "2d7aeb38197d49b3ae03ada5ba8f67ca": {
          "model_module": "@jupyter-widgets/controls",
          "model_name": "DescriptionStyleModel",
          "model_module_version": "1.5.0",
          "state": {
            "_model_module": "@jupyter-widgets/controls",
            "_model_module_version": "1.5.0",
            "_model_name": "DescriptionStyleModel",
            "_view_count": null,
            "_view_module": "@jupyter-widgets/base",
            "_view_module_version": "1.2.0",
            "_view_name": "StyleView",
            "description_width": ""
          }
        },
        "069428ad4db34655abf2e121c8b14dd9": {
          "model_module": "@jupyter-widgets/controls",
          "model_name": "HBoxModel",
          "model_module_version": "1.5.0",
          "state": {
            "_dom_classes": [],
            "_model_module": "@jupyter-widgets/controls",
            "_model_module_version": "1.5.0",
            "_model_name": "HBoxModel",
            "_view_count": null,
            "_view_module": "@jupyter-widgets/controls",
            "_view_module_version": "1.5.0",
            "_view_name": "HBoxView",
            "box_style": "",
            "children": [
              "IPY_MODEL_a15a848666f749c6af3cbaa90a413b46",
              "IPY_MODEL_06008f5753e6473c9fc55dc2daef7a3e",
              "IPY_MODEL_ab97b106adff4a348fb39e5d8f16e7d9"
            ],
            "layout": "IPY_MODEL_a99e1a4b36274e85aa8a919612db7b69"
          }
        },
        "a15a848666f749c6af3cbaa90a413b46": {
          "model_module": "@jupyter-widgets/controls",
          "model_name": "HTMLModel",
          "model_module_version": "1.5.0",
          "state": {
            "_dom_classes": [],
            "_model_module": "@jupyter-widgets/controls",
            "_model_module_version": "1.5.0",
            "_model_name": "HTMLModel",
            "_view_count": null,
            "_view_module": "@jupyter-widgets/controls",
            "_view_module_version": "1.5.0",
            "_view_name": "HTMLView",
            "description": "",
            "description_tooltip": null,
            "layout": "IPY_MODEL_20379e46e3c84e78b339dbe592a0d4d8",
            "placeholder": "​",
            "style": "IPY_MODEL_a63f72dceb68405382a05f81da96565d",
            "value": "Downloading (…)lve/main/config.json: 100%"
          }
        },
        "06008f5753e6473c9fc55dc2daef7a3e": {
          "model_module": "@jupyter-widgets/controls",
          "model_name": "FloatProgressModel",
          "model_module_version": "1.5.0",
          "state": {
            "_dom_classes": [],
            "_model_module": "@jupyter-widgets/controls",
            "_model_module_version": "1.5.0",
            "_model_name": "FloatProgressModel",
            "_view_count": null,
            "_view_module": "@jupyter-widgets/controls",
            "_view_module_version": "1.5.0",
            "_view_name": "ProgressView",
            "bar_style": "success",
            "description": "",
            "description_tooltip": null,
            "layout": "IPY_MODEL_15baaf57a1ff4a00b5ff177ff758295c",
            "max": 677,
            "min": 0,
            "orientation": "horizontal",
            "style": "IPY_MODEL_0ed820b775684708a58f9e04369e769d",
            "value": 677
          }
        },
        "ab97b106adff4a348fb39e5d8f16e7d9": {
          "model_module": "@jupyter-widgets/controls",
          "model_name": "HTMLModel",
          "model_module_version": "1.5.0",
          "state": {
            "_dom_classes": [],
            "_model_module": "@jupyter-widgets/controls",
            "_model_module_version": "1.5.0",
            "_model_name": "HTMLModel",
            "_view_count": null,
            "_view_module": "@jupyter-widgets/controls",
            "_view_module_version": "1.5.0",
            "_view_name": "HTMLView",
            "description": "",
            "description_tooltip": null,
            "layout": "IPY_MODEL_d8b1a6c4e1d24c558fcc111481fd8f50",
            "placeholder": "​",
            "style": "IPY_MODEL_b71fde7aac374a14ab57bd849e1a577c",
            "value": " 677/677 [00:00&lt;00:00, 12.4kB/s]"
          }
        },
        "a99e1a4b36274e85aa8a919612db7b69": {
          "model_module": "@jupyter-widgets/base",
          "model_name": "LayoutModel",
          "model_module_version": "1.2.0",
          "state": {
            "_model_module": "@jupyter-widgets/base",
            "_model_module_version": "1.2.0",
            "_model_name": "LayoutModel",
            "_view_count": null,
            "_view_module": "@jupyter-widgets/base",
            "_view_module_version": "1.2.0",
            "_view_name": "LayoutView",
            "align_content": null,
            "align_items": null,
            "align_self": null,
            "border": null,
            "bottom": null,
            "display": null,
            "flex": null,
            "flex_flow": null,
            "grid_area": null,
            "grid_auto_columns": null,
            "grid_auto_flow": null,
            "grid_auto_rows": null,
            "grid_column": null,
            "grid_gap": null,
            "grid_row": null,
            "grid_template_areas": null,
            "grid_template_columns": null,
            "grid_template_rows": null,
            "height": null,
            "justify_content": null,
            "justify_items": null,
            "left": null,
            "margin": null,
            "max_height": null,
            "max_width": null,
            "min_height": null,
            "min_width": null,
            "object_fit": null,
            "object_position": null,
            "order": null,
            "overflow": null,
            "overflow_x": null,
            "overflow_y": null,
            "padding": null,
            "right": null,
            "top": null,
            "visibility": null,
            "width": null
          }
        },
        "20379e46e3c84e78b339dbe592a0d4d8": {
          "model_module": "@jupyter-widgets/base",
          "model_name": "LayoutModel",
          "model_module_version": "1.2.0",
          "state": {
            "_model_module": "@jupyter-widgets/base",
            "_model_module_version": "1.2.0",
            "_model_name": "LayoutModel",
            "_view_count": null,
            "_view_module": "@jupyter-widgets/base",
            "_view_module_version": "1.2.0",
            "_view_name": "LayoutView",
            "align_content": null,
            "align_items": null,
            "align_self": null,
            "border": null,
            "bottom": null,
            "display": null,
            "flex": null,
            "flex_flow": null,
            "grid_area": null,
            "grid_auto_columns": null,
            "grid_auto_flow": null,
            "grid_auto_rows": null,
            "grid_column": null,
            "grid_gap": null,
            "grid_row": null,
            "grid_template_areas": null,
            "grid_template_columns": null,
            "grid_template_rows": null,
            "height": null,
            "justify_content": null,
            "justify_items": null,
            "left": null,
            "margin": null,
            "max_height": null,
            "max_width": null,
            "min_height": null,
            "min_width": null,
            "object_fit": null,
            "object_position": null,
            "order": null,
            "overflow": null,
            "overflow_x": null,
            "overflow_y": null,
            "padding": null,
            "right": null,
            "top": null,
            "visibility": null,
            "width": null
          }
        },
        "a63f72dceb68405382a05f81da96565d": {
          "model_module": "@jupyter-widgets/controls",
          "model_name": "DescriptionStyleModel",
          "model_module_version": "1.5.0",
          "state": {
            "_model_module": "@jupyter-widgets/controls",
            "_model_module_version": "1.5.0",
            "_model_name": "DescriptionStyleModel",
            "_view_count": null,
            "_view_module": "@jupyter-widgets/base",
            "_view_module_version": "1.2.0",
            "_view_name": "StyleView",
            "description_width": ""
          }
        },
        "15baaf57a1ff4a00b5ff177ff758295c": {
          "model_module": "@jupyter-widgets/base",
          "model_name": "LayoutModel",
          "model_module_version": "1.2.0",
          "state": {
            "_model_module": "@jupyter-widgets/base",
            "_model_module_version": "1.2.0",
            "_model_name": "LayoutModel",
            "_view_count": null,
            "_view_module": "@jupyter-widgets/base",
            "_view_module_version": "1.2.0",
            "_view_name": "LayoutView",
            "align_content": null,
            "align_items": null,
            "align_self": null,
            "border": null,
            "bottom": null,
            "display": null,
            "flex": null,
            "flex_flow": null,
            "grid_area": null,
            "grid_auto_columns": null,
            "grid_auto_flow": null,
            "grid_auto_rows": null,
            "grid_column": null,
            "grid_gap": null,
            "grid_row": null,
            "grid_template_areas": null,
            "grid_template_columns": null,
            "grid_template_rows": null,
            "height": null,
            "justify_content": null,
            "justify_items": null,
            "left": null,
            "margin": null,
            "max_height": null,
            "max_width": null,
            "min_height": null,
            "min_width": null,
            "object_fit": null,
            "object_position": null,
            "order": null,
            "overflow": null,
            "overflow_x": null,
            "overflow_y": null,
            "padding": null,
            "right": null,
            "top": null,
            "visibility": null,
            "width": null
          }
        },
        "0ed820b775684708a58f9e04369e769d": {
          "model_module": "@jupyter-widgets/controls",
          "model_name": "ProgressStyleModel",
          "model_module_version": "1.5.0",
          "state": {
            "_model_module": "@jupyter-widgets/controls",
            "_model_module_version": "1.5.0",
            "_model_name": "ProgressStyleModel",
            "_view_count": null,
            "_view_module": "@jupyter-widgets/base",
            "_view_module_version": "1.2.0",
            "_view_name": "StyleView",
            "bar_color": null,
            "description_width": ""
          }
        },
        "d8b1a6c4e1d24c558fcc111481fd8f50": {
          "model_module": "@jupyter-widgets/base",
          "model_name": "LayoutModel",
          "model_module_version": "1.2.0",
          "state": {
            "_model_module": "@jupyter-widgets/base",
            "_model_module_version": "1.2.0",
            "_model_name": "LayoutModel",
            "_view_count": null,
            "_view_module": "@jupyter-widgets/base",
            "_view_module_version": "1.2.0",
            "_view_name": "LayoutView",
            "align_content": null,
            "align_items": null,
            "align_self": null,
            "border": null,
            "bottom": null,
            "display": null,
            "flex": null,
            "flex_flow": null,
            "grid_area": null,
            "grid_auto_columns": null,
            "grid_auto_flow": null,
            "grid_auto_rows": null,
            "grid_column": null,
            "grid_gap": null,
            "grid_row": null,
            "grid_template_areas": null,
            "grid_template_columns": null,
            "grid_template_rows": null,
            "height": null,
            "justify_content": null,
            "justify_items": null,
            "left": null,
            "margin": null,
            "max_height": null,
            "max_width": null,
            "min_height": null,
            "min_width": null,
            "object_fit": null,
            "object_position": null,
            "order": null,
            "overflow": null,
            "overflow_x": null,
            "overflow_y": null,
            "padding": null,
            "right": null,
            "top": null,
            "visibility": null,
            "width": null
          }
        },
        "b71fde7aac374a14ab57bd849e1a577c": {
          "model_module": "@jupyter-widgets/controls",
          "model_name": "DescriptionStyleModel",
          "model_module_version": "1.5.0",
          "state": {
            "_model_module": "@jupyter-widgets/controls",
            "_model_module_version": "1.5.0",
            "_model_name": "DescriptionStyleModel",
            "_view_count": null,
            "_view_module": "@jupyter-widgets/base",
            "_view_module_version": "1.2.0",
            "_view_name": "StyleView",
            "description_width": ""
          }
        },
        "0978af2b039d435caa4205f13eeda9e5": {
          "model_module": "@jupyter-widgets/controls",
          "model_name": "HBoxModel",
          "model_module_version": "1.5.0",
          "state": {
            "_dom_classes": [],
            "_model_module": "@jupyter-widgets/controls",
            "_model_module_version": "1.5.0",
            "_model_name": "HBoxModel",
            "_view_count": null,
            "_view_module": "@jupyter-widgets/controls",
            "_view_module_version": "1.5.0",
            "_view_name": "HBoxView",
            "box_style": "",
            "children": [
              "IPY_MODEL_77a2c278e2414dea803ede8903ba80de",
              "IPY_MODEL_8cd7ed734ff246cda39689b6a4f42c3a",
              "IPY_MODEL_9f3dc9cd7b3a491ea7f3d068359412fb"
            ],
            "layout": "IPY_MODEL_6fb0433f67604421b3faf136dae20c8a"
          }
        },
        "77a2c278e2414dea803ede8903ba80de": {
          "model_module": "@jupyter-widgets/controls",
          "model_name": "HTMLModel",
          "model_module_version": "1.5.0",
          "state": {
            "_dom_classes": [],
            "_model_module": "@jupyter-widgets/controls",
            "_model_module_version": "1.5.0",
            "_model_name": "HTMLModel",
            "_view_count": null,
            "_view_module": "@jupyter-widgets/controls",
            "_view_module_version": "1.5.0",
            "_view_name": "HTMLView",
            "description": "",
            "description_tooltip": null,
            "layout": "IPY_MODEL_cae866bbebb2485f8b179e67b80f2815",
            "placeholder": "​",
            "style": "IPY_MODEL_1f67d27660744e8a93f6c5c1c0dc5eba",
            "value": "Downloading pytorch_model.bin: 100%"
          }
        },
        "8cd7ed734ff246cda39689b6a4f42c3a": {
          "model_module": "@jupyter-widgets/controls",
          "model_name": "FloatProgressModel",
          "model_module_version": "1.5.0",
          "state": {
            "_dom_classes": [],
            "_model_module": "@jupyter-widgets/controls",
            "_model_module_version": "1.5.0",
            "_model_name": "FloatProgressModel",
            "_view_count": null,
            "_view_module": "@jupyter-widgets/controls",
            "_view_module_version": "1.5.0",
            "_view_name": "ProgressView",
            "bar_style": "success",
            "description": "",
            "description_tooltip": null,
            "layout": "IPY_MODEL_5fbadc6af8034c17902a673bd572c79c",
            "max": 435341035,
            "min": 0,
            "orientation": "horizontal",
            "style": "IPY_MODEL_b68d03abb9834373b02d527b83ac85bf",
            "value": 435341035
          }
        },
        "9f3dc9cd7b3a491ea7f3d068359412fb": {
          "model_module": "@jupyter-widgets/controls",
          "model_name": "HTMLModel",
          "model_module_version": "1.5.0",
          "state": {
            "_dom_classes": [],
            "_model_module": "@jupyter-widgets/controls",
            "_model_module_version": "1.5.0",
            "_model_name": "HTMLModel",
            "_view_count": null,
            "_view_module": "@jupyter-widgets/controls",
            "_view_module_version": "1.5.0",
            "_view_name": "HTMLView",
            "description": "",
            "description_tooltip": null,
            "layout": "IPY_MODEL_5c16fadaea6f45f887e9842b72c7d2ab",
            "placeholder": "​",
            "style": "IPY_MODEL_073c9fe763e544c5a9e73e6d62332f21",
            "value": " 435M/435M [00:08&lt;00:00, 57.0MB/s]"
          }
        },
        "6fb0433f67604421b3faf136dae20c8a": {
          "model_module": "@jupyter-widgets/base",
          "model_name": "LayoutModel",
          "model_module_version": "1.2.0",
          "state": {
            "_model_module": "@jupyter-widgets/base",
            "_model_module_version": "1.2.0",
            "_model_name": "LayoutModel",
            "_view_count": null,
            "_view_module": "@jupyter-widgets/base",
            "_view_module_version": "1.2.0",
            "_view_name": "LayoutView",
            "align_content": null,
            "align_items": null,
            "align_self": null,
            "border": null,
            "bottom": null,
            "display": null,
            "flex": null,
            "flex_flow": null,
            "grid_area": null,
            "grid_auto_columns": null,
            "grid_auto_flow": null,
            "grid_auto_rows": null,
            "grid_column": null,
            "grid_gap": null,
            "grid_row": null,
            "grid_template_areas": null,
            "grid_template_columns": null,
            "grid_template_rows": null,
            "height": null,
            "justify_content": null,
            "justify_items": null,
            "left": null,
            "margin": null,
            "max_height": null,
            "max_width": null,
            "min_height": null,
            "min_width": null,
            "object_fit": null,
            "object_position": null,
            "order": null,
            "overflow": null,
            "overflow_x": null,
            "overflow_y": null,
            "padding": null,
            "right": null,
            "top": null,
            "visibility": null,
            "width": null
          }
        },
        "cae866bbebb2485f8b179e67b80f2815": {
          "model_module": "@jupyter-widgets/base",
          "model_name": "LayoutModel",
          "model_module_version": "1.2.0",
          "state": {
            "_model_module": "@jupyter-widgets/base",
            "_model_module_version": "1.2.0",
            "_model_name": "LayoutModel",
            "_view_count": null,
            "_view_module": "@jupyter-widgets/base",
            "_view_module_version": "1.2.0",
            "_view_name": "LayoutView",
            "align_content": null,
            "align_items": null,
            "align_self": null,
            "border": null,
            "bottom": null,
            "display": null,
            "flex": null,
            "flex_flow": null,
            "grid_area": null,
            "grid_auto_columns": null,
            "grid_auto_flow": null,
            "grid_auto_rows": null,
            "grid_column": null,
            "grid_gap": null,
            "grid_row": null,
            "grid_template_areas": null,
            "grid_template_columns": null,
            "grid_template_rows": null,
            "height": null,
            "justify_content": null,
            "justify_items": null,
            "left": null,
            "margin": null,
            "max_height": null,
            "max_width": null,
            "min_height": null,
            "min_width": null,
            "object_fit": null,
            "object_position": null,
            "order": null,
            "overflow": null,
            "overflow_x": null,
            "overflow_y": null,
            "padding": null,
            "right": null,
            "top": null,
            "visibility": null,
            "width": null
          }
        },
        "1f67d27660744e8a93f6c5c1c0dc5eba": {
          "model_module": "@jupyter-widgets/controls",
          "model_name": "DescriptionStyleModel",
          "model_module_version": "1.5.0",
          "state": {
            "_model_module": "@jupyter-widgets/controls",
            "_model_module_version": "1.5.0",
            "_model_name": "DescriptionStyleModel",
            "_view_count": null,
            "_view_module": "@jupyter-widgets/base",
            "_view_module_version": "1.2.0",
            "_view_name": "StyleView",
            "description_width": ""
          }
        },
        "5fbadc6af8034c17902a673bd572c79c": {
          "model_module": "@jupyter-widgets/base",
          "model_name": "LayoutModel",
          "model_module_version": "1.2.0",
          "state": {
            "_model_module": "@jupyter-widgets/base",
            "_model_module_version": "1.2.0",
            "_model_name": "LayoutModel",
            "_view_count": null,
            "_view_module": "@jupyter-widgets/base",
            "_view_module_version": "1.2.0",
            "_view_name": "LayoutView",
            "align_content": null,
            "align_items": null,
            "align_self": null,
            "border": null,
            "bottom": null,
            "display": null,
            "flex": null,
            "flex_flow": null,
            "grid_area": null,
            "grid_auto_columns": null,
            "grid_auto_flow": null,
            "grid_auto_rows": null,
            "grid_column": null,
            "grid_gap": null,
            "grid_row": null,
            "grid_template_areas": null,
            "grid_template_columns": null,
            "grid_template_rows": null,
            "height": null,
            "justify_content": null,
            "justify_items": null,
            "left": null,
            "margin": null,
            "max_height": null,
            "max_width": null,
            "min_height": null,
            "min_width": null,
            "object_fit": null,
            "object_position": null,
            "order": null,
            "overflow": null,
            "overflow_x": null,
            "overflow_y": null,
            "padding": null,
            "right": null,
            "top": null,
            "visibility": null,
            "width": null
          }
        },
        "b68d03abb9834373b02d527b83ac85bf": {
          "model_module": "@jupyter-widgets/controls",
          "model_name": "ProgressStyleModel",
          "model_module_version": "1.5.0",
          "state": {
            "_model_module": "@jupyter-widgets/controls",
            "_model_module_version": "1.5.0",
            "_model_name": "ProgressStyleModel",
            "_view_count": null,
            "_view_module": "@jupyter-widgets/base",
            "_view_module_version": "1.2.0",
            "_view_name": "StyleView",
            "bar_color": null,
            "description_width": ""
          }
        },
        "5c16fadaea6f45f887e9842b72c7d2ab": {
          "model_module": "@jupyter-widgets/base",
          "model_name": "LayoutModel",
          "model_module_version": "1.2.0",
          "state": {
            "_model_module": "@jupyter-widgets/base",
            "_model_module_version": "1.2.0",
            "_model_name": "LayoutModel",
            "_view_count": null,
            "_view_module": "@jupyter-widgets/base",
            "_view_module_version": "1.2.0",
            "_view_name": "LayoutView",
            "align_content": null,
            "align_items": null,
            "align_self": null,
            "border": null,
            "bottom": null,
            "display": null,
            "flex": null,
            "flex_flow": null,
            "grid_area": null,
            "grid_auto_columns": null,
            "grid_auto_flow": null,
            "grid_auto_rows": null,
            "grid_column": null,
            "grid_gap": null,
            "grid_row": null,
            "grid_template_areas": null,
            "grid_template_columns": null,
            "grid_template_rows": null,
            "height": null,
            "justify_content": null,
            "justify_items": null,
            "left": null,
            "margin": null,
            "max_height": null,
            "max_width": null,
            "min_height": null,
            "min_width": null,
            "object_fit": null,
            "object_position": null,
            "order": null,
            "overflow": null,
            "overflow_x": null,
            "overflow_y": null,
            "padding": null,
            "right": null,
            "top": null,
            "visibility": null,
            "width": null
          }
        },
        "073c9fe763e544c5a9e73e6d62332f21": {
          "model_module": "@jupyter-widgets/controls",
          "model_name": "DescriptionStyleModel",
          "model_module_version": "1.5.0",
          "state": {
            "_model_module": "@jupyter-widgets/controls",
            "_model_module_version": "1.5.0",
            "_model_name": "DescriptionStyleModel",
            "_view_count": null,
            "_view_module": "@jupyter-widgets/base",
            "_view_module_version": "1.2.0",
            "_view_name": "StyleView",
            "description_width": ""
          }
        }
      }
    }
  },
  "cells": [
    {
      "cell_type": "markdown",
      "metadata": {
        "id": "view-in-github",
        "colab_type": "text"
      },
      "source": [
        "<a href=\"https://colab.research.google.com/github/ManelSoengas/DL_Task2/blob/main/DL_task2_RobertTuito_14_8_23.ipynb\" target=\"_parent\"><img src=\"https://colab.research.google.com/assets/colab-badge.svg\" alt=\"Open In Colab\"/></a>"
      ]
    },
    {
      "cell_type": "markdown",
      "source": [
        "# NO utilizamos/Utilizamos los datos aumentados mediante la técnica de swapping. Además la arquitectura contempla:\n",
        "\n",
        "\n",
        "1.   Dropout y early_stopping\n",
        "2.   Asignación de pesos en función del peso de la clase.\n",
        "3.   La configuración y arquitectura se mantienen.\n",
        "4.   Uso del modelo RoBERTuito para tweets en español.\n",
        "\n",
        "https://huggingface.co/pysentimiento/robertuito-base-cased\n",
        "https://medium.com/@dataproducts/text-preprocessing-techniques-in-natural-language-processing-19a840bb7a4f\n",
        "\n"
      ],
      "metadata": {
        "id": "CMwBHVl1XA5n"
      }
    },
    {
      "cell_type": "markdown",
      "source": [
        "# **Cargar los recursos necesarios.**"
      ],
      "metadata": {
        "id": "SRyuirYHXm1z"
      }
    },
    {
      "cell_type": "code",
      "source": [],
      "metadata": {
        "id": "-NK6y6T4CTaD"
      },
      "execution_count": null,
      "outputs": []
    },
    {
      "cell_type": "code",
      "execution_count": 1,
      "metadata": {
        "colab": {
          "base_uri": "https://localhost:8080/"
        },
        "id": "5o9gtxeNW6BK",
        "outputId": "9021546b-eb08-4d84-a8ac-07949c7e88a9"
      },
      "outputs": [
        {
          "output_type": "stream",
          "name": "stdout",
          "text": [
            "Collecting transformers\n",
            "  Downloading transformers-4.31.0-py3-none-any.whl (7.4 MB)\n",
            "\u001b[2K     \u001b[90m━━━━━━━━━━━━━━━━━━━━━━━━━━━━━━━━━━━━━━━━\u001b[0m \u001b[32m7.4/7.4 MB\u001b[0m \u001b[31m20.1 MB/s\u001b[0m eta \u001b[36m0:00:00\u001b[0m\n",
            "\u001b[?25hRequirement already satisfied: filelock in /usr/local/lib/python3.10/dist-packages (from transformers) (3.12.2)\n",
            "Collecting huggingface-hub<1.0,>=0.14.1 (from transformers)\n",
            "  Downloading huggingface_hub-0.16.4-py3-none-any.whl (268 kB)\n",
            "\u001b[2K     \u001b[90m━━━━━━━━━━━━━━━━━━━━━━━━━━━━━━━━━━━━━━\u001b[0m \u001b[32m268.8/268.8 kB\u001b[0m \u001b[31m29.8 MB/s\u001b[0m eta \u001b[36m0:00:00\u001b[0m\n",
            "\u001b[?25hRequirement already satisfied: numpy>=1.17 in /usr/local/lib/python3.10/dist-packages (from transformers) (1.23.5)\n",
            "Requirement already satisfied: packaging>=20.0 in /usr/local/lib/python3.10/dist-packages (from transformers) (23.1)\n",
            "Requirement already satisfied: pyyaml>=5.1 in /usr/local/lib/python3.10/dist-packages (from transformers) (6.0.1)\n",
            "Requirement already satisfied: regex!=2019.12.17 in /usr/local/lib/python3.10/dist-packages (from transformers) (2023.6.3)\n",
            "Requirement already satisfied: requests in /usr/local/lib/python3.10/dist-packages (from transformers) (2.31.0)\n",
            "Collecting tokenizers!=0.11.3,<0.14,>=0.11.1 (from transformers)\n",
            "  Downloading tokenizers-0.13.3-cp310-cp310-manylinux_2_17_x86_64.manylinux2014_x86_64.whl (7.8 MB)\n",
            "\u001b[2K     \u001b[90m━━━━━━━━━━━━━━━━━━━━━━━━━━━━━━━━━━━━━━━━\u001b[0m \u001b[32m7.8/7.8 MB\u001b[0m \u001b[31m49.9 MB/s\u001b[0m eta \u001b[36m0:00:00\u001b[0m\n",
            "\u001b[?25hCollecting safetensors>=0.3.1 (from transformers)\n",
            "  Downloading safetensors-0.3.2-cp310-cp310-manylinux_2_17_x86_64.manylinux2014_x86_64.whl (1.3 MB)\n",
            "\u001b[2K     \u001b[90m━━━━━━━━━━━━━━━━━━━━━━━━━━━━━━━━━━━━━━━━\u001b[0m \u001b[32m1.3/1.3 MB\u001b[0m \u001b[31m56.1 MB/s\u001b[0m eta \u001b[36m0:00:00\u001b[0m\n",
            "\u001b[?25hRequirement already satisfied: tqdm>=4.27 in /usr/local/lib/python3.10/dist-packages (from transformers) (4.66.0)\n",
            "Requirement already satisfied: fsspec in /usr/local/lib/python3.10/dist-packages (from huggingface-hub<1.0,>=0.14.1->transformers) (2023.6.0)\n",
            "Requirement already satisfied: typing-extensions>=3.7.4.3 in /usr/local/lib/python3.10/dist-packages (from huggingface-hub<1.0,>=0.14.1->transformers) (4.7.1)\n",
            "Requirement already satisfied: charset-normalizer<4,>=2 in /usr/local/lib/python3.10/dist-packages (from requests->transformers) (3.2.0)\n",
            "Requirement already satisfied: idna<4,>=2.5 in /usr/local/lib/python3.10/dist-packages (from requests->transformers) (3.4)\n",
            "Requirement already satisfied: urllib3<3,>=1.21.1 in /usr/local/lib/python3.10/dist-packages (from requests->transformers) (2.0.4)\n",
            "Requirement already satisfied: certifi>=2017.4.17 in /usr/local/lib/python3.10/dist-packages (from requests->transformers) (2023.7.22)\n",
            "Installing collected packages: tokenizers, safetensors, huggingface-hub, transformers\n",
            "Successfully installed huggingface-hub-0.16.4 safetensors-0.3.2 tokenizers-0.13.3 transformers-4.31.0\n"
          ]
        }
      ],
      "source": [
        "import pandas as pd\n",
        "from sklearn.model_selection import train_test_split\n",
        "!pip install transformers\n",
        "from transformers import BertTokenizer, TFBertForSequenceClassification\n",
        "\n",
        "#transformers\n",
        "from transformers import BertTokenizerFast\n",
        "from transformers import TFBertModel\n",
        "from transformers import RobertaTokenizerFast\n",
        "from transformers import TFRobertaModel\n",
        "\n",
        "\n"
      ]
    },
    {
      "cell_type": "markdown",
      "source": [
        "#**Cargar los datos de entrada**"
      ],
      "metadata": {
        "id": "h0ed3H-qX1oQ"
      }
    },
    {
      "cell_type": "code",
      "source": [
        "from sklearn.utils import shuffle\n",
        "# Cargar datos preprocesados\n",
        "#train_data = pd.read_csv('/content/EXIST2021_training.tsv', delimiter=',', encoding='latin1')\n",
        "#test_data = pd.read_csv('/content/EXIST2021_test_labeled.tsv', delimiter=',', encoding='latin1')\n",
        "\n",
        "import pandas as pd\n",
        "\n",
        "# Leer los archivos TSV y seleccionar las columnas deseadas y filtrar por idioma 'es'\n",
        "test_data = pd.read_csv('/content/EXIST2021_test_labeled.tsv', sep='\\t', usecols=['text', 'language', 'task2']).loc[lambda df: df['language'] == 'es']\n",
        "train_data = pd.read_csv('/content/swapp_EXIST2021_training.tsv', sep='\\t', usecols=['text', 'language', 'task2']).loc[lambda df: df['language'] == 'es']\n",
        "#swapping data_set training\n",
        "# Mezclar los datos de entrenamiento\n",
        "shuffled_train_data = shuffle(train_data, random_state=42)\n",
        "\n",
        "# Mezclar los datos de prueba\n",
        "shuffled_test_data = shuffle(test_data, random_state=42)"
      ],
      "metadata": {
        "id": "8qArJBrhX8bv"
      },
      "execution_count": 2,
      "outputs": []
    },
    {
      "cell_type": "markdown",
      "source": [
        "# **Visualizar estructura de los datos**"
      ],
      "metadata": {
        "id": "1-kCU4HQYYWI"
      }
    },
    {
      "cell_type": "code",
      "source": [
        "shuffled_train_data.head(10)"
      ],
      "metadata": {
        "colab": {
          "base_uri": "https://localhost:8080/",
          "height": 363
        },
        "id": "-hWLo1nKYgBd",
        "outputId": "fc3f0c87-d463-44f2-99b5-6c47905c4433"
      },
      "execution_count": null,
      "outputs": [
        {
          "output_type": "execute_result",
          "data": {
            "text/plain": [
              "     language                                               text  \\\n",
              "4148       es  Janis Joplin, la 'perla' rebelde que cambió el...   \n",
              "3715       es  Diga lo que diga una amiga de verdad hubiera d...   \n",
              "4892       es  me quiero follar al osito bimbo, sus deliciosa...   \n",
              "6941       es  Perra sensación solo dime que quieres que nos ...   \n",
              "5630       es  @SatoshiJimenez @lublo8 @elconfidencial @vox_e...   \n",
              "5516       es  @javicmrs @tressymaniqui Aquí le explico en qu...   \n",
              "6645       es  ME VOY A PEGAR UN TIRO PENSANDO EN QUIÉN ES EL...   \n",
              "5224       es  soy super Dino, no me hablen chica/os alejense...   \n",
              "3914       es  \"No se merece mi poder divino Mejor no lo aviv...   \n",
              "4507       es  @nicetobezombie Camisa de manga corta y corbat...   \n",
              "\n",
              "                             task2  \n",
              "4148                    non-sexist  \n",
              "3715                    non-sexist  \n",
              "4892                    non-sexist  \n",
              "6941               objectification  \n",
              "5630               sexual-violence  \n",
              "5516               sexual-violence  \n",
              "6645  misogyny-non-sexual-violence  \n",
              "5224                    non-sexist  \n",
              "3914                    non-sexist  \n",
              "4507                    non-sexist  "
            ],
            "text/html": [
              "\n",
              "\n",
              "  <div id=\"df-4726af72-30fd-4e98-97dd-7ef594d5c433\">\n",
              "    <div class=\"colab-df-container\">\n",
              "      <div>\n",
              "<style scoped>\n",
              "    .dataframe tbody tr th:only-of-type {\n",
              "        vertical-align: middle;\n",
              "    }\n",
              "\n",
              "    .dataframe tbody tr th {\n",
              "        vertical-align: top;\n",
              "    }\n",
              "\n",
              "    .dataframe thead th {\n",
              "        text-align: right;\n",
              "    }\n",
              "</style>\n",
              "<table border=\"1\" class=\"dataframe\">\n",
              "  <thead>\n",
              "    <tr style=\"text-align: right;\">\n",
              "      <th></th>\n",
              "      <th>language</th>\n",
              "      <th>text</th>\n",
              "      <th>task2</th>\n",
              "    </tr>\n",
              "  </thead>\n",
              "  <tbody>\n",
              "    <tr>\n",
              "      <th>4148</th>\n",
              "      <td>es</td>\n",
              "      <td>Janis Joplin, la 'perla' rebelde que cambió el...</td>\n",
              "      <td>non-sexist</td>\n",
              "    </tr>\n",
              "    <tr>\n",
              "      <th>3715</th>\n",
              "      <td>es</td>\n",
              "      <td>Diga lo que diga una amiga de verdad hubiera d...</td>\n",
              "      <td>non-sexist</td>\n",
              "    </tr>\n",
              "    <tr>\n",
              "      <th>4892</th>\n",
              "      <td>es</td>\n",
              "      <td>me quiero follar al osito bimbo, sus deliciosa...</td>\n",
              "      <td>non-sexist</td>\n",
              "    </tr>\n",
              "    <tr>\n",
              "      <th>6941</th>\n",
              "      <td>es</td>\n",
              "      <td>Perra sensación solo dime que quieres que nos ...</td>\n",
              "      <td>objectification</td>\n",
              "    </tr>\n",
              "    <tr>\n",
              "      <th>5630</th>\n",
              "      <td>es</td>\n",
              "      <td>@SatoshiJimenez @lublo8 @elconfidencial @vox_e...</td>\n",
              "      <td>sexual-violence</td>\n",
              "    </tr>\n",
              "    <tr>\n",
              "      <th>5516</th>\n",
              "      <td>es</td>\n",
              "      <td>@javicmrs @tressymaniqui Aquí le explico en qu...</td>\n",
              "      <td>sexual-violence</td>\n",
              "    </tr>\n",
              "    <tr>\n",
              "      <th>6645</th>\n",
              "      <td>es</td>\n",
              "      <td>ME VOY A PEGAR UN TIRO PENSANDO EN QUIÉN ES EL...</td>\n",
              "      <td>misogyny-non-sexual-violence</td>\n",
              "    </tr>\n",
              "    <tr>\n",
              "      <th>5224</th>\n",
              "      <td>es</td>\n",
              "      <td>soy super Dino, no me hablen chica/os alejense...</td>\n",
              "      <td>non-sexist</td>\n",
              "    </tr>\n",
              "    <tr>\n",
              "      <th>3914</th>\n",
              "      <td>es</td>\n",
              "      <td>\"No se merece mi poder divino Mejor no lo aviv...</td>\n",
              "      <td>non-sexist</td>\n",
              "    </tr>\n",
              "    <tr>\n",
              "      <th>4507</th>\n",
              "      <td>es</td>\n",
              "      <td>@nicetobezombie Camisa de manga corta y corbat...</td>\n",
              "      <td>non-sexist</td>\n",
              "    </tr>\n",
              "  </tbody>\n",
              "</table>\n",
              "</div>\n",
              "      <button class=\"colab-df-convert\" onclick=\"convertToInteractive('df-4726af72-30fd-4e98-97dd-7ef594d5c433')\"\n",
              "              title=\"Convert this dataframe to an interactive table.\"\n",
              "              style=\"display:none;\">\n",
              "\n",
              "  <svg xmlns=\"http://www.w3.org/2000/svg\" height=\"24px\"viewBox=\"0 0 24 24\"\n",
              "       width=\"24px\">\n",
              "    <path d=\"M0 0h24v24H0V0z\" fill=\"none\"/>\n",
              "    <path d=\"M18.56 5.44l.94 2.06.94-2.06 2.06-.94-2.06-.94-.94-2.06-.94 2.06-2.06.94zm-11 1L8.5 8.5l.94-2.06 2.06-.94-2.06-.94L8.5 2.5l-.94 2.06-2.06.94zm10 10l.94 2.06.94-2.06 2.06-.94-2.06-.94-.94-2.06-.94 2.06-2.06.94z\"/><path d=\"M17.41 7.96l-1.37-1.37c-.4-.4-.92-.59-1.43-.59-.52 0-1.04.2-1.43.59L10.3 9.45l-7.72 7.72c-.78.78-.78 2.05 0 2.83L4 21.41c.39.39.9.59 1.41.59.51 0 1.02-.2 1.41-.59l7.78-7.78 2.81-2.81c.8-.78.8-2.07 0-2.86zM5.41 20L4 18.59l7.72-7.72 1.47 1.35L5.41 20z\"/>\n",
              "  </svg>\n",
              "      </button>\n",
              "\n",
              "\n",
              "\n",
              "    <div id=\"df-793f7fe7-fe79-4563-b744-28d2ea40c298\">\n",
              "      <button class=\"colab-df-quickchart\" onclick=\"quickchart('df-793f7fe7-fe79-4563-b744-28d2ea40c298')\"\n",
              "              title=\"Suggest charts.\"\n",
              "              style=\"display:none;\">\n",
              "\n",
              "<svg xmlns=\"http://www.w3.org/2000/svg\" height=\"24px\"viewBox=\"0 0 24 24\"\n",
              "     width=\"24px\">\n",
              "    <g>\n",
              "        <path d=\"M19 3H5c-1.1 0-2 .9-2 2v14c0 1.1.9 2 2 2h14c1.1 0 2-.9 2-2V5c0-1.1-.9-2-2-2zM9 17H7v-7h2v7zm4 0h-2V7h2v10zm4 0h-2v-4h2v4z\"/>\n",
              "    </g>\n",
              "</svg>\n",
              "      </button>\n",
              "    </div>\n",
              "\n",
              "<style>\n",
              "  .colab-df-quickchart {\n",
              "    background-color: #E8F0FE;\n",
              "    border: none;\n",
              "    border-radius: 50%;\n",
              "    cursor: pointer;\n",
              "    display: none;\n",
              "    fill: #1967D2;\n",
              "    height: 32px;\n",
              "    padding: 0 0 0 0;\n",
              "    width: 32px;\n",
              "  }\n",
              "\n",
              "  .colab-df-quickchart:hover {\n",
              "    background-color: #E2EBFA;\n",
              "    box-shadow: 0px 1px 2px rgba(60, 64, 67, 0.3), 0px 1px 3px 1px rgba(60, 64, 67, 0.15);\n",
              "    fill: #174EA6;\n",
              "  }\n",
              "\n",
              "  [theme=dark] .colab-df-quickchart {\n",
              "    background-color: #3B4455;\n",
              "    fill: #D2E3FC;\n",
              "  }\n",
              "\n",
              "  [theme=dark] .colab-df-quickchart:hover {\n",
              "    background-color: #434B5C;\n",
              "    box-shadow: 0px 1px 3px 1px rgba(0, 0, 0, 0.15);\n",
              "    filter: drop-shadow(0px 1px 2px rgba(0, 0, 0, 0.3));\n",
              "    fill: #FFFFFF;\n",
              "  }\n",
              "</style>\n",
              "\n",
              "    <script>\n",
              "      async function quickchart(key) {\n",
              "        const containerElement = document.querySelector('#' + key);\n",
              "        const charts = await google.colab.kernel.invokeFunction(\n",
              "            'suggestCharts', [key], {});\n",
              "      }\n",
              "    </script>\n",
              "\n",
              "      <script>\n",
              "\n",
              "function displayQuickchartButton(domScope) {\n",
              "  let quickchartButtonEl =\n",
              "    domScope.querySelector('#df-793f7fe7-fe79-4563-b744-28d2ea40c298 button.colab-df-quickchart');\n",
              "  quickchartButtonEl.style.display =\n",
              "    google.colab.kernel.accessAllowed ? 'block' : 'none';\n",
              "}\n",
              "\n",
              "        displayQuickchartButton(document);\n",
              "      </script>\n",
              "      <style>\n",
              "    .colab-df-container {\n",
              "      display:flex;\n",
              "      flex-wrap:wrap;\n",
              "      gap: 12px;\n",
              "    }\n",
              "\n",
              "    .colab-df-convert {\n",
              "      background-color: #E8F0FE;\n",
              "      border: none;\n",
              "      border-radius: 50%;\n",
              "      cursor: pointer;\n",
              "      display: none;\n",
              "      fill: #1967D2;\n",
              "      height: 32px;\n",
              "      padding: 0 0 0 0;\n",
              "      width: 32px;\n",
              "    }\n",
              "\n",
              "    .colab-df-convert:hover {\n",
              "      background-color: #E2EBFA;\n",
              "      box-shadow: 0px 1px 2px rgba(60, 64, 67, 0.3), 0px 1px 3px 1px rgba(60, 64, 67, 0.15);\n",
              "      fill: #174EA6;\n",
              "    }\n",
              "\n",
              "    [theme=dark] .colab-df-convert {\n",
              "      background-color: #3B4455;\n",
              "      fill: #D2E3FC;\n",
              "    }\n",
              "\n",
              "    [theme=dark] .colab-df-convert:hover {\n",
              "      background-color: #434B5C;\n",
              "      box-shadow: 0px 1px 3px 1px rgba(0, 0, 0, 0.15);\n",
              "      filter: drop-shadow(0px 1px 2px rgba(0, 0, 0, 0.3));\n",
              "      fill: #FFFFFF;\n",
              "    }\n",
              "  </style>\n",
              "\n",
              "      <script>\n",
              "        const buttonEl =\n",
              "          document.querySelector('#df-4726af72-30fd-4e98-97dd-7ef594d5c433 button.colab-df-convert');\n",
              "        buttonEl.style.display =\n",
              "          google.colab.kernel.accessAllowed ? 'block' : 'none';\n",
              "\n",
              "        async function convertToInteractive(key) {\n",
              "          const element = document.querySelector('#df-4726af72-30fd-4e98-97dd-7ef594d5c433');\n",
              "          const dataTable =\n",
              "            await google.colab.kernel.invokeFunction('convertToInteractive',\n",
              "                                                     [key], {});\n",
              "          if (!dataTable) return;\n",
              "\n",
              "          const docLinkHtml = 'Like what you see? Visit the ' +\n",
              "            '<a target=\"_blank\" href=https://colab.research.google.com/notebooks/data_table.ipynb>data table notebook</a>'\n",
              "            + ' to learn more about interactive tables.';\n",
              "          element.innerHTML = '';\n",
              "          dataTable['output_type'] = 'display_data';\n",
              "          await google.colab.output.renderOutput(dataTable, element);\n",
              "          const docLink = document.createElement('div');\n",
              "          docLink.innerHTML = docLinkHtml;\n",
              "          element.appendChild(docLink);\n",
              "        }\n",
              "      </script>\n",
              "    </div>\n",
              "  </div>\n"
            ]
          },
          "metadata": {},
          "execution_count": 3
        }
      ]
    },
    {
      "cell_type": "markdown",
      "source": [
        "# **Distribución de la clase objetivo**"
      ],
      "metadata": {
        "id": "XFprYcWEY_VR"
      }
    },
    {
      "cell_type": "code",
      "source": [
        "\n",
        "columna_clase_objetivo = \"task2\"\n",
        "\n",
        "df = shuffled_train_data\n",
        "\n",
        "# Contar la cantidad de categorías únicas en la columna de la clase objetivo\n",
        "cantidad_categorias = df[columna_clase_objetivo].nunique()\n",
        "\n",
        "# Contar la cantidad de muestras para cada categoría de la clase objetivo\n",
        "muestras_por_categoria = df[columna_clase_objetivo].value_counts()\n",
        "\n",
        "# Imprimir los resultados\n",
        "print(\"Cantidad de categorías:\", cantidad_categorias)\n",
        "print(\"Muestras por categoría:\")\n",
        "print(muestras_por_categoria)\n",
        "df.shape[0]"
      ],
      "metadata": {
        "colab": {
          "base_uri": "https://localhost:8080/"
        },
        "id": "bjrQCuJpZE-a",
        "outputId": "e5fd4347-6403-4817-b038-3545051d6aff"
      },
      "execution_count": 3,
      "outputs": [
        {
          "output_type": "stream",
          "name": "stdout",
          "text": [
            "Cantidad de categorías: 6\n",
            "Muestras por categoría:\n",
            "non-sexist                      3076\n",
            "ideological-inequality           834\n",
            "stereotyping-dominance           740\n",
            "misogyny-non-sexual-violence     672\n",
            "objectification                  424\n",
            "sexual-violence                  295\n",
            "Name: task2, dtype: int64\n"
          ]
        },
        {
          "output_type": "execute_result",
          "data": {
            "text/plain": [
              "6041"
            ]
          },
          "metadata": {},
          "execution_count": 3
        }
      ]
    },
    {
      "cell_type": "markdown",
      "source": [
        "# **Carga de los recursos RoBERTuito**"
      ],
      "metadata": {
        "id": "B15ojpf8ZcUq"
      }
    },
    {
      "cell_type": "code",
      "source": [
        "def tokenize_roberta(data,max_len=MAX_LEN) :\n",
        "    input_ids = []\n",
        "    attention_masks = []\n",
        "    for i in range(len(data)):\n",
        "        encoded = tokenizer_roberta.encode_plus(\n",
        "            data[i],\n",
        "            add_special_tokens=True,\n",
        "            max_length=max_len,\n",
        "            padding='max_length',\n",
        "            truncation=True,\n",
        "            truncation_strategy='longest_first',\n",
        "            return_attention_mask=True\n",
        "\n",
        "        )\n",
        "        input_ids.append(encoded['input_ids'])\n",
        "        attention_masks.append(encoded['attention_mask'])\n",
        "    return np.array(input_ids),np.array(attention_masks)"
      ],
      "metadata": {
        "id": "jtxv2AGzZjvd"
      },
      "execution_count": null,
      "outputs": []
    },
    {
      "cell_type": "code",
      "source": [
        "def tokenize_robertuito(data, max_len=MAX_LEN):\n",
        "  input_ids = []\n",
        "  attention_masks = []\n",
        "\n",
        "  for text in data:\n",
        "    encoded = tokenizer.encode_plus(\n",
        "      text,\n",
        "      add_special_tokens=True,\n",
        "      max_length=max_len,\n",
        "      padding='max_length',\n",
        "      truncation=True,\n",
        "      return_attention_mask=True\n",
        "    )\n",
        "\n",
        "    input_ids.append(encoded['input_ids'])\n",
        "    attention_masks.append(encoded['attention_mask'])\n",
        "\n",
        "  return np.array(input_ids), np.array(attention_masks)"
      ],
      "metadata": {
        "id": "tpHT3nIYGhQD"
      },
      "execution_count": 6,
      "outputs": []
    },
    {
      "cell_type": "code",
      "source": [
        "\n",
        "# Cargar el tokenizer de Robertuito\n",
        "\n",
        "#tokenizer_roberta = RobertaTokenizerFast.from_pretrained(\"roberta-base\")\n",
        "\n",
        "from transformers import RobertaTokenizerFast\n",
        "\n",
        "tokenizer = RobertaTokenizerFast.from_pretrained(\"pysentimiento/robertuito-base-cased\")"
      ],
      "metadata": {
        "colab": {
          "base_uri": "https://localhost:8080/",
          "height": 165,
          "referenced_widgets": [
            "2e4eaece9efa411bb9bb19aaaa793282",
            "bebeb3e22cab40029d14ba2a5a652f23",
            "3b2d9ad6332843f68e4b00875dc29e5a",
            "e9ddc0cfec414659a35c264c7391298b",
            "61a754fd7ff9477591daadf86d3e09d9",
            "84da514e7e3144a3b4c286e151870ecd",
            "e391c17856a64bba944e5946f5a07190",
            "8dba5c41def14f9d913e518f9909ed59",
            "82fd83e17676424d866159233d3f5e0b",
            "87701475d26f4362bd83e4f56a0ebc30",
            "58289d323e5140eab30640020bb927c2",
            "d2308a36318642a78c43456dd105409f",
            "b26e853ce2d6489e86f22b115e5baf24",
            "d71d8b8bf2de4cd38eadfe63827ea282",
            "d044594f2c1b4a81b3001d3ec1fa1547",
            "c3a4e37d532e41ff83fbce9bf6d021b4",
            "19751edb1f404dcba2bb1b4983bd02b6",
            "e240c60956af4e4fa03cbfe2f9ea6784",
            "e082bb208305447e827dfa1ec27fadca",
            "95cad66e36bc4561a19c2f29c1b1342f",
            "82af8a97ae384280b86392723fe0b82e",
            "1e74fc402d234acf8a832fe98bc175e1",
            "0bf4fce521a946deb349ceb77558e879",
            "df17723dc18f4948bfead5fa705741d0",
            "efc8dd3735734cadbd8c59b4bda394a0",
            "340c07ad2e1848a4b8c211a9151d0a89",
            "59ed77ff2f9d476ba579142cfffcdec2",
            "c7268df45aeb40b5ae8133779d9284da",
            "6eb2e37d057044a298ab7b45906ee26b",
            "bd26ecbf166443d7b9621a5991417827",
            "280b51501a3e4e4cb0d9117c36986d45",
            "5e639a7ccc6c4ea689ea85155cc7d781",
            "2d7aeb38197d49b3ae03ada5ba8f67ca"
          ]
        },
        "id": "mKcoQqRbZofG",
        "outputId": "0ae2f781-8ded-4ab6-92c1-a153131d8c6c"
      },
      "execution_count": 7,
      "outputs": [
        {
          "output_type": "display_data",
          "data": {
            "text/plain": [
              "Downloading (…)okenizer_config.json:   0%|          | 0.00/319 [00:00<?, ?B/s]"
            ],
            "application/vnd.jupyter.widget-view+json": {
              "version_major": 2,
              "version_minor": 0,
              "model_id": "2e4eaece9efa411bb9bb19aaaa793282"
            }
          },
          "metadata": {}
        },
        {
          "output_type": "display_data",
          "data": {
            "text/plain": [
              "Downloading (…)/main/tokenizer.json:   0%|          | 0.00/828k [00:00<?, ?B/s]"
            ],
            "application/vnd.jupyter.widget-view+json": {
              "version_major": 2,
              "version_minor": 0,
              "model_id": "d2308a36318642a78c43456dd105409f"
            }
          },
          "metadata": {}
        },
        {
          "output_type": "display_data",
          "data": {
            "text/plain": [
              "Downloading (…)cial_tokens_map.json:   0%|          | 0.00/150 [00:00<?, ?B/s]"
            ],
            "application/vnd.jupyter.widget-view+json": {
              "version_major": 2,
              "version_minor": 0,
              "model_id": "0bf4fce521a946deb349ceb77558e879"
            }
          },
          "metadata": {}
        },
        {
          "output_type": "stream",
          "name": "stderr",
          "text": [
            "The tokenizer class you load from this checkpoint is not the same type as the class this function is called from. It may result in unexpected tokenization. \n",
            "The tokenizer class you load from this checkpoint is 'PreTrainedTokenizerFast'. \n",
            "The class this function is called from is 'RobertaTokenizerFast'.\n"
          ]
        }
      ]
    },
    {
      "cell_type": "markdown",
      "source": [
        "# **Configuración**"
      ],
      "metadata": {
        "id": "if2let7VZxtl"
      }
    },
    {
      "cell_type": "code",
      "source": [
        "MAX_LEN=255\n"
      ],
      "metadata": {
        "id": "kjhBXPjrZ1Rs"
      },
      "execution_count": 5,
      "outputs": []
    },
    {
      "cell_type": "code",
      "source": [
        "X = shuffled_train_data['text'].values\n",
        "y = shuffled_train_data['task2'].values\n",
        "Z = shuffled_test_data['text'].values\n",
        "z = shuffled_test_data['task2'].values"
      ],
      "metadata": {
        "id": "e-vedHnnZ2cr"
      },
      "execution_count": 8,
      "outputs": []
    },
    {
      "cell_type": "code",
      "source": [
        "# Dividir los datos en entrenamiento y prueba\n",
        "train_text, val_text, train_task2, val_task2 = train_test_split(X, y, test_size=0.2, random_state=42)"
      ],
      "metadata": {
        "id": "Z701EW0waDLw"
      },
      "execution_count": 9,
      "outputs": []
    },
    {
      "cell_type": "markdown",
      "source": [
        "# **Codificación**"
      ],
      "metadata": {
        "id": "s44VodQQaFdm"
      }
    },
    {
      "cell_type": "code",
      "source": [
        "from sklearn.preprocessing import LabelEncoder, OneHotEncoder\n",
        "import numpy as np\n",
        "\n",
        "# Crear un objeto LabelEncoder para convertir las etiquetas de clase en valores numéricos\n",
        "label_encoder = LabelEncoder()\n",
        "\n",
        "# Ajustar el encoder con los datos de train_task2\n",
        "label_encoder.fit(train_task2)\n",
        "\n",
        "# Aplicar la transformación a los conjuntos de datos\n",
        "train_task2_encoded = label_encoder.transform(train_task2)\n",
        "val_task2_encoded = label_encoder.transform(val_task2)\n",
        "z_encoded = label_encoder.transform(z)\n",
        "\n",
        "# Ahora puedes usar train_task2_encoded, val_task2_encoded y z_encoded en tu modelo de clasificación\n",
        "\n",
        "# Si deseas codificar las etiquetas de clase como one-hot encoded, utiliza OneHotEncoder\n",
        "onehot_encoder = OneHotEncoder(sparse_output=False)\n",
        "\n",
        "# Ajustar el encoder one-hot con las etiquetas codificadas numéricamente\n",
        "onehot_encoder.fit(train_task2_encoded.reshape(-1, 1))\n",
        "\n",
        "# Aplicar la transformación one-hot a los conjuntos de datos\n",
        "train_task2_onehot = onehot_encoder.transform(train_task2_encoded.reshape(-1, 1))\n",
        "val_task2_onehot = onehot_encoder.transform(val_task2_encoded.reshape(-1, 1))\n",
        "z_onehot = onehot_encoder.transform(z_encoded.reshape(-1, 1))\n",
        "\n",
        "# Ahora train_task2_onehot, val_task2_onehot y z_onehot contienen las etiquetas de clase codificadas como one-hot"
      ],
      "metadata": {
        "id": "_dg-Vp89aKOt"
      },
      "execution_count": 10,
      "outputs": []
    },
    {
      "cell_type": "markdown",
      "source": [
        "Estoy utilizando **LabelBinarizer** de Scikit-Learn para convertir las etiquetas de clase en codificación one-hot. La principal diferencia aquí es que uso fit una vez para ajustar el codificador con las etiquetas de clase, y luego uso transform para convertir las etiquetas de cada conjunto de datos (entrenamiento, validación, prueba) en codificación one-hot. Esto asegura que las mismas transformaciones se apliquen a todas las etiquetas, lo que es importante para mantener la consistencia.\n",
        "\n"
      ],
      "metadata": {
        "id": "O9uAj6zFqAHz"
      }
    },
    {
      "cell_type": "code",
      "source": [
        "from sklearn.preprocessing import LabelBinarizer\n",
        "\n",
        "etiquetas_clase = [\"non-sexist\", \"ideological-inequality\", \"stereotyping-dominance\", \"misogyny-non-sexual-violence\", \"sexual-violence\", \"objectification\"]\n",
        "\n",
        "# Crear un objeto LabelBinarizer para convertir las etiquetas de clase en one-hot encoding\n",
        "label_binarizer = LabelBinarizer()\n",
        "\n",
        "# Ajustar el LabelBinarizer con las etiquetas de clase\n",
        "label_binarizer.fit(etiquetas_clase)\n",
        "\n",
        "# Transformar las etiquetas de clase en one-hot encoding\n",
        "train_task2_onehot = label_binarizer.transform(train_task2)\n",
        "val_task2_onehot = label_binarizer.transform(val_task2)\n",
        "z_onehot = label_binarizer.transform(z)"
      ],
      "metadata": {
        "id": "vUUmRQPLekTX"
      },
      "execution_count": 11,
      "outputs": []
    },
    {
      "cell_type": "code",
      "source": [
        "#import numpy as np\n",
        "#train_input_ids, train_attention_masks = tokenize_roberta(train_text, MAX_LEN)\n",
        "#val_input_ids, val_attention_masks = tokenize_roberta(val_text, MAX_LEN)\n",
        "#test_input_ids, test_attention_masks = tokenize_roberta(Z, MAX_LEN)"
      ],
      "metadata": {
        "id": "Y1tkHmdufT5N"
      },
      "execution_count": null,
      "outputs": []
    },
    {
      "cell_type": "code",
      "source": [
        "# Utilizar el modelo Robertuito en lugar de RoBERTa\n",
        "import numpy as np\n",
        "train_input_ids, train_attention_masks = tokenize_robertuito(train_text, MAX_LEN)\n",
        "val_input_ids, val_attention_masks = tokenize_robertuito(val_text, MAX_LEN)\n",
        "test_input_ids, test_attention_masks = tokenize_robertuito(Z, MAX_LEN)"
      ],
      "metadata": {
        "id": "NlJQ3r7nG5Ac"
      },
      "execution_count": 12,
      "outputs": []
    },
    {
      "cell_type": "code",
      "source": [
        "print(train_input_ids.shape)\n",
        "print(val_input_ids.shape)\n",
        "print(test_input_ids.shape)"
      ],
      "metadata": {
        "colab": {
          "base_uri": "https://localhost:8080/"
        },
        "id": "-W-LDU0QfmVf",
        "outputId": "fa6027a6-72af-4a46-f7e6-ec74ede731ea"
      },
      "execution_count": 13,
      "outputs": [
        {
          "output_type": "stream",
          "name": "stdout",
          "text": [
            "(4832, 255)\n",
            "(1209, 255)\n",
            "(2160, 255)\n"
          ]
        }
      ]
    },
    {
      "cell_type": "markdown",
      "source": [
        "# **Cáculo y asignación de los pesos**"
      ],
      "metadata": {
        "id": "izOhBZximwXM"
      }
    },
    {
      "cell_type": "code",
      "source": [
        "import numpy as np\n",
        "\n",
        "# Frecuencias de las categorías\n",
        "muestras_por_categoria = {\n",
        "    \"non-sexist\": 3076,\n",
        "    \"ideological-inequality\": 834,\n",
        "    \"stereotyping-dominance\": 740,\n",
        "    \"misogyny-non-sexual-violence\": 672,\n",
        "    \"sexual-violence\": 424,\n",
        "    \"objectification\": 295\n",
        "}\n",
        "\n",
        "total_muestras = sum(muestras_por_categoria.values())\n",
        "\n",
        "# Calcular las frecuencias relativas\n",
        "frecuencias_relativas = {cat: count / total_muestras for cat, count in muestras_por_categoria.items()}\n",
        "\n",
        "# Calcular los pesos inversamente proporcionales a las frecuencias\n",
        "pesos = {cat: 1 / freq for cat, freq in frecuencias_relativas.items()}\n",
        "\n",
        "# Normalizar los pesos\n",
        "suma_pesos = sum(pesos.values())\n",
        "pesos_normalizados = {cat: weight / suma_pesos for cat, weight in pesos.items()}\n",
        "\n",
        "print(pesos_normalizados)\n"
      ],
      "metadata": {
        "id": "bMdKY75Nmvf_",
        "colab": {
          "base_uri": "https://localhost:8080/"
        },
        "outputId": "08b7db98-ae95-45aa-df98-8075a1599440"
      },
      "execution_count": 14,
      "outputs": [
        {
          "output_type": "stream",
          "name": "stdout",
          "text": [
            "{'non-sexist': 0.03214997553630002, 'ideological-inequality': 0.11857712799719292, 'stereotyping-dominance': 0.1336396280400796, 'misogyny-non-sexual-violence': 0.14716268563937335, 'sexual-violence': 0.2332389734661766, 'objectification': 0.33523160932087753}\n"
          ]
        }
      ]
    },
    {
      "cell_type": "code",
      "source": [
        "import tensorflow as tf\n",
        "\n",
        "# Crear el tensor de pesos para la función de pérdida\n",
        "pesos_array = np.array(list(pesos_normalizados.values()))\n",
        "pesos_tensor = tf.constant(pesos_array, dtype=tf.float32)"
      ],
      "metadata": {
        "id": "dNQrNR9wpC3j"
      },
      "execution_count": 15,
      "outputs": []
    },
    {
      "cell_type": "code",
      "source": [
        "import tensorflow as tf\n",
        "\n",
        "def create_multiclass_model(robertuito_model, max_len=MAX_LEN):\n",
        "    opt = tf.keras.optimizers.Adam(learning_rate=1e-5)\n",
        "    #loss = tf.keras.losses.SparseCategoricalCrossentropy()\n",
        "    #accuracy = tf.keras.metrics.SparseCategoricalAccuracy()\n",
        "    #loss = tf.keras.losses.CategoricalCrossentropy()\n",
        "    loss = weighted_categorical_crossentropy  # Utilizamos la función con pesos\n",
        "\n",
        "    input_ids = tf.keras.Input(shape=(max_len,), dtype='int32')\n",
        "    attention_masks = tf.keras.Input(shape=(max_len,), dtype='int32')\n",
        "    output = robertuito_model([input_ids, attention_masks])\n",
        "    output = output[1]\n",
        "\n",
        "    # Agregar Dropout\n",
        "    output = tf.keras.layers.Dropout(0.5)(output)\n",
        "\n",
        "    # Cambiar la salida para clasificación multiclase (6 clases)\n",
        "    output = tf.keras.layers.Dense(6, activation='softmax')(output)\n",
        "\n",
        "    model = tf.keras.models.Model(inputs=[input_ids, attention_masks], outputs=output)\n",
        "\n",
        "    # Compilar el modelo\n",
        "    # Cambiar la métrica de BinaryAccuracy a CategoricalAccuracy\n",
        "    accuracy = tf.keras.metrics.CategoricalAccuracy()\n",
        "\n",
        "    # Compilar el modelo\n",
        "    model.compile(opt, loss=loss, metrics=[accuracy])\n",
        "\n",
        "    # Agregar Early Stopping\n",
        "    early_stopping = tf.keras.callbacks.EarlyStopping(patience=2, monitor='val_loss')\n",
        "\n",
        "    return model, early_stopping\n",
        "\n",
        "    # Función de pérdida ponderada\n",
        "#def weighted_categorical_crossentropy(y_true, y_pred):\n",
        "    # Aplicar los pesos solo a las muestras positivas (las que tienen etiqueta 1)\n",
        "    #weights = tf.reduce_sum(pesos_tensor * y_true, axis=1)\n",
        "    #unweighted_loss = tf.keras.losses.categorical_crossentropy(y_true, y_pred)\n",
        "    #weighted_loss = unweighted_loss * weights\n",
        "    #return tf.reduce_mean(weighted_loss)\n",
        "\n",
        "    # Función de pérdida ponderada\n",
        "def weighted_categorical_crossentropy(y_true, y_pred):\n",
        "    # Convertir y_true a float32\n",
        "    y_true = tf.cast(y_true, dtype=tf.float32)\n",
        "    # Aplicar los pesos solo a las muestras positivas (las que tienen etiqueta 1)\n",
        "    weights = tf.reduce_sum(pesos_tensor * y_true, axis=1)\n",
        "    unweighted_loss = tf.keras.losses.categorical_crossentropy(y_true, y_pred)\n",
        "    weighted_loss = unweighted_loss * weights\n",
        "    return tf.reduce_mean(weighted_loss)\n",
        "\n"
      ],
      "metadata": {
        "id": "PI_YmkFFf009"
      },
      "execution_count": 16,
      "outputs": []
    },
    {
      "cell_type": "code",
      "source": [
        "#roberta_model = TFRobertaModel.from_pretrained('roberta-base')\n",
        "#robertuito_model = TFRobertuitoModel.from_pretrained(\"pysentimiento/robertuito-base-cased\")\n",
        "from transformers import TFRobertaModel\n",
        "\n",
        "robertuito_model = TFRobertaModel.from_pretrained(\"pysentimiento/robertuito-base-cased\", from_pt=True)"
      ],
      "metadata": {
        "colab": {
          "base_uri": "https://localhost:8080/",
          "height": 188,
          "referenced_widgets": [
            "069428ad4db34655abf2e121c8b14dd9",
            "a15a848666f749c6af3cbaa90a413b46",
            "06008f5753e6473c9fc55dc2daef7a3e",
            "ab97b106adff4a348fb39e5d8f16e7d9",
            "a99e1a4b36274e85aa8a919612db7b69",
            "20379e46e3c84e78b339dbe592a0d4d8",
            "a63f72dceb68405382a05f81da96565d",
            "15baaf57a1ff4a00b5ff177ff758295c",
            "0ed820b775684708a58f9e04369e769d",
            "d8b1a6c4e1d24c558fcc111481fd8f50",
            "b71fde7aac374a14ab57bd849e1a577c",
            "0978af2b039d435caa4205f13eeda9e5",
            "77a2c278e2414dea803ede8903ba80de",
            "8cd7ed734ff246cda39689b6a4f42c3a",
            "9f3dc9cd7b3a491ea7f3d068359412fb",
            "6fb0433f67604421b3faf136dae20c8a",
            "cae866bbebb2485f8b179e67b80f2815",
            "1f67d27660744e8a93f6c5c1c0dc5eba",
            "5fbadc6af8034c17902a673bd572c79c",
            "b68d03abb9834373b02d527b83ac85bf",
            "5c16fadaea6f45f887e9842b72c7d2ab",
            "073c9fe763e544c5a9e73e6d62332f21"
          ]
        },
        "id": "qYA-l9TVf3db",
        "outputId": "94299c2a-d8d3-442c-cf5a-d20a5fc3cf6f"
      },
      "execution_count": 17,
      "outputs": [
        {
          "output_type": "display_data",
          "data": {
            "text/plain": [
              "Downloading (…)lve/main/config.json:   0%|          | 0.00/677 [00:00<?, ?B/s]"
            ],
            "application/vnd.jupyter.widget-view+json": {
              "version_major": 2,
              "version_minor": 0,
              "model_id": "069428ad4db34655abf2e121c8b14dd9"
            }
          },
          "metadata": {}
        },
        {
          "output_type": "display_data",
          "data": {
            "text/plain": [
              "Downloading pytorch_model.bin:   0%|          | 0.00/435M [00:00<?, ?B/s]"
            ],
            "application/vnd.jupyter.widget-view+json": {
              "version_major": 2,
              "version_minor": 0,
              "model_id": "0978af2b039d435caa4205f13eeda9e5"
            }
          },
          "metadata": {}
        },
        {
          "output_type": "stream",
          "name": "stderr",
          "text": [
            "Some weights of the PyTorch model were not used when initializing the TF 2.0 model TFRobertaModel: ['lm_head.dense.bias', 'lm_head.bias', 'lm_head.dense.weight', 'lm_head.layer_norm.bias', 'roberta.embeddings.position_ids', 'lm_head.layer_norm.weight']\n",
            "- This IS expected if you are initializing TFRobertaModel from a PyTorch model trained on another task or with another architecture (e.g. initializing a TFBertForSequenceClassification model from a BertForPreTraining model).\n",
            "- This IS NOT expected if you are initializing TFRobertaModel from a PyTorch model that you expect to be exactly identical (e.g. initializing a TFBertForSequenceClassification model from a BertForSequenceClassification model).\n",
            "Some weights or buffers of the TF 2.0 model TFRobertaModel were not initialized from the PyTorch model and are newly initialized: ['roberta.pooler.dense.weight', 'roberta.pooler.dense.bias']\n",
            "You should probably TRAIN this model on a down-stream task to be able to use it for predictions and inference.\n"
          ]
        }
      ]
    },
    {
      "cell_type": "code",
      "source": [
        "#model = create_model(roberta_model, MAX_LEN)\n",
        "model, early_stopping = create_multiclass_model(robertuito_model, MAX_LEN)\n",
        "model.summary()"
      ],
      "metadata": {
        "colab": {
          "base_uri": "https://localhost:8080/"
        },
        "id": "wDjxXSHEf7LC",
        "outputId": "b64458cd-dd87-4fac-99d0-6548c279f5ad"
      },
      "execution_count": 18,
      "outputs": [
        {
          "output_type": "stream",
          "name": "stdout",
          "text": [
            "Model: \"model\"\n",
            "__________________________________________________________________________________________________\n",
            " Layer (type)                   Output Shape         Param #     Connected to                     \n",
            "==================================================================================================\n",
            " input_1 (InputLayer)           [(None, 255)]        0           []                               \n",
            "                                                                                                  \n",
            " input_2 (InputLayer)           [(None, 255)]        0           []                               \n",
            "                                                                                                  \n",
            " tf_roberta_model (TFRobertaMod  TFBaseModelOutputWi  108787200  ['input_1[0][0]',                \n",
            " el)                            thPoolingAndCrossAt               'input_2[0][0]']                \n",
            "                                tentions(last_hidde                                               \n",
            "                                n_state=(None, 255,                                               \n",
            "                                 768),                                                            \n",
            "                                 pooler_output=(Non                                               \n",
            "                                e, 768),                                                          \n",
            "                                 past_key_values=No                                               \n",
            "                                ne, hidden_states=N                                               \n",
            "                                one, attentions=Non                                               \n",
            "                                e, cross_attentions                                               \n",
            "                                =None)                                                            \n",
            "                                                                                                  \n",
            " dropout_37 (Dropout)           (None, 768)          0           ['tf_roberta_model[0][1]']       \n",
            "                                                                                                  \n",
            " dense (Dense)                  (None, 6)            4614        ['dropout_37[0][0]']             \n",
            "                                                                                                  \n",
            "==================================================================================================\n",
            "Total params: 108,791,814\n",
            "Trainable params: 108,791,814\n",
            "Non-trainable params: 0\n",
            "__________________________________________________________________________________________________\n"
          ]
        }
      ]
    },
    {
      "cell_type": "code",
      "source": [
        "#history_2 = model.fit([train_input_ids,train_attention_masks], train_task2_onehot, validation_data=([val_input_ids,val_attention_masks], val_task2_onehot), epochs=8, batch_size=16)\n",
        "history_2 = model.fit(\n",
        "    [train_input_ids, train_attention_masks], train_task2_onehot,\n",
        "    validation_data=([val_input_ids, val_attention_masks], val_task2_onehot),\n",
        "    epochs=8,\n",
        "    batch_size=16,\n",
        "    callbacks=[early_stopping]  # Aquí se añade la devolución anticipada como callback\n",
        ")"
      ],
      "metadata": {
        "colab": {
          "base_uri": "https://localhost:8080/"
        },
        "id": "FagKeOIZgM36",
        "outputId": "b6e67430-817e-4f5a-fac6-6afd7893afbb"
      },
      "execution_count": 19,
      "outputs": [
        {
          "output_type": "stream",
          "name": "stdout",
          "text": [
            "Epoch 1/8\n",
            "302/302 [==============================] - 337s 969ms/step - loss: 0.2172 - categorical_accuracy: 0.4259 - val_loss: 0.1628 - val_categorical_accuracy: 0.5095\n",
            "Epoch 2/8\n",
            "302/302 [==============================] - 259s 859ms/step - loss: 0.1508 - categorical_accuracy: 0.5675 - val_loss: 0.1145 - val_categorical_accuracy: 0.6460\n",
            "Epoch 3/8\n",
            "302/302 [==============================] - 279s 926ms/step - loss: 0.1046 - categorical_accuracy: 0.6805 - val_loss: 0.0920 - val_categorical_accuracy: 0.7221\n",
            "Epoch 4/8\n",
            "302/302 [==============================] - 278s 921ms/step - loss: 0.0685 - categorical_accuracy: 0.7742 - val_loss: 0.0790 - val_categorical_accuracy: 0.7825\n",
            "Epoch 5/8\n",
            "302/302 [==============================] - 258s 853ms/step - loss: 0.0435 - categorical_accuracy: 0.8413 - val_loss: 0.0781 - val_categorical_accuracy: 0.8238\n",
            "Epoch 6/8\n",
            "302/302 [==============================] - 277s 919ms/step - loss: 0.0280 - categorical_accuracy: 0.8887 - val_loss: 0.0772 - val_categorical_accuracy: 0.8304\n",
            "Epoch 7/8\n",
            "302/302 [==============================] - 278s 920ms/step - loss: 0.0182 - categorical_accuracy: 0.9220 - val_loss: 0.0810 - val_categorical_accuracy: 0.8536\n",
            "Epoch 8/8\n",
            "302/302 [==============================] - 277s 919ms/step - loss: 0.0127 - categorical_accuracy: 0.9410 - val_loss: 0.0848 - val_categorical_accuracy: 0.8586\n"
          ]
        }
      ]
    },
    {
      "cell_type": "code",
      "source": [
        "result_roberta = model.predict([test_input_ids,test_attention_masks])\n"
      ],
      "metadata": {
        "colab": {
          "base_uri": "https://localhost:8080/"
        },
        "id": "dJxjCJguh-A4",
        "outputId": "5233856e-891a-439b-87be-1b238725a9a5"
      },
      "execution_count": 20,
      "outputs": [
        {
          "output_type": "stream",
          "name": "stdout",
          "text": [
            "68/68 [==============================] - 39s 530ms/step\n"
          ]
        }
      ]
    },
    {
      "cell_type": "code",
      "source": [
        "# Evaluar el modelo\n",
        "evaluation = model.evaluate([test_input_ids, test_attention_masks], z_onehot)\n",
        "\n",
        "# Imprimir los resultados de la evaluación\n",
        "print(\"Loss:\", evaluation[0])\n",
        "print(\"Accuracy:\", evaluation[1])"
      ],
      "metadata": {
        "colab": {
          "base_uri": "https://localhost:8080/"
        },
        "id": "cwMnSd6AjY-9",
        "outputId": "656c09da-9ce7-4ad0-94f5-005b8dbc446c"
      },
      "execution_count": 21,
      "outputs": [
        {
          "output_type": "stream",
          "name": "stdout",
          "text": [
            "68/68 [==============================] - 36s 528ms/step - loss: 0.2524 - categorical_accuracy: 0.6532\n",
            "Loss: 0.2523668110370636\n",
            "Accuracy: 0.6532407402992249\n"
          ]
        }
      ]
    },
    {
      "cell_type": "code",
      "source": [
        "y_pred_roberta =  np.zeros_like(result_roberta)\n",
        "y_pred_roberta[np.arange(len(y_pred_roberta)), result_roberta.argmax(1)] = 1\n",
        "\n",
        "\n",
        "#metrics\n",
        "from sklearn.metrics import accuracy_score, f1_score\n",
        "from sklearn.metrics import classification_report, confusion_matrix\n",
        "from sklearn.metrics import confusion_matrix\n",
        "import seaborn as sns\n",
        "import matplotlib.pyplot as plt\n",
        "\n",
        "# Suponiendo que z_test.argmax(1) son las etiquetas reales y y_pred_roberta.argmax(1) son las etiquetas predichas\n",
        "cm = confusion_matrix(z_onehot.argmax(1), y_pred_roberta.argmax(1))\n",
        "\n",
        "# Crear un heatmap de la matriz de confusión\n",
        "sns.heatmap(cm, annot=True, cmap=\"Blues\", fmt=\"d\", cbar=False)\n",
        "\n",
        "# Añadir etiquetas a los ejes\n",
        "plt.xlabel(\"Clase predicha\")\n",
        "plt.ylabel(\"Clase verdadera\")\n",
        "\n",
        "# Mostrar el gráfico\n",
        "plt.show()"
      ],
      "metadata": {
        "colab": {
          "base_uri": "https://localhost:8080/",
          "height": 449
        },
        "id": "2ThaSTEol4Ca",
        "outputId": "277e3de6-e7c1-410e-f194-250a664c6c11"
      },
      "execution_count": 22,
      "outputs": [
        {
          "output_type": "display_data",
          "data": {
            "text/plain": [
              "<Figure size 640x480 with 1 Axes>"
            ],
            "image/png": "[encoded data removed]"
          },
          "metadata": {}
        }
      ]
    },
    {
      "cell_type": "markdown",
      "source": [
        "Se utiliza Robertutio para tweets en español. Los tweets no se preprocesan, no se amplina datos y se utilizan pesos para compensar las clases minoritarias. learning_rate = 0.00001, batchsize= 32, epochs= 8.\n",
        "\n",
        "\n",
        "#Resultados:\n",
        "##Training:\n",
        "\n",
        "\n",
        "```\n",
        "Epoch 1/8\n",
        "89/89 [==============================] - 211s 2s/step - loss: 0.2401 - categorical_accuracy: 0.4382 - val_loss: 0.2023 - val_categorical_accuracy: 0.5106\n",
        "Epoch 2/8\n",
        "89/89 [==============================] - 150s 2s/step - loss: 0.2062 - categorical_accuracy: 0.4883 - val_loss: 0.1791 - val_categorical_accuracy: 0.5444\n",
        "Epoch 3/8\n",
        "89/89 [==============================] - 159s 2s/step - loss: 0.1760 - categorical_accuracy: 0.5547 - val_loss: 0.1578 - val_categorical_accuracy: 0.5712\n",
        "Epoch 4/8\n",
        "89/89 [==============================] - 150s 2s/step - loss: 0.1496 - categorical_accuracy: 0.6052 - val_loss: 0.1481 - val_categorical_accuracy: 0.5994\n",
        "Epoch 5/8\n",
        "89/89 [==============================] - 158s 2s/step - loss: 0.1217 - categorical_accuracy: 0.6585 - val_loss: 0.1412 - val_categorical_accuracy: 0.6206\n",
        "Epoch 6/8\n",
        "89/89 [==============================] - 150s 2s/step - loss: 0.1003 - categorical_accuracy: 0.7225 - val_loss: 0.1443 - val_categorical_accuracy: 0.6361\n",
        "Epoch 7/8\n",
        "89/89 [==============================] - 158s 2s/step - loss: 0.0792 - categorical_accuracy: 0.7705 - val_loss: 0.1441 - val_categorical_accuracy: 0.6516\n",
        "```\n",
        "##Evaluación:\n",
        "\n",
        "\n",
        "\n",
        "```\n",
        "68/68 [==============================] - 36s 529ms/step - loss: 0.1646 - categorical_accuracy: 0.6324\n",
        "Loss: 0.16464786231517792\n",
        "Accuracy: 0.6324074268341064\n",
        "```\n",
        "\n",
        "\n",
        "\n",
        "\n"
      ],
      "metadata": {
        "id": "tlofP78n7Awz"
      }
    },
    {
      "cell_type": "markdown",
      "source": [
        "Se utiliza Robertutio para tweets en español. Los tweets no se preprocesan, no se amplina datos y se utilizan pesos para compensar las clases minoritarias. learning_rate = 0.00001, batchsize= 16, epochs= 8.\n",
        "\n",
        "#Training:\n",
        "\n",
        "\n",
        "\n",
        "```\n",
        "Epoch 1/8\n",
        "177/177 [==============================] - 218s 944ms/step - loss: 0.2343 - categorical_accuracy: 0.4470 - val_loss: 0.1883 - val_categorical_accuracy: 0.5148\n",
        "Epoch 2/8\n",
        "177/177 [==============================] - 162s 918ms/step - loss: 0.1847 - categorical_accuracy: 0.5297 - val_loss: 0.1591 - val_categorical_accuracy: 0.5684\n",
        "Epoch 3/8\n",
        "177/177 [==============================] - 162s 915ms/step - loss: 0.1446 - categorical_accuracy: 0.5992 - val_loss: 0.1434 - val_categorical_accuracy: 0.6065\n",
        "Epoch 4/8\n",
        "177/177 [==============================] - 161s 912ms/step - loss: 0.1114 - categorical_accuracy: 0.6797 - val_loss: 0.1398 - val_categorical_accuracy: 0.6347\n",
        "Epoch 5/8\n",
        "177/177 [==============================] - 162s 913ms/step - loss: 0.0818 - categorical_accuracy: 0.7560 - val_loss: 0.1443 - val_categorical_accuracy: 0.6460\n",
        "Epoch 6/8\n",
        "177/177 [==============================] - 161s 911ms/step - loss: 0.0597 - categorical_accuracy: 0.8157 - val_loss: 0.1535 - val_categorical_accuracy: 0.6756\n",
        "```\n",
        "\n",
        "#Evaluación:\n",
        "\n",
        "\n",
        "\n",
        "```\n",
        "68/68 [==============================] - 37s 539ms/step - loss: 0.1856 - categorical_accuracy: 0.6338\n",
        "Loss: 0.18560223281383514\n",
        "Accuracy: 0.6337962746620178\n",
        "```\n",
        "\n",
        "\n",
        "\n",
        "\n"
      ],
      "metadata": {
        "id": "1jU01eNr8ZDz"
      }
    },
    {
      "cell_type": "markdown",
      "source": [
        "Se utiliza Robertutio para tweets en español. Los tweets no se preprocesan,  se amplian datos medainte técnica swapping y se utilizan pesos para compensar las clases minoritarias. learning_rate = 0.00001, batchsize= 32/16, epochs= 8.\n",
        "\n",
        "#Training: batct_size= 32\n",
        "\n",
        "\n",
        "\n",
        "```\n",
        "Epoch 1/8\n",
        "151/151 [==============================] - 335s 2s/step - loss: 0.2241 - categorical_accuracy: 0.4005 - val_loss: 0.1738 - val_categorical_accuracy: 0.5203\n",
        "Epoch 2/8\n",
        "151/151 [==============================] - 284s 2s/step - loss: 0.1689 - categorical_accuracy: 0.5248 - val_loss: 0.1319 - val_categorical_accuracy: 0.6055\n",
        "Epoch 3/8\n",
        "151/151 [==============================] - 284s 2s/step - loss: 0.1274 - categorical_accuracy: 0.6190 - val_loss: 0.1089 - val_categorical_accuracy: 0.6816\n",
        "Epoch 4/8\n",
        "151/151 [==============================] - 284s 2s/step - loss: 0.0959 - categorical_accuracy: 0.7028 - val_loss: 0.0953 - val_categorical_accuracy: 0.7130\n",
        "Epoch 5/8\n",
        "151/151 [==============================] - 263s 2s/step - loss: 0.0712 - categorical_accuracy: 0.7676 - val_loss: 0.0879 - val_categorical_accuracy: 0.7535\n",
        "Epoch 6/8\n",
        "151/151 [==============================] - 283s 2s/step - loss: 0.0499 - categorical_accuracy: 0.8216 - val_loss: 0.0835 - val_categorical_accuracy: 0.8007\n",
        "Epoch 7/8\n",
        "151/151 [==============================] - 283s 2s/step - loss: 0.0345 - categorical_accuracy: 0.8624 - val_loss: 0.0830 - val_categorical_accuracy: 0.8131\n",
        "Epoch 8/8\n",
        "151/151 [==============================] - 283s 2s/step - loss: 0.0251 - categorical_accuracy: 0.9011 - val_loss: 0.0824 - val_categorical_accuracy: 0.8255\n",
        "```\n",
        "#Evaluación:\n",
        "\n",
        "\n",
        "```\n",
        "68/68 [==============================] - 38s 555ms/step - loss: 0.2027 - categorical_accuracy: 0.6495\n",
        "Loss: 0.2026636004447937\n",
        "Accuracy: 0.6495370268821716\n",
        "```\n",
        "\n",
        "\n"
      ],
      "metadata": {
        "id": "GyCzxJy-CaQX"
      }
    },
    {
      "cell_type": "markdown",
      "source": [
        "#Training: batct_size= 16\n",
        "\n",
        "\n",
        "\n",
        "```\n",
        "Epoch 1/8\n",
        "302/302 [==============================] - 337s 969ms/step - loss: 0.2172 - categorical_accuracy: 0.4259 - val_loss: 0.1628 - val_categorical_accuracy: 0.5095\n",
        "Epoch 2/8\n",
        "302/302 [==============================] - 259s 859ms/step - loss: 0.1508 - categorical_accuracy: 0.5675 - val_loss: 0.1145 - val_categorical_accuracy: 0.6460\n",
        "Epoch 3/8\n",
        "302/302 [==============================] - 279s 926ms/step - loss: 0.1046 - categorical_accuracy: 0.6805 - val_loss: 0.0920 - val_categorical_accuracy: 0.7221\n",
        "Epoch 4/8\n",
        "302/302 [==============================] - 278s 921ms/step - loss: 0.0685 - categorical_accuracy: 0.7742 - val_loss: 0.0790 - val_categorical_accuracy: 0.7825\n",
        "Epoch 5/8\n",
        "302/302 [==============================] - 258s 853ms/step - loss: 0.0435 - categorical_accuracy: 0.8413 - val_loss: 0.0781 - val_categorical_accuracy: 0.8238\n",
        "Epoch 6/8\n",
        "302/302 [==============================] - 277s 919ms/step - loss: 0.0280 - categorical_accuracy: 0.8887 - val_loss: 0.0772 - val_categorical_accuracy: 0.8304\n",
        "Epoch 7/8\n",
        "302/302 [==============================] - 278s 920ms/step - loss: 0.0182 - categorical_accuracy: 0.9220 - val_loss: 0.0810 - val_categorical_accuracy: 0.8536\n",
        "Epoch 8/8\n",
        "302/302 [==============================] - 277s 919ms/step - loss: 0.0127 - categorical_accuracy: 0.9410 - val_loss: 0.0848 - val_categorical_accuracy: 0.8586\n",
        "```\n",
        "\n",
        "#Evaluación:\n",
        "\n",
        "\n",
        "```\n",
        "68/68 [==============================] - 36s 528ms/step - loss: 0.2524 - categorical_accuracy: 0.6532\n",
        "Loss: 0.2523668110370636\n",
        "Accuracy: 0.6532407402992249\n",
        "```\n",
        "\n"
      ],
      "metadata": {
        "id": "YLG3tv0nhlF7"
      }
    }
  ]
}